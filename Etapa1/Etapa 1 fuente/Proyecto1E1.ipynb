{
 "cells": [
  {
   "cell_type": "markdown",
   "id": "5af86a7c-fea5-4876-a6b0-a0389acee5b1",
   "metadata": {},
   "source": [
    "# Proyecto 1 - Etapa 1\n",
    "\n",
    "## Trabajo en equipo (8%)\n",
    "\n"
   ]
  },
  {
   "cell_type": "markdown",
   "id": "3c1f45b4-c9a6-419c-96b8-6bd3edb4c4f8",
   "metadata": {},
   "source": [
    "## Contexto: Descripción general Fondo de Poblaciones de las Naciones Unidas\n",
    "El Fondo de Poblaciones de las Naciones Unidas (UNFPA) junto con entidades públicas y haciendo uso de diferentes herramientas de participación ciudadana, busca identificar problemas y evaluar soluciones actuales, relacionando la información dada por los ciudadanos con los diferentes Objetivos de Desarrollo Sostenible (ODS). Los ODS fueron adoptados por las Naciones Unidas en 2015 como un llamamiento universal para poner fin a la pobreza, proteger el planeta y garantizar que para el 2030 todas las personas disfruten de paz y prosperidad. \n",
    "\n",
    "\n",
    "En este contexto, uno de los procesos que requiere mayor esfuerzo es el análisis de la información textual recopilada, ya que consume muchos recursos, que incluyen la participación de un experto. Es así como el UNFPA quiere desarrollar un proyecto con ustedes, donde el objetivo principal es relacionar de forma automática opiniones de los ciudadanos con los ODS 3, 4 y 5. A nivel de la solución a plantear deben aplicar la metodología de desarrollo de aplicaciones analíticas para crear un modelo analítico que sea utilizado y reentrenado por medio de una aplicación web o móvil a partir de un conjunto de opiniones que contienen texto en lenguaje natural. lenguaje natural"
   ]
  },
  {
   "cell_type": "markdown",
   "id": "d7bd4c7e-4b83-4e7e-ac6d-b9b6c23831ec",
   "metadata": {},
   "source": [
    "# 0. Preparación del entorno de trabajo"
   ]
  },
  {
   "cell_type": "code",
   "execution_count": 4,
   "id": "ff75f944-775a-4672-9df8-cb391b7040c2",
   "metadata": {},
   "outputs": [
    {
     "name": "stdout",
     "output_type": "stream",
     "text": [
      "Requirement already satisfied: pip in c:\\users\\santiago\\anaconda3\\lib\\site-packages (24.2)\n",
      "Found existing installation: joblib 1.1.0\n",
      "Uninstalling joblib-1.1.0:\n",
      "  Successfully uninstalled joblib-1.1.0\n",
      "Found existing installation: visions 0.7.6\n",
      "Uninstalling visions-0.7.6:\n",
      "  Successfully uninstalled visions-0.7.6\n"
     ]
    },
    {
     "name": "stderr",
     "output_type": "stream",
     "text": [
      "ERROR: pip's dependency resolver does not currently take into account all the packages that are installed. This behaviour is the source of the following dependency conflicts.\n",
      "pandas-profiling 3.2.0 requires visions[type_image_path]==0.7.4, which is not installed.\n",
      "ydata-profiling 4.9.0 requires visions[type_image_path]<0.7.7,>=0.7.5, which is not installed.\n",
      "pandas-profiling 3.2.0 requires joblib~=1.1.0, but you have joblib 1.4.2 which is incompatible.\n"
     ]
    },
    {
     "name": "stdout",
     "output_type": "stream",
     "text": [
      "\u001b[38;5;2m[+] Download and installation successful\u001b[0m\n",
      "You can now load the package via spacy.load('es_core_news_sm')\n",
      "Collecting joblib==1.1.0\n",
      "  Using cached joblib-1.1.0-py2.py3-none-any.whl.metadata (5.2 kB)\n",
      "Collecting visions==0.7.4 (from visions[type_image_path]==0.7.4)\n",
      "  Using cached visions-0.7.4-py3-none-any.whl.metadata (5.9 kB)\n",
      "Requirement already satisfied: numpy in c:\\users\\santiago\\anaconda3\\lib\\site-packages (from visions==0.7.4->visions[type_image_path]==0.7.4) (1.26.4)\n",
      "Requirement already satisfied: pandas>=0.25.3 in c:\\users\\santiago\\anaconda3\\lib\\site-packages (from visions==0.7.4->visions[type_image_path]==0.7.4) (2.2.2)\n",
      "Requirement already satisfied: attrs>=19.3.0 in c:\\users\\santiago\\anaconda3\\lib\\site-packages (from visions==0.7.4->visions[type_image_path]==0.7.4) (23.1.0)\n",
      "Requirement already satisfied: networkx>=2.4 in c:\\users\\santiago\\anaconda3\\lib\\site-packages (from visions==0.7.4->visions[type_image_path]==0.7.4) (3.2.1)\n",
      "Requirement already satisfied: tangled-up-in-unicode>=0.0.4 in c:\\users\\santiago\\anaconda3\\lib\\site-packages (from visions==0.7.4->visions[type_image_path]==0.7.4) (0.2.0)\n",
      "Requirement already satisfied: multimethod>=1.4 in c:\\users\\santiago\\anaconda3\\lib\\site-packages (from visions==0.7.4->visions[type_image_path]==0.7.4) (1.12)\n",
      "Requirement already satisfied: imagehash in c:\\users\\santiago\\anaconda3\\lib\\site-packages (from visions[type_image_path]==0.7.4) (4.3.1)\n",
      "Requirement already satisfied: Pillow in c:\\users\\santiago\\anaconda3\\lib\\site-packages (from visions[type_image_path]==0.7.4) (10.3.0)\n",
      "Requirement already satisfied: python-dateutil>=2.8.2 in c:\\users\\santiago\\anaconda3\\lib\\site-packages (from pandas>=0.25.3->visions==0.7.4->visions[type_image_path]==0.7.4) (2.9.0.post0)\n",
      "Requirement already satisfied: pytz>=2020.1 in c:\\users\\santiago\\anaconda3\\lib\\site-packages (from pandas>=0.25.3->visions==0.7.4->visions[type_image_path]==0.7.4) (2024.1)\n",
      "Requirement already satisfied: tzdata>=2022.7 in c:\\users\\santiago\\anaconda3\\lib\\site-packages (from pandas>=0.25.3->visions==0.7.4->visions[type_image_path]==0.7.4) (2023.3)\n",
      "Requirement already satisfied: PyWavelets in c:\\users\\santiago\\anaconda3\\lib\\site-packages (from imagehash->visions[type_image_path]==0.7.4) (1.5.0)\n",
      "Requirement already satisfied: scipy in c:\\users\\santiago\\anaconda3\\lib\\site-packages (from imagehash->visions[type_image_path]==0.7.4) (1.13.1)\n",
      "Requirement already satisfied: six>=1.5 in c:\\users\\santiago\\anaconda3\\lib\\site-packages (from python-dateutil>=2.8.2->pandas>=0.25.3->visions==0.7.4->visions[type_image_path]==0.7.4) (1.16.0)\n",
      "Using cached joblib-1.1.0-py2.py3-none-any.whl (306 kB)\n",
      "Using cached visions-0.7.4-py3-none-any.whl (102 kB)\n",
      "Installing collected packages: joblib, visions\n",
      "  Attempting uninstall: joblib\n",
      "    Found existing installation: joblib 1.4.2\n",
      "    Uninstalling joblib-1.4.2:\n",
      "      Successfully uninstalled joblib-1.4.2\n",
      "Successfully installed joblib-1.1.0 visions-0.7.4\n"
     ]
    },
    {
     "name": "stderr",
     "output_type": "stream",
     "text": [
      "ERROR: pip's dependency resolver does not currently take into account all the packages that are installed. This behaviour is the source of the following dependency conflicts.\n",
      "imbalanced-learn 0.12.3 requires joblib>=1.1.1, but you have joblib 1.1.0 which is incompatible.\n",
      "scikit-learn 1.4.2 requires joblib>=1.2.0, but you have joblib 1.1.0 which is incompatible.\n",
      "ydata-profiling 4.9.0 requires visions[type_image_path]<0.7.7,>=0.7.5, but you have visions 0.7.4 which is incompatible.\n"
     ]
    },
    {
     "name": "stdout",
     "output_type": "stream",
     "text": [
      "Requirement already satisfied: pandas-profiling==3.2.0 in c:\\users\\santiago\\anaconda3\\lib\\site-packages (3.2.0)\n",
      "Requirement already satisfied: joblib~=1.1.0 in c:\\users\\santiago\\anaconda3\\lib\\site-packages (from pandas-profiling==3.2.0) (1.1.0)\n",
      "Requirement already satisfied: scipy>=1.4.1 in c:\\users\\santiago\\anaconda3\\lib\\site-packages (from pandas-profiling==3.2.0) (1.13.1)\n",
      "Requirement already satisfied: pandas!=1.0.0,!=1.0.1,!=1.0.2,!=1.1.0,>=0.25.3 in c:\\users\\santiago\\anaconda3\\lib\\site-packages (from pandas-profiling==3.2.0) (2.2.2)\n",
      "Requirement already satisfied: matplotlib>=3.2.0 in c:\\users\\santiago\\anaconda3\\lib\\site-packages (from pandas-profiling==3.2.0) (3.8.4)\n",
      "Requirement already satisfied: pydantic>=1.8.1 in c:\\users\\santiago\\anaconda3\\lib\\site-packages (from pandas-profiling==3.2.0) (2.5.3)\n",
      "Requirement already satisfied: PyYAML>=5.0.0 in c:\\users\\santiago\\anaconda3\\lib\\site-packages (from pandas-profiling==3.2.0) (6.0.1)\n",
      "Requirement already satisfied: jinja2>=2.11.1 in c:\\users\\santiago\\anaconda3\\lib\\site-packages (from pandas-profiling==3.2.0) (3.1.4)\n",
      "Requirement already satisfied: markupsafe~=2.1.1 in c:\\users\\santiago\\anaconda3\\lib\\site-packages (from pandas-profiling==3.2.0) (2.1.3)\n",
      "Requirement already satisfied: visions==0.7.4 in c:\\users\\santiago\\anaconda3\\lib\\site-packages (from visions[type_image_path]==0.7.4->pandas-profiling==3.2.0) (0.7.4)\n",
      "Requirement already satisfied: numpy>=1.16.0 in c:\\users\\santiago\\anaconda3\\lib\\site-packages (from pandas-profiling==3.2.0) (1.26.4)\n",
      "Requirement already satisfied: htmlmin>=0.1.12 in c:\\users\\santiago\\anaconda3\\lib\\site-packages (from pandas-profiling==3.2.0) (0.1.12)\n",
      "Requirement already satisfied: missingno>=0.4.2 in c:\\users\\santiago\\anaconda3\\lib\\site-packages (from pandas-profiling==3.2.0) (0.5.2)\n",
      "Requirement already satisfied: phik>=0.11.1 in c:\\users\\santiago\\anaconda3\\lib\\site-packages (from pandas-profiling==3.2.0) (0.12.4)\n",
      "Requirement already satisfied: tangled-up-in-unicode==0.2.0 in c:\\users\\santiago\\anaconda3\\lib\\site-packages (from pandas-profiling==3.2.0) (0.2.0)\n",
      "Requirement already satisfied: requests>=2.24.0 in c:\\users\\santiago\\anaconda3\\lib\\site-packages (from pandas-profiling==3.2.0) (2.32.2)\n",
      "Requirement already satisfied: tqdm>=4.48.2 in c:\\users\\santiago\\anaconda3\\lib\\site-packages (from pandas-profiling==3.2.0) (4.66.4)\n",
      "Requirement already satisfied: seaborn>=0.10.1 in c:\\users\\santiago\\anaconda3\\lib\\site-packages (from pandas-profiling==3.2.0) (0.13.2)\n",
      "Requirement already satisfied: multimethod>=1.4 in c:\\users\\santiago\\anaconda3\\lib\\site-packages (from pandas-profiling==3.2.0) (1.12)\n",
      "Requirement already satisfied: attrs>=19.3.0 in c:\\users\\santiago\\anaconda3\\lib\\site-packages (from visions==0.7.4->visions[type_image_path]==0.7.4->pandas-profiling==3.2.0) (23.1.0)\n",
      "Requirement already satisfied: networkx>=2.4 in c:\\users\\santiago\\anaconda3\\lib\\site-packages (from visions==0.7.4->visions[type_image_path]==0.7.4->pandas-profiling==3.2.0) (3.2.1)\n",
      "Requirement already satisfied: imagehash in c:\\users\\santiago\\anaconda3\\lib\\site-packages (from visions[type_image_path]==0.7.4->pandas-profiling==3.2.0) (4.3.1)\n",
      "Requirement already satisfied: Pillow in c:\\users\\santiago\\anaconda3\\lib\\site-packages (from visions[type_image_path]==0.7.4->pandas-profiling==3.2.0) (10.3.0)\n",
      "Requirement already satisfied: contourpy>=1.0.1 in c:\\users\\santiago\\anaconda3\\lib\\site-packages (from matplotlib>=3.2.0->pandas-profiling==3.2.0) (1.2.0)\n",
      "Requirement already satisfied: cycler>=0.10 in c:\\users\\santiago\\anaconda3\\lib\\site-packages (from matplotlib>=3.2.0->pandas-profiling==3.2.0) (0.11.0)\n",
      "Requirement already satisfied: fonttools>=4.22.0 in c:\\users\\santiago\\anaconda3\\lib\\site-packages (from matplotlib>=3.2.0->pandas-profiling==3.2.0) (4.51.0)\n",
      "Requirement already satisfied: kiwisolver>=1.3.1 in c:\\users\\santiago\\anaconda3\\lib\\site-packages (from matplotlib>=3.2.0->pandas-profiling==3.2.0) (1.4.4)\n",
      "Requirement already satisfied: packaging>=20.0 in c:\\users\\santiago\\anaconda3\\lib\\site-packages (from matplotlib>=3.2.0->pandas-profiling==3.2.0) (23.2)\n",
      "Requirement already satisfied: pyparsing>=2.3.1 in c:\\users\\santiago\\anaconda3\\lib\\site-packages (from matplotlib>=3.2.0->pandas-profiling==3.2.0) (3.0.9)\n",
      "Requirement already satisfied: python-dateutil>=2.7 in c:\\users\\santiago\\anaconda3\\lib\\site-packages (from matplotlib>=3.2.0->pandas-profiling==3.2.0) (2.9.0.post0)\n",
      "Requirement already satisfied: pytz>=2020.1 in c:\\users\\santiago\\anaconda3\\lib\\site-packages (from pandas!=1.0.0,!=1.0.1,!=1.0.2,!=1.1.0,>=0.25.3->pandas-profiling==3.2.0) (2024.1)\n",
      "Requirement already satisfied: tzdata>=2022.7 in c:\\users\\santiago\\anaconda3\\lib\\site-packages (from pandas!=1.0.0,!=1.0.1,!=1.0.2,!=1.1.0,>=0.25.3->pandas-profiling==3.2.0) (2023.3)\n",
      "Requirement already satisfied: annotated-types>=0.4.0 in c:\\users\\santiago\\anaconda3\\lib\\site-packages (from pydantic>=1.8.1->pandas-profiling==3.2.0) (0.6.0)\n",
      "Requirement already satisfied: pydantic-core==2.14.6 in c:\\users\\santiago\\anaconda3\\lib\\site-packages (from pydantic>=1.8.1->pandas-profiling==3.2.0) (2.14.6)\n",
      "Requirement already satisfied: typing-extensions>=4.6.1 in c:\\users\\santiago\\anaconda3\\lib\\site-packages (from pydantic>=1.8.1->pandas-profiling==3.2.0) (4.11.0)\n",
      "Requirement already satisfied: charset-normalizer<4,>=2 in c:\\users\\santiago\\anaconda3\\lib\\site-packages (from requests>=2.24.0->pandas-profiling==3.2.0) (2.0.4)\n",
      "Requirement already satisfied: idna<4,>=2.5 in c:\\users\\santiago\\anaconda3\\lib\\site-packages (from requests>=2.24.0->pandas-profiling==3.2.0) (3.7)\n",
      "Requirement already satisfied: urllib3<3,>=1.21.1 in c:\\users\\santiago\\anaconda3\\lib\\site-packages (from requests>=2.24.0->pandas-profiling==3.2.0) (2.2.2)\n",
      "Requirement already satisfied: certifi>=2017.4.17 in c:\\users\\santiago\\anaconda3\\lib\\site-packages (from requests>=2.24.0->pandas-profiling==3.2.0) (2024.7.4)\n",
      "Requirement already satisfied: colorama in c:\\users\\santiago\\anaconda3\\lib\\site-packages (from tqdm>=4.48.2->pandas-profiling==3.2.0) (0.4.6)\n",
      "Requirement already satisfied: six>=1.5 in c:\\users\\santiago\\anaconda3\\lib\\site-packages (from python-dateutil>=2.7->matplotlib>=3.2.0->pandas-profiling==3.2.0) (1.16.0)\n",
      "Requirement already satisfied: PyWavelets in c:\\users\\santiago\\anaconda3\\lib\\site-packages (from imagehash->visions[type_image_path]==0.7.4->pandas-profiling==3.2.0) (1.5.0)\n",
      "Requirement already satisfied: ydata-profiling==4.9.0 in c:\\users\\santiago\\anaconda3\\lib\\site-packages (4.9.0)\n",
      "Requirement already satisfied: scipy<1.14,>=1.4.1 in c:\\users\\santiago\\anaconda3\\lib\\site-packages (from ydata-profiling==4.9.0) (1.13.1)\n",
      "Requirement already satisfied: pandas!=1.4.0,<3,>1.1 in c:\\users\\santiago\\anaconda3\\lib\\site-packages (from ydata-profiling==4.9.0) (2.2.2)\n",
      "Requirement already satisfied: matplotlib<3.10,>=3.5 in c:\\users\\santiago\\anaconda3\\lib\\site-packages (from ydata-profiling==4.9.0) (3.8.4)\n",
      "Requirement already satisfied: pydantic>=2 in c:\\users\\santiago\\anaconda3\\lib\\site-packages (from ydata-profiling==4.9.0) (2.5.3)\n",
      "Requirement already satisfied: PyYAML<6.1,>=5.0.0 in c:\\users\\santiago\\anaconda3\\lib\\site-packages (from ydata-profiling==4.9.0) (6.0.1)\n",
      "Requirement already satisfied: jinja2<3.2,>=2.11.1 in c:\\users\\santiago\\anaconda3\\lib\\site-packages (from ydata-profiling==4.9.0) (3.1.4)\n",
      "Collecting visions<0.7.7,>=0.7.5 (from visions[type_image_path]<0.7.7,>=0.7.5->ydata-profiling==4.9.0)\n",
      "  Using cached visions-0.7.6-py3-none-any.whl.metadata (11 kB)\n",
      "Requirement already satisfied: numpy<2,>=1.16.0 in c:\\users\\santiago\\anaconda3\\lib\\site-packages (from ydata-profiling==4.9.0) (1.26.4)\n",
      "Requirement already satisfied: htmlmin==0.1.12 in c:\\users\\santiago\\anaconda3\\lib\\site-packages (from ydata-profiling==4.9.0) (0.1.12)\n",
      "Requirement already satisfied: phik<0.13,>=0.11.1 in c:\\users\\santiago\\anaconda3\\lib\\site-packages (from ydata-profiling==4.9.0) (0.12.4)\n",
      "Requirement already satisfied: requests<3,>=2.24.0 in c:\\users\\santiago\\anaconda3\\lib\\site-packages (from ydata-profiling==4.9.0) (2.32.2)\n",
      "Requirement already satisfied: tqdm<5,>=4.48.2 in c:\\users\\santiago\\anaconda3\\lib\\site-packages (from ydata-profiling==4.9.0) (4.66.4)\n",
      "Requirement already satisfied: seaborn<0.14,>=0.10.1 in c:\\users\\santiago\\anaconda3\\lib\\site-packages (from ydata-profiling==4.9.0) (0.13.2)\n",
      "Requirement already satisfied: multimethod<2,>=1.4 in c:\\users\\santiago\\anaconda3\\lib\\site-packages (from ydata-profiling==4.9.0) (1.12)\n",
      "Requirement already satisfied: statsmodels<1,>=0.13.2 in c:\\users\\santiago\\anaconda3\\lib\\site-packages (from ydata-profiling==4.9.0) (0.14.2)\n",
      "Requirement already satisfied: typeguard<5,>=3 in c:\\users\\santiago\\anaconda3\\lib\\site-packages (from ydata-profiling==4.9.0) (4.3.0)\n",
      "Requirement already satisfied: imagehash==4.3.1 in c:\\users\\santiago\\anaconda3\\lib\\site-packages (from ydata-profiling==4.9.0) (4.3.1)\n",
      "Requirement already satisfied: wordcloud>=1.9.1 in c:\\users\\santiago\\anaconda3\\lib\\site-packages (from ydata-profiling==4.9.0) (1.9.3)\n",
      "Requirement already satisfied: dacite>=1.8 in c:\\users\\santiago\\anaconda3\\lib\\site-packages (from ydata-profiling==4.9.0) (1.8.1)\n",
      "Requirement already satisfied: numba<1,>=0.56.0 in c:\\users\\santiago\\anaconda3\\lib\\site-packages (from ydata-profiling==4.9.0) (0.60.0)\n",
      "Requirement already satisfied: PyWavelets in c:\\users\\santiago\\anaconda3\\lib\\site-packages (from imagehash==4.3.1->ydata-profiling==4.9.0) (1.5.0)\n",
      "Requirement already satisfied: pillow in c:\\users\\santiago\\anaconda3\\lib\\site-packages (from imagehash==4.3.1->ydata-profiling==4.9.0) (10.3.0)\n",
      "Requirement already satisfied: MarkupSafe>=2.0 in c:\\users\\santiago\\anaconda3\\lib\\site-packages (from jinja2<3.2,>=2.11.1->ydata-profiling==4.9.0) (2.1.3)\n",
      "Requirement already satisfied: contourpy>=1.0.1 in c:\\users\\santiago\\anaconda3\\lib\\site-packages (from matplotlib<3.10,>=3.5->ydata-profiling==4.9.0) (1.2.0)\n",
      "Requirement already satisfied: cycler>=0.10 in c:\\users\\santiago\\anaconda3\\lib\\site-packages (from matplotlib<3.10,>=3.5->ydata-profiling==4.9.0) (0.11.0)\n",
      "Requirement already satisfied: fonttools>=4.22.0 in c:\\users\\santiago\\anaconda3\\lib\\site-packages (from matplotlib<3.10,>=3.5->ydata-profiling==4.9.0) (4.51.0)\n",
      "Requirement already satisfied: kiwisolver>=1.3.1 in c:\\users\\santiago\\anaconda3\\lib\\site-packages (from matplotlib<3.10,>=3.5->ydata-profiling==4.9.0) (1.4.4)\n",
      "Requirement already satisfied: packaging>=20.0 in c:\\users\\santiago\\anaconda3\\lib\\site-packages (from matplotlib<3.10,>=3.5->ydata-profiling==4.9.0) (23.2)\n",
      "Requirement already satisfied: pyparsing>=2.3.1 in c:\\users\\santiago\\anaconda3\\lib\\site-packages (from matplotlib<3.10,>=3.5->ydata-profiling==4.9.0) (3.0.9)\n",
      "Requirement already satisfied: python-dateutil>=2.7 in c:\\users\\santiago\\anaconda3\\lib\\site-packages (from matplotlib<3.10,>=3.5->ydata-profiling==4.9.0) (2.9.0.post0)\n",
      "Requirement already satisfied: llvmlite<0.44,>=0.43.0dev0 in c:\\users\\santiago\\anaconda3\\lib\\site-packages (from numba<1,>=0.56.0->ydata-profiling==4.9.0) (0.43.0)\n",
      "Requirement already satisfied: pytz>=2020.1 in c:\\users\\santiago\\anaconda3\\lib\\site-packages (from pandas!=1.4.0,<3,>1.1->ydata-profiling==4.9.0) (2024.1)\n",
      "Requirement already satisfied: tzdata>=2022.7 in c:\\users\\santiago\\anaconda3\\lib\\site-packages (from pandas!=1.4.0,<3,>1.1->ydata-profiling==4.9.0) (2023.3)\n",
      "Requirement already satisfied: joblib>=0.14.1 in c:\\users\\santiago\\anaconda3\\lib\\site-packages (from phik<0.13,>=0.11.1->ydata-profiling==4.9.0) (1.1.0)\n",
      "Requirement already satisfied: annotated-types>=0.4.0 in c:\\users\\santiago\\anaconda3\\lib\\site-packages (from pydantic>=2->ydata-profiling==4.9.0) (0.6.0)\n",
      "Requirement already satisfied: pydantic-core==2.14.6 in c:\\users\\santiago\\anaconda3\\lib\\site-packages (from pydantic>=2->ydata-profiling==4.9.0) (2.14.6)\n",
      "Requirement already satisfied: typing-extensions>=4.6.1 in c:\\users\\santiago\\anaconda3\\lib\\site-packages (from pydantic>=2->ydata-profiling==4.9.0) (4.11.0)\n",
      "Requirement already satisfied: charset-normalizer<4,>=2 in c:\\users\\santiago\\anaconda3\\lib\\site-packages (from requests<3,>=2.24.0->ydata-profiling==4.9.0) (2.0.4)\n",
      "Requirement already satisfied: idna<4,>=2.5 in c:\\users\\santiago\\anaconda3\\lib\\site-packages (from requests<3,>=2.24.0->ydata-profiling==4.9.0) (3.7)\n",
      "Requirement already satisfied: urllib3<3,>=1.21.1 in c:\\users\\santiago\\anaconda3\\lib\\site-packages (from requests<3,>=2.24.0->ydata-profiling==4.9.0) (2.2.2)\n",
      "Requirement already satisfied: certifi>=2017.4.17 in c:\\users\\santiago\\anaconda3\\lib\\site-packages (from requests<3,>=2.24.0->ydata-profiling==4.9.0) (2024.7.4)\n",
      "Requirement already satisfied: patsy>=0.5.6 in c:\\users\\santiago\\anaconda3\\lib\\site-packages (from statsmodels<1,>=0.13.2->ydata-profiling==4.9.0) (0.5.6)\n",
      "Requirement already satisfied: colorama in c:\\users\\santiago\\anaconda3\\lib\\site-packages (from tqdm<5,>=4.48.2->ydata-profiling==4.9.0) (0.4.6)\n",
      "Requirement already satisfied: attrs>=19.3.0 in c:\\users\\santiago\\anaconda3\\lib\\site-packages (from visions<0.7.7,>=0.7.5->visions[type_image_path]<0.7.7,>=0.7.5->ydata-profiling==4.9.0) (23.1.0)\n",
      "Requirement already satisfied: networkx>=2.4 in c:\\users\\santiago\\anaconda3\\lib\\site-packages (from visions<0.7.7,>=0.7.5->visions[type_image_path]<0.7.7,>=0.7.5->ydata-profiling==4.9.0) (3.2.1)\n",
      "Requirement already satisfied: six in c:\\users\\santiago\\anaconda3\\lib\\site-packages (from patsy>=0.5.6->statsmodels<1,>=0.13.2->ydata-profiling==4.9.0) (1.16.0)\n",
      "Using cached visions-0.7.6-py3-none-any.whl (104 kB)\n",
      "Installing collected packages: visions\n",
      "  Attempting uninstall: visions\n",
      "    Found existing installation: visions 0.7.4\n",
      "    Uninstalling visions-0.7.4:\n",
      "      Successfully uninstalled visions-0.7.4\n",
      "Successfully installed visions-0.7.6\n"
     ]
    },
    {
     "name": "stderr",
     "output_type": "stream",
     "text": [
      "ERROR: pip's dependency resolver does not currently take into account all the packages that are installed. This behaviour is the source of the following dependency conflicts.\n",
      "pandas-profiling 3.2.0 requires visions[type_image_path]==0.7.4, but you have visions 0.7.6 which is incompatible.\n"
     ]
    },
    {
     "name": "stdout",
     "output_type": "stream",
     "text": [
      "Requirement already satisfied: langdetect in c:\\users\\santiago\\anaconda3\\lib\\site-packages (1.0.9)\n",
      "Requirement already satisfied: six in c:\\users\\santiago\\anaconda3\\lib\\site-packages (from langdetect) (1.16.0)\n"
     ]
    },
    {
     "name": "stderr",
     "output_type": "stream",
     "text": [
      "[nltk_data] Downloading package punkt to\n",
      "[nltk_data]     C:\\Users\\Santiago\\AppData\\Roaming\\nltk_data...\n",
      "[nltk_data]   Package punkt is already up-to-date!\n",
      "[nltk_data] Downloading package stopwords to\n",
      "[nltk_data]     C:\\Users\\Santiago\\AppData\\Roaming\\nltk_data...\n",
      "[nltk_data]   Package stopwords is already up-to-date!\n",
      "[nltk_data] Downloading package wordnet to\n",
      "[nltk_data]     C:\\Users\\Santiago\\AppData\\Roaming\\nltk_data...\n",
      "[nltk_data]   Package wordnet is already up-to-date!\n"
     ]
    }
   ],
   "source": [
    "import sys\n",
    "# Actualización de pip\n",
    "!{sys.executable} -m pip install --upgrade pip\n",
    "\n",
    "# Desinstalar versiones incompatibles de joblib y visions\n",
    "!pip uninstall joblib visions -y\n",
    "\n",
    "# Manejo de contracciones en inglés\n",
    "!pip install -q contractions\n",
    "\n",
    "# Librería para manejar las flexiones gramaticales en el idioma inglés\n",
    "!pip install -q inflect\n",
    "\n",
    "# Gráficas para scikit-learn\n",
    "!pip install -q scikit-plot\n",
    "\n",
    "# SpaCy para procesamiento de lenguaje natural\n",
    "!pip install -q -U spacy\n",
    "!python -m spacy download es_core_news_sm -q\n",
    "\n",
    "# Pandas para manejo de datos\n",
    "!pip install -q pandas\n",
    "\n",
    "# Instalar versiones específicas de joblib y visions\n",
    "!pip install joblib==1.1.0 visions[type_image_path]==0.7.4\n",
    "\n",
    "# Instalar pandas-profiling versión compatible\n",
    "!pip install pandas-profiling==3.2.0\n",
    "\n",
    "# Instalar ydata-profiling versión compatible\n",
    "!pip install ydata-profiling==4.9.0\n",
    "\n",
    "# tqdm para mostrar barras de progreso\n",
    "!pip install -q tqdm\n",
    "\n",
    "# Instalar langdetect para la detección de idiomas\n",
    "!pip install langdetect\n",
    "\n",
    "import nltk\n",
    "# Descargar modelos y datos de NLTK\n",
    "nltk.download('punkt')\n",
    "nltk.download('stopwords')\n",
    "nltk.download('wordnet')\n",
    "\n",
    "import pandas as pd\n",
    "import numpy as np\n",
    "import re, string, unicodedata\n",
    "import contractions\n",
    "import inflect\n",
    "from nltk import word_tokenize, sent_tokenize\n",
    "from nltk.corpus import stopwords\n",
    "from nltk.stem import SnowballStemmer, WordNetLemmatizer\n",
    "\n",
    "from sklearn.model_selection import train_test_split, GridSearchCV, KFold\n",
    "from sklearn.feature_extraction.text import TfidfVectorizer, CountVectorizer, HashingVectorizer\n",
    "from sklearn.pipeline import Pipeline, FeatureUnion\n",
    "from sklearn.svm import SVC\n",
    "from sklearn.ensemble import BaggingClassifier, RandomForestClassifier, AdaBoostClassifier\n",
    "from sklearn.naive_bayes import BernoulliNB, GaussianNB\n",
    "from sklearn.tree import DecisionTreeClassifier\n",
    "from sklearn.neighbors import KNeighborsClassifier\n",
    "from sklearn.metrics import classification_report, confusion_matrix, ConfusionMatrixDisplay\n",
    "from sklearn.metrics import precision_score, recall_score, f1_score, accuracy_score, make_scorer\n",
    "from sklearn.linear_model import Perceptron, LogisticRegression\n",
    "from sklearn.multiclass import OneVsRestClassifier\n",
    "\n",
    "import seaborn as sns\n",
    "import matplotlib.pyplot as plt\n",
    "from sklearn import tree\n",
    "import sklearn as sklearn\n",
    "from sklearn.base import BaseEstimator, ClassifierMixin\n",
    "from collections import Counter\n",
    "\n",
    "from tqdm import tqdm\n",
    "from langdetect import detect, DetectorFactory\n"
   ]
  },
  {
   "cell_type": "code",
   "execution_count": 5,
   "id": "a34c5da2-14b1-488b-9b0e-b332a4c9d81d",
   "metadata": {},
   "outputs": [],
   "source": [
    "def reemplazar_caracteres(texto):\n",
    "    if not isinstance(texto, str):\n",
    "        return texto\n",
    "    \n",
    "    # Reemplazar caracteres mal codificados\n",
    "    texto = texto.replace('Ã¡', 'a')\n",
    "    texto = texto.replace('Ã©', 'e')\n",
    "    texto = texto.replace('Ã­', 'i')\n",
    "    texto = texto.replace('Ã³', 'o')\n",
    "    texto = texto.replace('Ãº', 'u')\n",
    "    texto = texto.replace('Ã±', 'ñ')\n",
    "    return texto\n",
    "\n",
    "# Leer el archivo Excel\n",
    "df_sin_corregir = pd.read_excel('data/ODScat_345.xlsx', engine='openpyxl')\n",
    "\n",
    "# Aplicar la función de reemplazo a la columna de texto\n",
    "df_sin_corregir['Textos_espanol'] = df_sin_corregir['Textos_espanol'].apply(reemplazar_caracteres)\n",
    "\n",
    "# Guardar el DataFrame corregido como archivo CSV con codificación utf-8\n",
    "df_sin_corregir.to_csv('data/archivo_corregido.csv', encoding='utf-8', index=False)\n",
    "\n",
    "# Leer el archivo CSV para verificar\n",
    "df = pd.read_csv('data/archivo_corregido.csv', encoding='utf-8')\n"
   ]
  },
  {
   "cell_type": "markdown",
   "id": "d437faf3-64db-4529-b3bc-cda571d45b09",
   "metadata": {},
   "source": [
    "# 1. Entendimiento de los datos"
   ]
  },
  {
   "cell_type": "markdown",
   "id": "b98136f3-cc1e-45d4-8db4-28697a7ec0da",
   "metadata": {},
   "source": [
    "En esta etapa inicial, nos enfocamos en el perfilamiento y análisis de la calidad de los datos con el objetivo de obtener una comprensión profunda sobre su estructura, contenido y calidad. Esta fase es crucial para identificar posibles problemas y características que puedan influir en el tratamiento y preprocesamiento de los datos. "
   ]
  },
  {
   "cell_type": "markdown",
   "id": "84f4e002-37f6-4dc2-804a-4ed784702d2f",
   "metadata": {},
   "source": [
    "## 1.1 Número de registros y columnas\n",
    "En la siguiente celda se muestra el numero de registros y el numero de columnas del Dataframe."
   ]
  },
  {
   "cell_type": "code",
   "execution_count": 9,
   "id": "ffeb7a67-35b6-4e6e-9de8-41a619220a04",
   "metadata": {},
   "outputs": [
    {
     "data": {
      "text/plain": [
       "(4049, 2)"
      ]
     },
     "execution_count": 9,
     "metadata": {},
     "output_type": "execute_result"
    }
   ],
   "source": [
    "df.shape"
   ]
  },
  {
   "cell_type": "markdown",
   "id": "3675e93f-3ec8-4a4a-ac95-282c554ec020",
   "metadata": {},
   "source": [
    "Se logra ver que existen 4049 registros y 2 columnas."
   ]
  },
  {
   "cell_type": "markdown",
   "id": "6e76626e-4f90-4f9a-b30e-5a5958c5a40d",
   "metadata": {},
   "source": [
    "## 1.2 Tipo de Datos\n",
    "En la siguiente celda se va a mirar la validez de los datos. Apartir del resultado, se puede mostrar que las columnas con las que vamos a trabajar (Textos_espanol y sdg) no tienen tipos de datos anamolos y son validos debido a las reglas de negocio."
   ]
  },
  {
   "cell_type": "code",
   "execution_count": 12,
   "id": "1f66a88f-5b55-41a2-936c-7b1f5fef342e",
   "metadata": {},
   "outputs": [
    {
     "data": {
      "text/plain": [
       "Textos_espanol    object\n",
       "sdg                int64\n",
       "dtype: object"
      ]
     },
     "execution_count": 12,
     "metadata": {},
     "output_type": "execute_result"
    }
   ],
   "source": [
    "df.dtypes"
   ]
  },
  {
   "cell_type": "markdown",
   "id": "9af806bd-f86f-4be1-aa2e-8629b5919a76",
   "metadata": {},
   "source": [
    "## 1.3  Primeros Registros\n",
    "En esta sección, se examina la estructura de los datos para obtener una visión preliminar de su contenido."
   ]
  },
  {
   "cell_type": "code",
   "execution_count": 14,
   "id": "587fd6c8-bcc6-4917-bd62-ca01708bcee9",
   "metadata": {},
   "outputs": [
    {
     "data": {
      "text/html": [
       "<div>\n",
       "<style scoped>\n",
       "    .dataframe tbody tr th:only-of-type {\n",
       "        vertical-align: middle;\n",
       "    }\n",
       "\n",
       "    .dataframe tbody tr th {\n",
       "        vertical-align: top;\n",
       "    }\n",
       "\n",
       "    .dataframe thead th {\n",
       "        text-align: right;\n",
       "    }\n",
       "</style>\n",
       "<table border=\"1\" class=\"dataframe\">\n",
       "  <thead>\n",
       "    <tr style=\"text-align: right;\">\n",
       "      <th></th>\n",
       "      <th>Textos_espanol</th>\n",
       "      <th>sdg</th>\n",
       "    </tr>\n",
       "  </thead>\n",
       "  <tbody>\n",
       "    <tr>\n",
       "      <th>0</th>\n",
       "      <td>Por ejemplo, el numero de consultas externas d...</td>\n",
       "      <td>3</td>\n",
       "    </tr>\n",
       "    <tr>\n",
       "      <th>1</th>\n",
       "      <td>En 2007, el gobierno central financió directam...</td>\n",
       "      <td>3</td>\n",
       "    </tr>\n",
       "    <tr>\n",
       "      <th>2</th>\n",
       "      <td>Claramente, hay muchos otros factores en juego...</td>\n",
       "      <td>3</td>\n",
       "    </tr>\n",
       "    <tr>\n",
       "      <th>3</th>\n",
       "      <td>Por ejemplo, el estado australiano de Victoria...</td>\n",
       "      <td>3</td>\n",
       "    </tr>\n",
       "    <tr>\n",
       "      <th>4</th>\n",
       "      <td>El consumo anual de alcohol se estima en 15,7 ...</td>\n",
       "      <td>3</td>\n",
       "    </tr>\n",
       "  </tbody>\n",
       "</table>\n",
       "</div>"
      ],
      "text/plain": [
       "                                      Textos_espanol  sdg\n",
       "0  Por ejemplo, el numero de consultas externas d...    3\n",
       "1  En 2007, el gobierno central financió directam...    3\n",
       "2  Claramente, hay muchos otros factores en juego...    3\n",
       "3  Por ejemplo, el estado australiano de Victoria...    3\n",
       "4  El consumo anual de alcohol se estima en 15,7 ...    3"
      ]
     },
     "execution_count": 14,
     "metadata": {},
     "output_type": "execute_result"
    }
   ],
   "source": [
    "df.head()"
   ]
  },
  {
   "cell_type": "markdown",
   "id": "04cd1e67-f70d-453d-b583-b69acebecfb1",
   "metadata": {},
   "source": [
    "Al revisar los primeros registros del conjunto de datos, se evidencian dos columnas:\n",
    "* Textos_espanol: Contiene textos que representan opiniones en español sobre diversos temas.\n",
    "* sdg: Representa la categoría del Objetivo de Desarrollo Sostenible (ODS) al que corresponde cada opinión, expresada como un valor entero.\n",
    "\n",
    "\n",
    "El análisis de los primeros registros revela que la estructura de los datos es coherente con las expectativas del proyecto, con una columna dedicada a los textos y otra a la clasificación en categorías de ODS. Esta información inicial es fundamental para garantizar que los datos estén organizados de manera adecuada para el procesamiento posterior."
   ]
  },
  {
   "cell_type": "markdown",
   "id": "05308015-3980-4306-b8d6-1ba8abdb2c4d",
   "metadata": {},
   "source": [
    "## 1.4 Descripción de los datos\n",
    "En esta sección, se proporciona una visión general sobre la distribución de las categorías de los Objetivos de Desarrollo Sostenible (ODS) en el conjunto de datos."
   ]
  },
  {
   "cell_type": "code",
   "execution_count": 17,
   "id": "d46de4c4-b6d4-4124-b693-86abb57dc556",
   "metadata": {},
   "outputs": [
    {
     "data": {
      "text/html": [
       "<div>\n",
       "<style scoped>\n",
       "    .dataframe tbody tr th:only-of-type {\n",
       "        vertical-align: middle;\n",
       "    }\n",
       "\n",
       "    .dataframe tbody tr th {\n",
       "        vertical-align: top;\n",
       "    }\n",
       "\n",
       "    .dataframe thead th {\n",
       "        text-align: right;\n",
       "    }\n",
       "</style>\n",
       "<table border=\"1\" class=\"dataframe\">\n",
       "  <thead>\n",
       "    <tr style=\"text-align: right;\">\n",
       "      <th></th>\n",
       "      <th>sdg</th>\n",
       "    </tr>\n",
       "  </thead>\n",
       "  <tbody>\n",
       "    <tr>\n",
       "      <th>count</th>\n",
       "      <td>4049.000000</td>\n",
       "    </tr>\n",
       "    <tr>\n",
       "      <th>mean</th>\n",
       "      <td>4.051124</td>\n",
       "    </tr>\n",
       "    <tr>\n",
       "      <th>std</th>\n",
       "      <td>0.814338</td>\n",
       "    </tr>\n",
       "    <tr>\n",
       "      <th>min</th>\n",
       "      <td>3.000000</td>\n",
       "    </tr>\n",
       "    <tr>\n",
       "      <th>25%</th>\n",
       "      <td>3.000000</td>\n",
       "    </tr>\n",
       "    <tr>\n",
       "      <th>50%</th>\n",
       "      <td>4.000000</td>\n",
       "    </tr>\n",
       "    <tr>\n",
       "      <th>75%</th>\n",
       "      <td>5.000000</td>\n",
       "    </tr>\n",
       "    <tr>\n",
       "      <th>max</th>\n",
       "      <td>5.000000</td>\n",
       "    </tr>\n",
       "  </tbody>\n",
       "</table>\n",
       "</div>"
      ],
      "text/plain": [
       "               sdg\n",
       "count  4049.000000\n",
       "mean      4.051124\n",
       "std       0.814338\n",
       "min       3.000000\n",
       "25%       3.000000\n",
       "50%       4.000000\n",
       "75%       5.000000\n",
       "max       5.000000"
      ]
     },
     "execution_count": 17,
     "metadata": {},
     "output_type": "execute_result"
    }
   ],
   "source": [
    "df.describe()"
   ]
  },
  {
   "cell_type": "markdown",
   "id": "d9abf08d-9307-4086-bec3-9aa55f83be62",
   "metadata": {},
   "source": [
    "Estos resultados indican una distribución relativamente equilibrada entre las categorías de ODS 3, 4 y 5, con una ligera inclinación hacia los ODS 4 y 5. Esta información es útil para comprender la representatividad de cada categoría en el conjunto de datos y guiar el enfoque del análisis y modelado posterior."
   ]
  },
  {
   "cell_type": "markdown",
   "id": "fb60472c-17a2-4b12-b241-5cb151b2c4a6",
   "metadata": {},
   "source": [
    "## 1.5 Cantidad de nulos por columna\n",
    "En esta sección, se evalúa la presencia de valores nulos en cada columna del conjunto de datos."
   ]
  },
  {
   "cell_type": "code",
   "execution_count": 20,
   "id": "e97c6fe8-fb5e-4494-a202-b3be83276fb2",
   "metadata": {},
   "outputs": [
    {
     "data": {
      "text/plain": [
       "Textos_espanol    0\n",
       "sdg               0\n",
       "dtype: int64"
      ]
     },
     "execution_count": 20,
     "metadata": {},
     "output_type": "execute_result"
    }
   ],
   "source": [
    "df.isnull().sum()"
   ]
  },
  {
   "cell_type": "markdown",
   "id": "f4c8d917-583e-4d04-8695-72c91d648bd6",
   "metadata": {},
   "source": [
    "La ausencia de valores nulos en ambas columnas indica que el conjunto de datos está completo y no presenta problemas de integridad en cuanto a datos faltantes. Esta métrica de calidad es crucial, ya que la presencia de valores nulos podría afectar la precisión y confiabilidad de los análisis posteriores y del modelo de machine learning. La completa disponibilidad de datos garantiza una base sólida para llevar a cabo un análisis exhaustivo y desarrollar modelos predictivos efectivos."
   ]
  },
  {
   "cell_type": "markdown",
   "id": "2756aae8-768c-4080-bc55-8d2651a8617a",
   "metadata": {},
   "source": [
    "## 1.6 Cantidad de únicos por columna\n",
    "En esta sección, se examina la métrica de calidad de unicidad para evaluar la presencia de registros únicos en cada columna del conjunto de datos"
   ]
  },
  {
   "cell_type": "code",
   "execution_count": 23,
   "id": "25db14f0-efda-44b9-9ebe-c20f18b3d949",
   "metadata": {},
   "outputs": [
    {
     "data": {
      "text/plain": [
       "Textos_espanol    4049\n",
       "sdg                  3\n",
       "dtype: int64"
      ]
     },
     "execution_count": 23,
     "metadata": {},
     "output_type": "execute_result"
    }
   ],
   "source": [
    "df.nunique()"
   ]
  },
  {
   "cell_type": "markdown",
   "id": "0b62d7b1-86c1-44eb-93c5-f48873794987",
   "metadata": {},
   "source": [
    "El análisis muestra que la columna Textos_espanol contiene 4049 valores únicos, lo que sugiere que cada entrada de texto es distinta y no hay registros duplicados en esta columna. Esto garantiza que no haya errores relacionados con opiniones repetidas, lo cual es crucial para la validez de los datos. Por otro lado, la columna sdg tiene 3 valores únicos, correspondientes a los tres ODS (3, 4 y 5) incluidos en el conjunto de datos."
   ]
  },
  {
   "cell_type": "markdown",
   "id": "492a1cd5-6c2e-4e16-81dc-e7faef02764e",
   "metadata": {},
   "source": [
    "## 1.7 Histograma de los Datos\n",
    "En esta sección, se presenta un histograma que ilustra la distribución de frecuencias de la variable categórica sdg, que representa los Objetivos de Desarrollo Sostenible (ODS) con las clases 3, 4 y 5."
   ]
  },
  {
   "cell_type": "code",
   "execution_count": 26,
   "id": "e4a43e95-617c-40d9-b0b4-3572be14e870",
   "metadata": {},
   "outputs": [
    {
     "data": {
      "text/plain": [
       "array([[<Axes: title={'center': 'sdg'}>]], dtype=object)"
      ]
     },
     "execution_count": 26,
     "metadata": {},
     "output_type": "execute_result"
    },
    {
     "data": {
      "image/png": "[encoded data removed]",
      "text/plain": [
       "<Figure size 2000x1000 with 1 Axes>"
      ]
     },
     "metadata": {},
     "output_type": "display_data"
    }
   ],
   "source": [
    "%matplotlib inline\n",
    "df.hist(figsize=(20,10))"
   ]
  },
  {
   "cell_type": "markdown",
   "id": "e2e6fc11-32e3-461a-b20c-80f19d013628",
   "metadata": {},
   "source": [
    "El histograma generado muestra las barras correspondientes a la cantidad de observaciones para cada clase de ODS. La distribución revela un incremento progresivo en la frecuencia de datos desde el ODS 3 hacia el ODS 5. Aunque se observa una mayor cantidad de datos en la clase ODS 5, la diferencia entre las clases no es lo suficientemente significativa como para inducir un sesgo importante hacia esta categoría en el modelo.\n",
    "\n",
    "Esta distribución equilibrada de las clases es positiva para el análisis y el modelado, ya que sugiere que el modelo no estará excesivamente sesgado hacia ninguna de las categorías. Esto contribuye a una representación equitativa de los ODS en los datos, lo cual es crucial para el desarrollo de un modelo de clasificación robusto y fiable."
   ]
  },
  {
   "cell_type": "markdown",
   "id": "3e5c2150-a22a-4a24-82fa-48a523f0dd32",
   "metadata": {},
   "source": [
    "## 1.8 Análisis de la variable objetivo\n",
    "En esta sección, se realiza un análisis detallado de la variable objetivo sdg, que clasifica los datos en las categorías correspondientes a los Objetivos de Desarrollo Sostenible (ODS) 3, 4 y 5. El conteo de las observaciones en cada clase se presenta a continuación:"
   ]
  },
  {
   "cell_type": "code",
   "execution_count": 29,
   "id": "940e150b-7878-4a69-8a75-2b79a2e308b5",
   "metadata": {},
   "outputs": [
    {
     "data": {
      "text/plain": [
       "sdg\n",
       "5    1451\n",
       "4    1354\n",
       "3    1244\n",
       "Name: count, dtype: int64"
      ]
     },
     "execution_count": 29,
     "metadata": {},
     "output_type": "execute_result"
    }
   ],
   "source": [
    "df.value_counts(df['sdg'])"
   ]
  },
  {
   "cell_type": "markdown",
   "id": "5f44532c-5c7a-4783-b4f6-eaf55e3d8fe9",
   "metadata": {},
   "source": [
    "El análisis de la variable objetivo confirma que los datos están correctamente clasificados, sin valores anómalos o mal escritos. La métrica de consistencia se valida ya que todos los registros en la columna sdg cumplen con las reglas de negocio establecidas, y no se detectan inconsistencias en los datos.\n",
    "\n",
    "Adicionalmente, el análisis del DataFrame muestra que:"
   ]
  },
  {
   "cell_type": "code",
   "execution_count": 31,
   "id": "30b4635f-c8ec-4f39-b628-662640d8f06d",
   "metadata": {},
   "outputs": [
    {
     "name": "stdout",
     "output_type": "stream",
     "text": [
      "<class 'pandas.core.frame.DataFrame'>\n",
      "RangeIndex: 4049 entries, 0 to 4048\n",
      "Data columns (total 2 columns):\n",
      " #   Column          Non-Null Count  Dtype \n",
      "---  ------          --------------  ----- \n",
      " 0   Textos_espanol  4049 non-null   object\n",
      " 1   sdg             4049 non-null   int64 \n",
      "dtypes: int64(1), object(1)\n",
      "memory usage: 63.4+ KB\n"
     ]
    }
   ],
   "source": [
    "df.info()"
   ]
  },
  {
   "cell_type": "markdown",
   "id": "069948ff-93a3-4984-bbef-17a2356363ac",
   "metadata": {},
   "source": [
    "El DataFrame consta de 4049 entradas, con dos columnas: Textos_espanol (tipo object para textos) y sdg (tipo int64 para la categoría ODS). La ausencia de valores nulos y la correcta clasificación en la variable objetivo aseguran una base de datos sólida para el análisis y el desarrollo del modelo."
   ]
  },
  {
   "cell_type": "markdown",
   "id": "5705a5be-25d3-4cb1-8237-e5ff8e8cd5cf",
   "metadata": {},
   "source": [
    "## 1.9 Análisis de la variable \"Textos_espanol"
   ]
  },
  {
   "cell_type": "markdown",
   "id": "8da52d59-ae86-43c7-b2f2-b00ffcd4f160",
   "metadata": {},
   "source": [
    "### 1.9.1. Grafica que muestre la distribución de la longitud de los datos en la columna Review\n",
    "Para analizar la longitud de los textos en la columna Textos_espanol, se ha generado un histograma que muestra la distribución de la cantidad de caracteres en los textos."
   ]
  },
  {
   "cell_type": "code",
   "execution_count": 35,
   "id": "7bfb9df2-fff4-4366-a0f6-2fc86968c01f",
   "metadata": {},
   "outputs": [
    {
     "data": {
      "image/png": "[encoded data removed]",
      "text/plain": [
       "<Figure size 1200x600 with 1 Axes>"
      ]
     },
     "metadata": {},
     "output_type": "display_data"
    },
    {
     "name": "stdout",
     "output_type": "stream",
     "text": [
      "Valor mínimo de la longitud: 294\n",
      "Valor máximo de la longitud: 1513\n"
     ]
    }
   ],
   "source": [
    "import matplotlib.pyplot as plt\n",
    "import seaborn as sns\n",
    "\n",
    "# Verificar si la columna 'longitud' está en el DataFrame\n",
    "if 'longitud' not in df.columns:\n",
    "    # Si no existe, calcularla de nuevo\n",
    "    df['longitud'] = df['Textos_espanol'].apply(len)\n",
    "\n",
    "# Calcular la moda (puede haber más de una, por lo que se obtiene el primer valor)\n",
    "moda = df['longitud'].mode()[0]\n",
    "\n",
    "# Configurar el gráfico\n",
    "plt.figure(figsize=(12, 6))\n",
    "sns.histplot(df['longitud'], bins=100, kde=True)\n",
    "plt.xlim(300, 1500)\n",
    "\n",
    "# Configurar etiquetas de los ejes y título del gráfico\n",
    "plt.xlabel('Longitud del texto')\n",
    "plt.ylabel('Cantidad de caracteres')\n",
    "plt.title('Distribución de la longitud de los textos')\n",
    "\n",
    "# Mostrar la tendencia central de los datos\n",
    "plt.axvline(x=df['longitud'].mean(), color='red', linestyle='--', label='Media')\n",
    "plt.axvline(x=df['longitud'].median(), color='green', linestyle='--', label='Mediana')\n",
    "plt.axvline(x=moda, color='blue', linestyle='--', label='Moda')\n",
    "\n",
    "# Agregar anotaciones para media, mediana y moda\n",
    "plt.text(df['longitud'].mean(), plt.ylim()[1]*0.9, f'Media: {df[\"longitud\"].mean():.2f}', color='red', ha='center')\n",
    "plt.text(df['longitud'].median(), plt.ylim()[1]*0.85, f'Mediana: {df[\"longitud\"].median():.2f}', color='green', ha='center')\n",
    "plt.text(moda, plt.ylim()[1]*0.8, f'Moda: {moda:.2f}', color='blue', ha='center')\n",
    "\n",
    "plt.legend()\n",
    "\n",
    "# Mostrar el gráfico\n",
    "plt.show()\n",
    "\n",
    "# Calcular el valor mínimo y máximo de la columna 'longitud'\n",
    "min_longitud = df['longitud'].min()\n",
    "max_longitud = df['longitud'].max()\n",
    "\n",
    "# Imprimir los resultados\n",
    "print(f'Valor mínimo de la longitud: {min_longitud}')\n",
    "print(f'Valor máximo de la longitud: {max_longitud}')\n",
    "\n",
    "\n",
    "# Eliminar la columna 'longitud' debido a que no nos sirve para la creación de los modelos\n",
    "df.drop('longitud', axis=1, inplace=True)\n"
   ]
  },
  {
   "cell_type": "markdown",
   "id": "65f80e39-7b5a-4edd-90a5-3e73b47c78ef",
   "metadata": {},
   "source": [
    "A partir de la gráfica, se puede observar que la longitud de los textos en la columna Textos_espanol varía principalmente entre 294 y 1513 caracteres. La longitud media de los textos es aproximadamente 700 caracteres, mientras que la mediana es de alrededor de 657 caracteres. Estos valores indican que la mayoría de los textos se concentran en un rango intermedio, con una distribución relativamente simétrica."
   ]
  },
  {
   "cell_type": "markdown",
   "id": "fdb0d94d-ac31-4380-90f2-7bdefbab72c8",
   "metadata": {},
   "source": [
    "### 1.9.2 Grafica que nos muestra cuales son las palabras mas comunes en la columna Textos_espanol teniendo en cuenta que no se tienen StopWords\n",
    "En esta sección, se analiza la frecuencia de las palabras en la columna Textos_espanol para identificar las palabras más comunes, excluyendo las stopwords."
   ]
  },
  {
   "cell_type": "code",
   "execution_count": 38,
   "id": "f2b511da-d92b-47a4-a741-61e0303037c6",
   "metadata": {},
   "outputs": [
    {
     "data": {
      "image/png": "[encoded data removed]",
      "text/plain": [
       "<Figure size 1000x600 with 1 Axes>"
      ]
     },
     "metadata": {},
     "output_type": "display_data"
    }
   ],
   "source": [
    "stop_words = set(stopwords.words('spanish'))\n",
    "\n",
    "# Concatenar todos los textos en la columna 'Review'\n",
    "all_text = ' '.join(df['Textos_espanol'])\n",
    "words = all_text.split()\n",
    "\n",
    "# Filtrar palabras que no sean stopwords\n",
    "filtered_words = [word.lower() for word in words if word.lower() not in stop_words]\n",
    "word_freq = Counter(filtered_words)\n",
    "\n",
    "# Seleccionar las palabras más comunes y mirar la frecuencia de los datos\n",
    "num_words = 15\n",
    "common_words = [(word, freq) for word, freq in word_freq.items() if word.isalpha()]\n",
    "common_words = sorted(common_words, key=lambda x: x[1], reverse=True)[:num_words]\n",
    "words, frequencies = zip(*common_words)\n",
    "\n",
    "# Visualizar las palabras más comunes en un gráfico de barras\n",
    "plt.figure(figsize=(10, 6))\n",
    "plt.bar(words, frequencies, color='skyblue')\n",
    "plt.title('Palabras más comunes en la columna \"Textos_espanol\" (sin artículos)')\n",
    "plt.xlabel('Palabras')\n",
    "plt.ylabel('Frecuencia')\n",
    "plt.xticks(rotation=45, ha='right')\n",
    "plt.show()\n",
    "\n"
   ]
  },
  {
   "cell_type": "markdown",
   "id": "2ad318d9-b53b-4fb2-92db-e143121f0d7c",
   "metadata": {},
   "source": [
    "La gráfica muestra las palabras más frecuentes en la columna Textos_espanol, excluyendo stopwords. Esta información es valiosa para comprender mejor los temas recurrentes y aspectos destacados en las opiniones de los clientes. Analizar estas palabras puede revelar patrones de opinión, resaltar temas importantes y proporcionar información útil para la toma de decisiones estratégicas"
   ]
  },
  {
   "cell_type": "markdown",
   "id": "cd0fa027-8d43-46ac-9e2d-2a48644989a3",
   "metadata": {},
   "source": [
    "## 1.9.3 Mostrar grafica de Bigramas y Trigramas de la columna Textos_espanol"
   ]
  },
  {
   "cell_type": "markdown",
   "id": "56ea1d76-d97b-4fa9-aced-d8ccebd61154",
   "metadata": {},
   "source": [
    "### 1.9.3.1 Mostrar grafica de Bigramas mas comunes\n",
    "Para identificar y visualizar los bigramas más comunes en la columna Textos_espanol, se ha realizado el siguiente análisis"
   ]
  },
  {
   "cell_type": "code",
   "execution_count": 42,
   "id": "45a8a036-ff47-431b-ad8b-cbc236750e1d",
   "metadata": {},
   "outputs": [
    {
     "data": {
      "image/png": "[encoded data removed]",
      "text/plain": [
       "<Figure size 1000x600 with 1 Axes>"
      ]
     },
     "metadata": {},
     "output_type": "display_data"
    }
   ],
   "source": [
    "# Función para obtener los n n-gramas más comunes (bigrams o trigrams)\n",
    "def get_top_n_ngrams(corpus, n=None, ngram_range=(2, 2)):\n",
    "    vec = CountVectorizer(ngram_range=ngram_range).fit(corpus)\n",
    "    bag_of_words = vec.transform(corpus)\n",
    "    sum_words = bag_of_words.sum(axis=0)\n",
    "    ngrams_freq = [(ngram, sum_words[0, idx]) for ngram, idx in vec.vocabulary_.items()]\n",
    "    ngrams_freq = sorted(ngrams_freq, key=lambda x: x[1], reverse=True)\n",
    "    return ngrams_freq[:n]\n",
    "\n",
    "# Obtener los 10 bigramas más comunes\n",
    "top_bigrams = get_top_n_ngrams(df['Textos_espanol'], 10, ngram_range=(2, 2))\n",
    "\n",
    "# Convertir la lista de tuplas a dos listas separadas para el gráfico\n",
    "bigrams = [ngram[0] for ngram in top_bigrams]\n",
    "freqs = [freq[1] for freq in top_bigrams]\n",
    "\n",
    "# Crear el gráfico de barras para bigramas\n",
    "plt.figure(figsize=(10, 6))\n",
    "sns.barplot(x=freqs, y=bigrams, color='skyblue')  # Cambiar palette a color\n",
    "plt.title('Top 10 bigramas más comunes en la columna \"Textos_espanol\"')\n",
    "plt.xlabel('Frecuencia')\n",
    "plt.ylabel('Bigramas')\n",
    "plt.show()"
   ]
  },
  {
   "cell_type": "markdown",
   "id": "8a45a9b4-cff5-40b6-96b5-c0aa8126af66",
   "metadata": {},
   "source": [
    "La gráfica muestra los 10 bigramas más comunes en la columna Textos_espanol, representando las combinaciones de dos palabras que aparecen con mayor frecuencia en los textos. Estos bigramas proporcionan una visión adicional sobre los temas y patrones recurrentes en las opiniones de los clientes, permitiendo una comprensión más profunda de los aspectos más destacados y relevantes en los datos."
   ]
  },
  {
   "cell_type": "markdown",
   "id": "ad350e96-f6bd-4ca7-9c2c-646b6aec168f",
   "metadata": {},
   "source": [
    "#### 1.9.3.2 Mostrar la grafica de los trigramas\n",
    "Para obtener una visión más detallada de los patrones en los textos, se realiza el análisis de los trigramas en la columna Textos_espanol"
   ]
  },
  {
   "cell_type": "code",
   "execution_count": 45,
   "id": "f79b43e1-dfbd-4788-a5b4-eb1671206a53",
   "metadata": {},
   "outputs": [
    {
     "data": {
      "image/png": "[encoded data removed]",
      "text/plain": [
       "<Figure size 1000x600 with 1 Axes>"
      ]
     },
     "metadata": {},
     "output_type": "display_data"
    }
   ],
   "source": [
    "def get_top_n_words(corpus, n=None):\n",
    "    vec = CountVectorizer(ngram_range=(3, 3)).fit(corpus)  # Cambiamos el rango a trigramas\n",
    "    bag_of_words = vec.transform(corpus)\n",
    "    sum_words = bag_of_words.sum(axis=0)\n",
    "    words_freq = [(word, sum_words[0, idx]) for word, idx in vec.vocabulary_.items()]\n",
    "    words_freq = sorted(words_freq, key=lambda x: x[1], reverse=True)\n",
    "    return words_freq[:n]\n",
    "\n",
    "\n",
    "common_words = get_top_n_words(df['Textos_espanol'], 10)\n",
    "\n",
    "# Convertir la lista de tuplas a dos listas separadas para el gráfico\n",
    "words = [word[0] for word in common_words]\n",
    "freqs = [freq[1] for freq in common_words]\n",
    "\n",
    "# Crear el gráfico de barras\n",
    "plt.figure(figsize=(10, 6))\n",
    "sns.barplot(x=freqs, y=words)\n",
    "plt.title('Top 10 trigramas más comunes')\n",
    "plt.xlabel('Frecuencia')\n",
    "plt.ylabel('Trigrama')\n",
    "plt.show()\n"
   ]
  },
  {
   "cell_type": "markdown",
   "id": "cd169e3e-48b1-40a2-ba25-48bc94191b5b",
   "metadata": {},
   "source": [
    "El análisis de trigramas revela combinaciones de tres palabras consecutivas en los textos. Los trigramas más frecuentes incluyen \"de las mujeres\" (880 veces) y \"de la ocde\" (643 veces), indicando un enfoque predominante en temas relacionados con las mujeres y la OCDE. Otros trigramas como \"igualdad de género\" (332 veces) y \"de los estudiantes\" (313 veces) sugieren discusiones sobre igualdad y educación. Estos resultados muestran que los textos abordan principalmente temas de género, salud y educación, proporcionando una visión más detallada y específica sobre los temas recurrentes en los datos."
   ]
  },
  {
   "cell_type": "markdown",
   "id": "7a7d908f-7413-4cfa-8b50-37b2c3aae72d",
   "metadata": {},
   "source": [
    "#### 1.9.3.3 Mostrar la grafica con las palabras mas largas de la columna Textos_espanol\n",
    "Ahora se visualizarán las palabras más largas para tener un mejor entendimiento de los datos"
   ]
  },
  {
   "cell_type": "code",
   "execution_count": 48,
   "id": "316060bf-32a4-489b-bf1b-a42881096260",
   "metadata": {},
   "outputs": [
    {
     "data": {
      "image/png": "[encoded data removed]",
      "text/plain": [
       "<Figure size 1000x600 with 1 Axes>"
      ]
     },
     "metadata": {},
     "output_type": "display_data"
    }
   ],
   "source": [
    "# Función para obtener las palabras más largas\n",
    "def get_top_longest_words(corpus, n=10):\n",
    "    words = ' '.join(corpus).split()\n",
    "    words_lengths = [(word, len(word)) for word in words]\n",
    "    words_lengths_sorted = sorted(words_lengths, key=lambda x: x[1], reverse=True)\n",
    "    return words_lengths_sorted[:n]\n",
    "\n",
    "longest_words = get_top_longest_words(df['Textos_espanol'], 10)\n",
    "words = [word[0] for word in longest_words]\n",
    "lengths = [length[1] for length in longest_words]\n",
    "\n",
    "# Crear el gráfico de barras\n",
    "plt.figure(figsize=(10, 6))\n",
    "sns.barplot(x=lengths, y=words, color=\"skyblue\")  # Cambiar palette a color\n",
    "plt.title('Top 10 palabras más largas')\n",
    "plt.xlabel('Longitud')\n",
    "plt.ylabel('Palabra')\n",
    "plt.show()\n"
   ]
  },
  {
   "cell_type": "markdown",
   "id": "5067525d-c745-46d4-a3ac-dedefa33613d",
   "metadata": {},
   "source": [
    "El análisis de las palabras más largas en la columna \"Textos_espanol\" muestra que la mayoría son enlaces web y URLs, como \"https://assets.publishing.service.gov.uk/media/57a08abaed915d3cfd0008e0/Birdthistle\" con 83 caracteres y \"http://www.imshealth.com/deployedfiles/imshealth/Global/Content/Corporate/IMS\" con 77 caracteres. Estos datos, debido a su naturaleza, no aportan información relevante para el análisis del contenido textual y pueden introducir ruido en el modelo. Por lo tanto, se planifica limpiar estos elementos durante el preprocesamiento de datos para mejorar la calidad del análisis y la efectividad del modelo de machine learning."
   ]
  },
  {
   "cell_type": "markdown",
   "id": "5ccc59de-6de1-4233-95e8-178faa1d4510",
   "metadata": {},
   "source": [
    "# 2. Preparación de datos\n",
    "En la etapa de preparación de datos, se realiza un exhaustivo proceso de limpieza y transformación para asegurar que los datos sean adecuados para el análisis y modelado. Esto incluye la corrección de errores en el formato de texto, la eliminación de datos irrelevantes como enlaces web, y la normalización de las palabras para estandarizar el texto"
   ]
  },
  {
   "cell_type": "markdown",
   "id": "60170768-f4be-4655-8bec-7cffa0e4e425",
   "metadata": {},
   "source": [
    "## 2.1 Eliminar registros que no están en español\n",
    "En esta etapa, se ha implementado un proceso para identificar y eliminar registros que no están en español. Utilizando la librería langdetect, se ha aplicado una función para detectar el idioma de cada texto en la columna \"Textos_espanol\"."
   ]
  },
  {
   "cell_type": "code",
   "execution_count": 52,
   "id": "66b65c28-9b8d-4582-bd87-60901b7bf35a",
   "metadata": {},
   "outputs": [
    {
     "data": {
      "text/plain": [
       "language\n",
       "es    4036\n",
       "en       7\n",
       "fr       6\n",
       "Name: count, dtype: int64"
      ]
     },
     "metadata": {},
     "output_type": "display_data"
    }
   ],
   "source": [
    "# Semilla para hacer que la detección sea reproducible\n",
    "DetectorFactory.seed = 0\n",
    "\n",
    "# Integrar tqdm con pandas\n",
    "tqdm.pandas()\n",
    "def detect_language(text):\n",
    "    try:\n",
    "        return detect(text)\n",
    "    except:\n",
    "        return None\n",
    "\n",
    "df_tofilter = df.copy()\n",
    "def detect_language(text):\n",
    "    try:\n",
    "        return detect(text)\n",
    "    except:\n",
    "        return None\n",
    "\n",
    "\n",
    "def deleteNonSpanish(df, print=False):\n",
    "    df['language'] = df['Textos_espanol'].apply(detect_language)\n",
    "    if print:\n",
    "      #imprimir los idiomas\n",
    "      display(df['language'].value_counts())\n",
    "    df = df[df['language']=='es']\n",
    "    return df\n",
    "df_tofilter = deleteNonSpanish(df_tofilter, True)\n"
   ]
  },
  {
   "cell_type": "markdown",
   "id": "b5080bce-5a9c-4581-a6a5-2b82861d1726",
   "metadata": {},
   "source": [
    "Los resultados muestran que, de los 4049 registros originales, 4036 están en español, mientras que 13 registros están en inglés o francés.\n",
    "\n",
    "Este proceso de filtrado es crucial para asegurar que el modelo de machine learning se entrene únicamente con datos relevantes para el idioma objetivo, en este caso, el español. La eliminación de textos en otros idiomas mejora la coherencia del análisis y la precisión del modelo, al evitar la introducción de ruido y garantizar que el contenido del dataset sea homogéneo en cuanto al idioma."
   ]
  },
  {
   "cell_type": "markdown",
   "id": "5c671e6b-5f88-494e-8435-3f54fb685edc",
   "metadata": {},
   "source": [
    "## 2.2 Tokenización\n",
    "Se lleva a cabo un proceso de preprocesamiento del texto que incluye varios pasos. Primero, se sustituyen los signos de puntuación por espacios para facilitar la segmentación. Luego, se eliminan las palabras cortas de dos o menos letras que no se habían eliminado durante la filtración de stopwords. A continuación, se eliminan los caracteres no alfabéticos, se quitan los acentos y se transforma todo el texto a minúsculas para estandarizarlo. Finalmente, se filtran las stopwords, y todo este proceso se aplica al DataFrame, resultando en texto limpio y uniformizado, adecuado para análisis futuros."
   ]
  },
  {
   "cell_type": "code",
   "execution_count": 55,
   "id": "360772e5-a6f1-4ba0-a639-6fb8eb5855b5",
   "metadata": {},
   "outputs": [],
   "source": [
    "# Función para cambiar caracteres\n",
    "def changeCharacters(text):\n",
    "    \"\"\"Reemplaza algunos separadores por espacios\"\"\"\n",
    "    text = text.replace(',', ' ')\n",
    "    text = text.replace('/', ' ')\n",
    "    text = text.replace('.', ' ')\n",
    "    text = text.replace('-', ' ')\n",
    "    text = text.replace('\\n', ' ')\n",
    "    text = text.replace('!', ' ')\n",
    "    return text\n",
    "\n",
    "# Función para eliminar palabras muy cortas\n",
    "def deleteWrongWords(words):\n",
    "    \"\"\"Elimina palabras de dos o menos caracteres que no se eliminaron en los stopwords\"\"\"\n",
    "    return [word for word in words if len(word) > 2]\n",
    "\n",
    "# Función para filtrar caracteres innecesarios\n",
    "def filterWords(text):\n",
    "    \"\"\"Elimina caracteres innecesarios, solo quedan palabras\"\"\"\n",
    "    whitelist = set(\"abcdefghijklmnñopqrstuvwxyz \")\n",
    "    return \"\".join(filter(whitelist.__contains__, text))\n",
    "\n",
    "# Función para remover acentos\n",
    "def remove_accents(text):\n",
    "    \"\"\"Elimina letras con tilde\"\"\"\n",
    "    text = text.replace(\"á\", \"a\")\n",
    "    text = text.replace(\"é\", \"e\")\n",
    "    text = text.replace(\"í\", \"i\")\n",
    "    text = text.replace(\"ó\", \"o\")\n",
    "    text = text.replace(\"ú\", \"u\")\n",
    "    return text\n",
    "\n",
    "# Función para convertir a minúsculas\n",
    "def to_lowercase(words):\n",
    "    \"\"\"Convierte strings a minúscula\"\"\"\n",
    "    return words.lower()\n",
    "\n",
    "# Cargar stopwords\n",
    "stopword = nltk.corpus.stopwords.words('spanish')\n",
    "\n",
    "# Función para remover stopwords\n",
    "def remove_stopwords(words):\n",
    "    \"\"\"Remove stop words from list of tokenized words\"\"\"\n",
    "    return [word for word in words if word not in stopword]\n",
    "\n",
    "# Función de preprocesamiento\n",
    "def preprocessing(text):\n",
    "    text = changeCharacters(text)\n",
    "    text = to_lowercase(text)\n",
    "    text = remove_accents(text)\n",
    "    text = filterWords(text)\n",
    "    return text\n"
   ]
  },
  {
   "cell_type": "code",
   "execution_count": 56,
   "id": "89956b11-1b9c-4339-93fa-8a9376569e9f",
   "metadata": {},
   "outputs": [
    {
     "data": {
      "text/html": [
       "<div>\n",
       "<style scoped>\n",
       "    .dataframe tbody tr th:only-of-type {\n",
       "        vertical-align: middle;\n",
       "    }\n",
       "\n",
       "    .dataframe tbody tr th {\n",
       "        vertical-align: top;\n",
       "    }\n",
       "\n",
       "    .dataframe thead th {\n",
       "        text-align: right;\n",
       "    }\n",
       "</style>\n",
       "<table border=\"1\" class=\"dataframe\">\n",
       "  <thead>\n",
       "    <tr style=\"text-align: right;\">\n",
       "      <th></th>\n",
       "      <th>Textos_espanol</th>\n",
       "      <th>sdg</th>\n",
       "      <th>language</th>\n",
       "      <th>words</th>\n",
       "    </tr>\n",
       "  </thead>\n",
       "  <tbody>\n",
       "    <tr>\n",
       "      <th>0</th>\n",
       "      <td>Por ejemplo, el numero de consultas externas d...</td>\n",
       "      <td>3</td>\n",
       "      <td>es</td>\n",
       "      <td>[ejemplo, numero, consultas, externas, especia...</td>\n",
       "    </tr>\n",
       "    <tr>\n",
       "      <th>1</th>\n",
       "      <td>En 2007, el gobierno central financió directam...</td>\n",
       "      <td>3</td>\n",
       "      <td>es</td>\n",
       "      <td>[gobierno, central, financio, directamente, so...</td>\n",
       "    </tr>\n",
       "    <tr>\n",
       "      <th>2</th>\n",
       "      <td>Claramente, hay muchos otros factores en juego...</td>\n",
       "      <td>3</td>\n",
       "      <td>es</td>\n",
       "      <td>[claramente, factores, juego, particular, vari...</td>\n",
       "    </tr>\n",
       "    <tr>\n",
       "      <th>3</th>\n",
       "      <td>Por ejemplo, el estado australiano de Victoria...</td>\n",
       "      <td>3</td>\n",
       "      <td>es</td>\n",
       "      <td>[ejemplo, australiano, victoria, creo, agencia...</td>\n",
       "    </tr>\n",
       "    <tr>\n",
       "      <th>4</th>\n",
       "      <td>El consumo anual de alcohol se estima en 15,7 ...</td>\n",
       "      <td>3</td>\n",
       "      <td>es</td>\n",
       "      <td>[consumo, anual, alcohol, estima, litros, año,...</td>\n",
       "    </tr>\n",
       "    <tr>\n",
       "      <th>...</th>\n",
       "      <td>...</td>\n",
       "      <td>...</td>\n",
       "      <td>...</td>\n",
       "      <td>...</td>\n",
       "    </tr>\n",
       "    <tr>\n",
       "      <th>4044</th>\n",
       "      <td>Para ello, identificará las cuestiones de géne...</td>\n",
       "      <td>5</td>\n",
       "      <td>es</td>\n",
       "      <td>[ello, identificara, cuestiones, genero, mas, ...</td>\n",
       "    </tr>\n",
       "    <tr>\n",
       "      <th>4045</th>\n",
       "      <td>La participación de las mujeres en roles de li...</td>\n",
       "      <td>5</td>\n",
       "      <td>es</td>\n",
       "      <td>[participacion, mujeres, roles, liderazgo, den...</td>\n",
       "    </tr>\n",
       "    <tr>\n",
       "      <th>4046</th>\n",
       "      <td>Según el WEF, según las tendencias de 2016, po...</td>\n",
       "      <td>5</td>\n",
       "      <td>es</td>\n",
       "      <td>[segun, wef, segun, tendencias, podria, cerrar...</td>\n",
       "    </tr>\n",
       "    <tr>\n",
       "      <th>4047</th>\n",
       "      <td>Sirve como recurso y foro para las agencias, c...</td>\n",
       "      <td>5</td>\n",
       "      <td>es</td>\n",
       "      <td>[sirve, recurso, foro, agencias, objetivo, log...</td>\n",
       "    </tr>\n",
       "    <tr>\n",
       "      <th>4048</th>\n",
       "      <td>Las áreas útiles para un mayor estudio y acció...</td>\n",
       "      <td>5</td>\n",
       "      <td>es</td>\n",
       "      <td>[areas, utiles, mayor, estudio, accion, politi...</td>\n",
       "    </tr>\n",
       "  </tbody>\n",
       "</table>\n",
       "<p>4036 rows × 4 columns</p>\n",
       "</div>"
      ],
      "text/plain": [
       "                                         Textos_espanol  sdg language  \\\n",
       "0     Por ejemplo, el numero de consultas externas d...    3       es   \n",
       "1     En 2007, el gobierno central financió directam...    3       es   \n",
       "2     Claramente, hay muchos otros factores en juego...    3       es   \n",
       "3     Por ejemplo, el estado australiano de Victoria...    3       es   \n",
       "4     El consumo anual de alcohol se estima en 15,7 ...    3       es   \n",
       "...                                                 ...  ...      ...   \n",
       "4044  Para ello, identificará las cuestiones de géne...    5       es   \n",
       "4045  La participación de las mujeres en roles de li...    5       es   \n",
       "4046  Según el WEF, según las tendencias de 2016, po...    5       es   \n",
       "4047  Sirve como recurso y foro para las agencias, c...    5       es   \n",
       "4048  Las áreas útiles para un mayor estudio y acció...    5       es   \n",
       "\n",
       "                                                  words  \n",
       "0     [ejemplo, numero, consultas, externas, especia...  \n",
       "1     [gobierno, central, financio, directamente, so...  \n",
       "2     [claramente, factores, juego, particular, vari...  \n",
       "3     [ejemplo, australiano, victoria, creo, agencia...  \n",
       "4     [consumo, anual, alcohol, estima, litros, año,...  \n",
       "...                                                 ...  \n",
       "4044  [ello, identificara, cuestiones, genero, mas, ...  \n",
       "4045  [participacion, mujeres, roles, liderazgo, den...  \n",
       "4046  [segun, wef, segun, tendencias, podria, cerrar...  \n",
       "4047  [sirve, recurso, foro, agencias, objetivo, log...  \n",
       "4048  [areas, utiles, mayor, estudio, accion, politi...  \n",
       "\n",
       "[4036 rows x 4 columns]"
      ]
     },
     "execution_count": 56,
     "metadata": {},
     "output_type": "execute_result"
    }
   ],
   "source": [
    "df_t = df_tofilter.copy()\n",
    "df_t['words'] = df_t['Textos_espanol'].apply(preprocessing)\n",
    "df_t['words'] = df_t['words'].apply(word_tokenize)\n",
    "df_t['words'] = df_t['words'].apply(remove_stopwords)\n",
    "df_t['words'] = df_t['words'].apply(deleteWrongWords)\n",
    "df_t"
   ]
  },
  {
   "cell_type": "markdown",
   "id": "ed23d38f-4662-4088-b0da-be1b371d1c67",
   "metadata": {},
   "source": [
    "El resultado de este proceso es un conjunto de datos en el que cada texto ha sido transformado en una lista de palabras limpias y normalizadas. Este texto tokenizado, libre de caracteres innecesarios y stopwords."
   ]
  },
  {
   "cell_type": "markdown",
   "id": "20cd9939-eda2-44dd-9814-9e36fc5fb795",
   "metadata": {},
   "source": [
    "## 2.3 Eliminar nulos"
   ]
  },
  {
   "cell_type": "markdown",
   "id": "f32900d8-865e-4a01-a1fa-cf78bd962b21",
   "metadata": {},
   "source": [
    "En esta etapa, se realiza la eliminación de valores nulos en la columna 'words' del DataFrame para asegurar que los datos sean completos y consistentes."
   ]
  },
  {
   "cell_type": "code",
   "execution_count": 60,
   "id": "a9920110-6eaa-4624-a600-d691dbd389d1",
   "metadata": {},
   "outputs": [
    {
     "data": {
      "text/plain": [
       "(4036, 4)"
      ]
     },
     "execution_count": 60,
     "metadata": {},
     "output_type": "execute_result"
    }
   ],
   "source": [
    "df_t.shape"
   ]
  },
  {
   "cell_type": "code",
   "execution_count": 61,
   "id": "75c488ed-4368-4add-99ca-15e061b1433a",
   "metadata": {},
   "outputs": [
    {
     "data": {
      "text/plain": [
       "(4036, 4)"
      ]
     },
     "execution_count": 61,
     "metadata": {},
     "output_type": "execute_result"
    }
   ],
   "source": [
    "df_t['words'].dropna()\n",
    "df_t.shape"
   ]
  },
  {
   "cell_type": "markdown",
   "id": "4c1ac8bc-7b36-41f1-aebe-12fef35e2d39",
   "metadata": {},
   "source": [
    "Después de intentar eliminar los valores nulos, se observa que el tamaño del DataFrame se mantiene sin cambios, indicando que no había valores nulos en la columna 'words'. "
   ]
  },
  {
   "cell_type": "markdown",
   "id": "947301f8-acf9-4fca-896d-d7964cb5fff0",
   "metadata": {},
   "source": [
    "## 2.4 Normalización\n",
    "En esta etapa, se aplica la lematización para estandarizar las palabras en la columna 'words' del DataFrame. Utilizando el modelo de lematización en español de spaCy, se lematizan los verbos, manteniendo las palabras con menos de cuatro letras en su forma original. La función de lematización se aplica a cada entrada en la columna, actualizando así los textos con sus formas base correspondientes."
   ]
  },
  {
   "cell_type": "code",
   "execution_count": 64,
   "id": "6c3b425c-027e-4317-8ab7-1069979f1176",
   "metadata": {},
   "outputs": [
    {
     "data": {
      "text/html": [
       "<div>\n",
       "<style scoped>\n",
       "    .dataframe tbody tr th:only-of-type {\n",
       "        vertical-align: middle;\n",
       "    }\n",
       "\n",
       "    .dataframe tbody tr th {\n",
       "        vertical-align: top;\n",
       "    }\n",
       "\n",
       "    .dataframe thead th {\n",
       "        text-align: right;\n",
       "    }\n",
       "</style>\n",
       "<table border=\"1\" class=\"dataframe\">\n",
       "  <thead>\n",
       "    <tr style=\"text-align: right;\">\n",
       "      <th></th>\n",
       "      <th>Textos_espanol</th>\n",
       "      <th>sdg</th>\n",
       "      <th>language</th>\n",
       "      <th>words</th>\n",
       "    </tr>\n",
       "  </thead>\n",
       "  <tbody>\n",
       "    <tr>\n",
       "      <th>0</th>\n",
       "      <td>Por ejemplo, el numero de consultas externas d...</td>\n",
       "      <td>3</td>\n",
       "      <td>es</td>\n",
       "      <td>[ejemplo, numero, consulta, externo, especiali...</td>\n",
       "    </tr>\n",
       "    <tr>\n",
       "      <th>1</th>\n",
       "      <td>En 2007, el gobierno central financió directam...</td>\n",
       "      <td>3</td>\n",
       "      <td>es</td>\n",
       "      <td>[gobierno, central, financio, directamente, so...</td>\n",
       "    </tr>\n",
       "    <tr>\n",
       "      <th>2</th>\n",
       "      <td>Claramente, hay muchos otros factores en juego...</td>\n",
       "      <td>3</td>\n",
       "      <td>es</td>\n",
       "      <td>[claramente, factor, juego, particular, varied...</td>\n",
       "    </tr>\n",
       "    <tr>\n",
       "      <th>3</th>\n",
       "      <td>Por ejemplo, el estado australiano de Victoria...</td>\n",
       "      <td>3</td>\n",
       "      <td>es</td>\n",
       "      <td>[ejemplo, australiano, victoria, creer, agenci...</td>\n",
       "    </tr>\n",
       "    <tr>\n",
       "      <th>4</th>\n",
       "      <td>El consumo anual de alcohol se estima en 15,7 ...</td>\n",
       "      <td>3</td>\n",
       "      <td>es</td>\n",
       "      <td>[consumo, anual, alcohol, estimar, litro, año,...</td>\n",
       "    </tr>\n",
       "    <tr>\n",
       "      <th>...</th>\n",
       "      <td>...</td>\n",
       "      <td>...</td>\n",
       "      <td>...</td>\n",
       "      <td>...</td>\n",
       "    </tr>\n",
       "    <tr>\n",
       "      <th>4044</th>\n",
       "      <td>Para ello, identificará las cuestiones de géne...</td>\n",
       "      <td>5</td>\n",
       "      <td>es</td>\n",
       "      <td>[él, identificara, cuestión, genero, mas, dest...</td>\n",
       "    </tr>\n",
       "    <tr>\n",
       "      <th>4045</th>\n",
       "      <td>La participación de las mujeres en roles de li...</td>\n",
       "      <td>5</td>\n",
       "      <td>es</td>\n",
       "      <td>[participacion, mujer, rol, liderazgo, dentro,...</td>\n",
       "    </tr>\n",
       "    <tr>\n",
       "      <th>4046</th>\n",
       "      <td>Según el WEF, según las tendencias de 2016, po...</td>\n",
       "      <td>5</td>\n",
       "      <td>es</td>\n",
       "      <td>[segun, wef, segun, tendencia, podrio, cerrar ...</td>\n",
       "    </tr>\n",
       "    <tr>\n",
       "      <th>4047</th>\n",
       "      <td>Sirve como recurso y foro para las agencias, c...</td>\n",
       "      <td>5</td>\n",
       "      <td>es</td>\n",
       "      <td>[servir, recurso, foro, agencia, objetivo, log...</td>\n",
       "    </tr>\n",
       "    <tr>\n",
       "      <th>4048</th>\n",
       "      <td>Las áreas útiles para un mayor estudio y acció...</td>\n",
       "      <td>5</td>\n",
       "      <td>es</td>\n",
       "      <td>[area, util, mayor, estudio, accion, politica,...</td>\n",
       "    </tr>\n",
       "  </tbody>\n",
       "</table>\n",
       "<p>4036 rows × 4 columns</p>\n",
       "</div>"
      ],
      "text/plain": [
       "                                         Textos_espanol  sdg language  \\\n",
       "0     Por ejemplo, el numero de consultas externas d...    3       es   \n",
       "1     En 2007, el gobierno central financió directam...    3       es   \n",
       "2     Claramente, hay muchos otros factores en juego...    3       es   \n",
       "3     Por ejemplo, el estado australiano de Victoria...    3       es   \n",
       "4     El consumo anual de alcohol se estima en 15,7 ...    3       es   \n",
       "...                                                 ...  ...      ...   \n",
       "4044  Para ello, identificará las cuestiones de géne...    5       es   \n",
       "4045  La participación de las mujeres en roles de li...    5       es   \n",
       "4046  Según el WEF, según las tendencias de 2016, po...    5       es   \n",
       "4047  Sirve como recurso y foro para las agencias, c...    5       es   \n",
       "4048  Las áreas útiles para un mayor estudio y acció...    5       es   \n",
       "\n",
       "                                                  words  \n",
       "0     [ejemplo, numero, consulta, externo, especiali...  \n",
       "1     [gobierno, central, financio, directamente, so...  \n",
       "2     [claramente, factor, juego, particular, varied...  \n",
       "3     [ejemplo, australiano, victoria, creer, agenci...  \n",
       "4     [consumo, anual, alcohol, estimar, litro, año,...  \n",
       "...                                                 ...  \n",
       "4044  [él, identificara, cuestión, genero, mas, dest...  \n",
       "4045  [participacion, mujer, rol, liderazgo, dentro,...  \n",
       "4046  [segun, wef, segun, tendencia, podrio, cerrar ...  \n",
       "4047  [servir, recurso, foro, agencia, objetivo, log...  \n",
       "4048  [area, util, mayor, estudio, accion, politica,...  \n",
       "\n",
       "[4036 rows x 4 columns]"
      ]
     },
     "execution_count": 64,
     "metadata": {},
     "output_type": "execute_result"
    }
   ],
   "source": [
    "import spacy\n",
    "\n",
    "lemmatizer = spacy.load(\"es_core_news_sm\")\n",
    "\n",
    "def lemmatize_verbs(words):\n",
    "    doc = lemmatizer(\" \".join(words))\n",
    "    return [token.lemma_ for token in doc]\n",
    "\n",
    "df_t['words'] = df_t['words'].apply(lemmatize_verbs)\n",
    "df_t"
   ]
  },
  {
   "cell_type": "markdown",
   "id": "b56fbf19-fb56-4304-8414-c9097b165574",
   "metadata": {},
   "source": [
    "Después de aplicar la lematización, se convierte la lista de lemas en una cadena de texto para cada entrada del DataFrame, consolidando el resultado final."
   ]
  },
  {
   "cell_type": "code",
   "execution_count": 66,
   "id": "83c69144-40be-4044-8af9-ae9f21bd8fdb",
   "metadata": {},
   "outputs": [
    {
     "data": {
      "text/html": [
       "<div>\n",
       "<style scoped>\n",
       "    .dataframe tbody tr th:only-of-type {\n",
       "        vertical-align: middle;\n",
       "    }\n",
       "\n",
       "    .dataframe tbody tr th {\n",
       "        vertical-align: top;\n",
       "    }\n",
       "\n",
       "    .dataframe thead th {\n",
       "        text-align: right;\n",
       "    }\n",
       "</style>\n",
       "<table border=\"1\" class=\"dataframe\">\n",
       "  <thead>\n",
       "    <tr style=\"text-align: right;\">\n",
       "      <th></th>\n",
       "      <th>Textos_espanol</th>\n",
       "      <th>sdg</th>\n",
       "      <th>language</th>\n",
       "      <th>words</th>\n",
       "    </tr>\n",
       "  </thead>\n",
       "  <tbody>\n",
       "    <tr>\n",
       "      <th>0</th>\n",
       "      <td>Por ejemplo, el numero de consultas externas d...</td>\n",
       "      <td>3</td>\n",
       "      <td>es</td>\n",
       "      <td>ejemplo numero consulta externo especialista c...</td>\n",
       "    </tr>\n",
       "    <tr>\n",
       "      <th>1</th>\n",
       "      <td>En 2007, el gobierno central financió directam...</td>\n",
       "      <td>3</td>\n",
       "      <td>es</td>\n",
       "      <td>gobierno central financio directamente solo ga...</td>\n",
       "    </tr>\n",
       "    <tr>\n",
       "      <th>2</th>\n",
       "      <td>Claramente, hay muchos otros factores en juego...</td>\n",
       "      <td>3</td>\n",
       "      <td>es</td>\n",
       "      <td>claramente factor juego particular variedad ba...</td>\n",
       "    </tr>\n",
       "    <tr>\n",
       "      <th>3</th>\n",
       "      <td>Por ejemplo, el estado australiano de Victoria...</td>\n",
       "      <td>3</td>\n",
       "      <td>es</td>\n",
       "      <td>ejemplo australiano victoria creer agencia pro...</td>\n",
       "    </tr>\n",
       "    <tr>\n",
       "      <th>4</th>\n",
       "      <td>El consumo anual de alcohol se estima en 15,7 ...</td>\n",
       "      <td>3</td>\n",
       "      <td>es</td>\n",
       "      <td>consumo anual alcohol estimar litro año hombre...</td>\n",
       "    </tr>\n",
       "    <tr>\n",
       "      <th>...</th>\n",
       "      <td>...</td>\n",
       "      <td>...</td>\n",
       "      <td>...</td>\n",
       "      <td>...</td>\n",
       "    </tr>\n",
       "    <tr>\n",
       "      <th>4044</th>\n",
       "      <td>Para ello, identificará las cuestiones de géne...</td>\n",
       "      <td>5</td>\n",
       "      <td>es</td>\n",
       "      <td>él identificara cuestión genero mas destacado ...</td>\n",
       "    </tr>\n",
       "    <tr>\n",
       "      <th>4045</th>\n",
       "      <td>La participación de las mujeres en roles de li...</td>\n",
       "      <td>5</td>\n",
       "      <td>es</td>\n",
       "      <td>participacion mujer rol liderazgo dentro legis...</td>\n",
       "    </tr>\n",
       "    <tr>\n",
       "      <th>4046</th>\n",
       "      <td>Según el WEF, según las tendencias de 2016, po...</td>\n",
       "      <td>5</td>\n",
       "      <td>es</td>\n",
       "      <td>segun wef segun tendencia podrio cerrar él den...</td>\n",
       "    </tr>\n",
       "    <tr>\n",
       "      <th>4047</th>\n",
       "      <td>Sirve como recurso y foro para las agencias, c...</td>\n",
       "      <td>5</td>\n",
       "      <td>es</td>\n",
       "      <td>servir recurso foro agencia objetivo lograr en...</td>\n",
       "    </tr>\n",
       "    <tr>\n",
       "      <th>4048</th>\n",
       "      <td>Las áreas útiles para un mayor estudio y acció...</td>\n",
       "      <td>5</td>\n",
       "      <td>es</td>\n",
       "      <td>area util mayor estudio accion politica inclui...</td>\n",
       "    </tr>\n",
       "  </tbody>\n",
       "</table>\n",
       "<p>4036 rows × 4 columns</p>\n",
       "</div>"
      ],
      "text/plain": [
       "                                         Textos_espanol  sdg language  \\\n",
       "0     Por ejemplo, el numero de consultas externas d...    3       es   \n",
       "1     En 2007, el gobierno central financió directam...    3       es   \n",
       "2     Claramente, hay muchos otros factores en juego...    3       es   \n",
       "3     Por ejemplo, el estado australiano de Victoria...    3       es   \n",
       "4     El consumo anual de alcohol se estima en 15,7 ...    3       es   \n",
       "...                                                 ...  ...      ...   \n",
       "4044  Para ello, identificará las cuestiones de géne...    5       es   \n",
       "4045  La participación de las mujeres en roles de li...    5       es   \n",
       "4046  Según el WEF, según las tendencias de 2016, po...    5       es   \n",
       "4047  Sirve como recurso y foro para las agencias, c...    5       es   \n",
       "4048  Las áreas útiles para un mayor estudio y acció...    5       es   \n",
       "\n",
       "                                                  words  \n",
       "0     ejemplo numero consulta externo especialista c...  \n",
       "1     gobierno central financio directamente solo ga...  \n",
       "2     claramente factor juego particular variedad ba...  \n",
       "3     ejemplo australiano victoria creer agencia pro...  \n",
       "4     consumo anual alcohol estimar litro año hombre...  \n",
       "...                                                 ...  \n",
       "4044  él identificara cuestión genero mas destacado ...  \n",
       "4045  participacion mujer rol liderazgo dentro legis...  \n",
       "4046  segun wef segun tendencia podrio cerrar él den...  \n",
       "4047  servir recurso foro agencia objetivo lograr en...  \n",
       "4048  area util mayor estudio accion politica inclui...  \n",
       "\n",
       "[4036 rows x 4 columns]"
      ]
     },
     "execution_count": 66,
     "metadata": {},
     "output_type": "execute_result"
    }
   ],
   "source": [
    "df_t['words'] = df_t['words'].apply(lambda x: ' '.join(map(str, x)))\n",
    "df_t"
   ]
  },
  {
   "cell_type": "markdown",
   "id": "2b37e55f-7471-4102-8210-a84d53c2c4b6",
   "metadata": {},
   "source": [
    "Finalmente, la columna 'words' muestra las palabras lematizadas en lugar de las formas originales, lo que facilita el análisis posterior al reducir la variabilidad lingüística y mantener la consistencia en el tratamiento del texto."
   ]
  },
  {
   "cell_type": "markdown",
   "id": "a42c024d-ebcb-44df-9284-47006ef3bd56",
   "metadata": {},
   "source": [
    "Por último, se realiza la comparación entre el primer documento antes de la limpieza y después, como se logra ver a continuación"
   ]
  },
  {
   "cell_type": "code",
   "execution_count": 69,
   "id": "801b8bb0-3f80-480c-830f-2b990ac46cfc",
   "metadata": {},
   "outputs": [
    {
     "name": "stdout",
     "output_type": "stream",
     "text": [
      "Por ejemplo, el numero de consultas externas de especialistas es de 319 por cada mil derechohabientes en el SP, en comparacion con 338 y 620 por cada mil derechohabientes en el IMSS y el ISSSTE, respectivamente. Si bien algunas de estas diferencias pueden reflejar una necesidad desigual (como la poblacion ligeramente mayor del ISSSTE), otras no pueden justificarse de esta manera. El numero de recetas que no pudieron ser surtidas en su totalidad por un farmaceutico debido a la falta de existencias es de 33% dentro del SP en comparacion con 14% dentro del IMSS segun los datos de la encuesta (aunque las propias cifras de los institutos de la SS sugieren tasas mas altas de recetas surtidas). Ambas cifras se encuentran entre las mas altas de la OCDE. El gasto de bolsillo no se ha reducido significativamente en la última década, a pesar de los esfuerzos para lograr la cobertura sanitaria universal a través de la reforma del SP.\n",
      "------------------------------------------------------------------------------------\n",
      "\n",
      "ejemplo numero consulta externo especialista cada mil derechohabient comparacion cada mil derechohabient imss issstar respectivamente bien diferencia poder reflejar necesidad desigual poblacion ligeramente mayor issste poder justificar él manera numero receta poder ser surtir totalidad farmaceutico debido faltar existencia dentro comparacion dentro imss segun dato encuesta aunque propio cifra instituto sugerir tasa mas alto receta surtida ambos cifra encontrar mas alto ocde gasto bolsillo reducido significativamente ultimo decado pesar esfuerzo lograr cobertura sanitario universal traves reforma\n"
     ]
    }
   ],
   "source": [
    "print(df_t['Textos_espanol'][0])\n",
    "print(\"------------------------------------------------------------------------------------\\n\")\n",
    "print(df_t['words'][0])"
   ]
  },
  {
   "cell_type": "markdown",
   "id": "ccaa6a3f-bd96-462c-bcbd-78411c0ed057",
   "metadata": {},
   "source": [
    "## 2.5 Vectorización\n",
    "\n",
    "La etapa de vectorización convierte los textos en representaciones numéricas que pueden ser utilizadas por modelos de machine learning. Esta etapa incluye tres pasos principales: la creación de la matriz de características utilizando TF-IDF, la balanceación de clases con SMOTE, y la preparación final de los datos para el análisis."
   ]
  },
  {
   "cell_type": "markdown",
   "id": "8b4e4bef-5245-482e-b087-6d21251ac409",
   "metadata": {},
   "source": [
    "### 2.5.0 Preparación para la vectorización"
   ]
  },
  {
   "cell_type": "code",
   "execution_count": 72,
   "id": "10525d65-3694-40f7-9cdc-57ce93248d19",
   "metadata": {},
   "outputs": [
    {
     "data": {
      "text/plain": [
       "0       3\n",
       "1       3\n",
       "2       3\n",
       "3       3\n",
       "4       3\n",
       "       ..\n",
       "4044    5\n",
       "4045    5\n",
       "4046    5\n",
       "4047    5\n",
       "4048    5\n",
       "Name: sdg, Length: 4036, dtype: int64"
      ]
     },
     "execution_count": 72,
     "metadata": {},
     "output_type": "execute_result"
    }
   ],
   "source": [
    "X_data, y_data = df_t['words'],df_t['sdg']\n",
    "y_data"
   ]
  },
  {
   "cell_type": "code",
   "execution_count": 73,
   "id": "99e2561e-0fcf-4eb2-8b17-1c7580ebfbd4",
   "metadata": {},
   "outputs": [
    {
     "name": "stdout",
     "output_type": "stream",
     "text": [
      "(4036, 14652)\n"
     ]
    },
    {
     "data": {
      "text/plain": [
       "array([0, 0, 0, ..., 0, 1, 0], dtype=int64)"
      ]
     },
     "execution_count": 73,
     "metadata": {},
     "output_type": "execute_result"
    }
   ],
   "source": [
    "count = CountVectorizer()\n",
    "X_count = count.fit_transform(X_data)\n",
    "print(X_count.shape)\n",
    "X_count.toarray()[0]"
   ]
  },
  {
   "cell_type": "markdown",
   "id": "9108a7a8-11a9-417d-abbf-845ff73a6175",
   "metadata": {},
   "source": [
    "### 2.5.1 Creación de la matriz de características TF-IDF\n",
    "Se emplea el TfidfVectorizer para transformar los textos en una representación numérica que refleje la importancia de las palabras en cada documento, considerando tanto la frecuencia de término (TF) como la frecuencia inversa de documento (IDF)."
   ]
  },
  {
   "cell_type": "code",
   "execution_count": 75,
   "id": "9c0b5e39-ff8a-4753-be94-ed3e6feb3607",
   "metadata": {},
   "outputs": [
    {
     "name": "stdout",
     "output_type": "stream",
     "text": [
      "(4036, 14652)\n"
     ]
    }
   ],
   "source": [
    "tf_idf = TfidfVectorizer()\n",
    "X_tf_idf = tf_idf.fit_transform(X_data)\n",
    "print(X_tf_idf.shape)"
   ]
  },
  {
   "cell_type": "markdown",
   "id": "5a29bfc8-0be1-4be6-9e4d-a3b7a7950148",
   "metadata": {},
   "source": [
    "La matriz resultante tiene dimensiones (4036, 14652), lo que indica que hay 4036 documentos y 14652 características (palabras). Esto refleja una representación detallada de los textos, donde cada fila corresponde a un documento y cada columna a una palabra en el vocabulario."
   ]
  },
  {
   "cell_type": "markdown",
   "id": "56cc6143-e9c1-4e71-8e59-52eebac4ab24",
   "metadata": {},
   "source": [
    "Ahora se mostrará un ejemplo de los valores TF-IDF para algunas palabras del primer documento:"
   ]
  },
  {
   "cell_type": "code",
   "execution_count": 78,
   "id": "c6d1388a-07e2-4036-859a-0d2c67b97e48",
   "metadata": {},
   "outputs": [
    {
     "name": "stdout",
     "output_type": "stream",
     "text": [
      "Word: alto, TF-IDF value: 0.11263615844185781\n",
      "Word: ambos, TF-IDF value: 0.09527969175969549\n",
      "Word: aunque, TF-IDF value: 0.0699998407411953\n",
      "Word: bien, TF-IDF value: 0.06980906049965\n",
      "Word: bolsillo, TF-IDF value: 0.1160766525013015\n",
      "Word: cada, TF-IDF value: 0.1321515229641754\n",
      "Word: cifra, TF-IDF value: 0.218610566285354\n",
      "Word: cobertura, TF-IDF value: 0.09527969175969549\n",
      "Word: comparacion, TF-IDF value: 0.1580251152882847\n",
      "Word: consulta, TF-IDF value: 0.10705512315131413\n",
      "Word: dato, TF-IDF value: 0.06399455253051164\n",
      "Word: debido, TF-IDF value: 0.08070484066025646\n",
      "Word: decado, TF-IDF value: 0.09054719004967651\n",
      "Word: dentro, TF-IDF value: 0.15099603674501788\n",
      "Word: derechohabient, TF-IDF value: 0.33673829412438966\n",
      "Word: desigual, TF-IDF value: 0.10542461082625736\n",
      "Word: diferencia, TF-IDF value: 0.07618724635430847\n",
      "Word: ejemplo, TF-IDF value: 0.05554013973745537\n",
      "Word: encontrar, TF-IDF value: 0.07931890573171876\n",
      "Word: encuesta, TF-IDF value: 0.0844699864683739\n",
      "Word: esfuerzo, TF-IDF value: 0.07681091533102759\n",
      "Word: especialista, TF-IDF value: 0.10153611814594565\n",
      "Word: existencia, TF-IDF value: 0.12147873745938875\n",
      "Word: externo, TF-IDF value: 0.10356083744922978\n",
      "Word: faltar, TF-IDF value: 0.08719631033608151\n",
      "Word: farmaceutico, TF-IDF value: 0.10286237678564798\n",
      "Word: gasto, TF-IDF value: 0.07645210123361026\n",
      "Word: imss, TF-IDF value: 0.30090249410407166\n",
      "Word: instituto, TF-IDF value: 0.10286237678564798\n",
      "Word: issstar, TF-IDF value: 0.15481477895438506\n",
      "Word: issste, TF-IDF value: 0.16836914706219483\n",
      "Word: justificar, TF-IDF value: 0.13333161378253583\n",
      "Word: ligeramente, TF-IDF value: 0.11131266661180134\n",
      "Word: lograr, TF-IDF value: 0.07921625552407856\n",
      "Word: manera, TF-IDF value: 0.08048512127393044\n",
      "Word: mas, TF-IDF value: 0.07124608541271588\n",
      "Word: mayor, TF-IDF value: 0.054500534753496775\n",
      "Word: mil, TF-IDF value: 0.2579361637603732\n",
      "Word: necesidad, TF-IDF value: 0.0669307531661207\n",
      "Word: numero, TF-IDF value: 0.14475018392262493\n",
      "Word: ocde, TF-IDF value: 0.05526748872581321\n",
      "Word: pesar, TF-IDF value: 0.0918702427184476\n",
      "Word: poblacion, TF-IDF value: 0.07078213784466492\n",
      "Word: poder, TF-IDF value: 0.1275811876969058\n",
      "Word: propio, TF-IDF value: 0.08172532365188573\n",
      "Word: receta, TF-IDF value: 0.2779143696526122\n",
      "Word: reducido, TF-IDF value: 0.109305283142677\n",
      "Word: reflejar, TF-IDF value: 0.08704293841533628\n",
      "Word: reforma, TF-IDF value: 0.07851240711569028\n",
      "Word: respectivamente, TF-IDF value: 0.107924369351579\n",
      "Word: sanitario, TF-IDF value: 0.07483225808385764\n",
      "Word: segun, TF-IDF value: 0.07636341709225937\n",
      "Word: ser, TF-IDF value: 0.05302452413890915\n",
      "Word: significativamente, TF-IDF value: 0.09775829850399158\n",
      "Word: sugerir, TF-IDF value: 0.08460438438333277\n",
      "Word: surtida, TF-IDF value: 0.16836914706219483\n",
      "Word: surtir, TF-IDF value: 0.16836914706219483\n",
      "Word: tasa, TF-IDF value: 0.06731689755401273\n",
      "Word: totalidad, TF-IDF value: 0.1389571848263061\n",
      "Word: traves, TF-IDF value: 0.0898295014399521\n",
      "Word: ultimo, TF-IDF value: 0.08913722314115516\n",
      "Word: universal, TF-IDF value: 0.099411802977084\n",
      "Word: él, TF-IDF value: 0.04772352186823814\n"
     ]
    }
   ],
   "source": [
    "# Imprime los valores TF-IDF para las palabras del primer documento\n",
    "index_to_word = {idx: word for word, idx in tf_idf.vocabulary_.items()}\n",
    "\n",
    "first_document_tfidf = X_tf_idf[0].toarray().flatten()\n",
    "for idx, tfidf_value in enumerate(first_document_tfidf):\n",
    "    if tfidf_value != 0:\n",
    "        word = index_to_word[idx]\n",
    "        print(f\"Word: {word}, TF-IDF value: {tfidf_value}\")"
   ]
  },
  {
   "cell_type": "markdown",
   "id": "250356c2-475b-48c8-befd-440ff8899447",
   "metadata": {},
   "source": [
    "### 2.5.2 Preparación de los datos\n",
    "Se convierte la matriz dispersa de TF-IDF en un DataFrame para facilitar el análisis y la manipulación de los datos:"
   ]
  },
  {
   "cell_type": "code",
   "execution_count": 80,
   "id": "4277897b-7792-4370-98b2-13278db5c98c",
   "metadata": {},
   "outputs": [
    {
     "data": {
      "text/plain": [
       "Index(['ejemplo', 'numero', 'consulta', 'externo', 'especialista', 'cada',\n",
       "       'mil', 'derechohabient', 'comparacion', 'imss',\n",
       "       ...\n",
       "       'heterodoxo', 'redefinido', 'esperada', 'identificara', 'arrojarar',\n",
       "       'rrd', 'sintonia', 'wef', 'complementacion', 'incrustar'],\n",
       "      dtype='object', length=14652)"
      ]
     },
     "execution_count": 80,
     "metadata": {},
     "output_type": "execute_result"
    }
   ],
   "source": [
    "data_prep = X_tf_idf.copy().todense()\n",
    "data_prep = pd.DataFrame(data_prep, columns=tf_idf.vocabulary_.keys())\n",
    "data_prep.columns"
   ]
  },
  {
   "cell_type": "code",
   "execution_count": 81,
   "id": "4fa2a89e-7a9c-45de-9dce-f28b729b4061",
   "metadata": {},
   "outputs": [
    {
     "data": {
      "text/plain": [
       "Index(['ejemplo', 'numero', 'consulta', 'externo', 'especialista', 'cada',\n",
       "       'mil', 'derechohabient', 'comparacion', 'imss',\n",
       "       ...\n",
       "       'redefinido', 'esperada', 'identificara', 'arrojarar', 'rrd',\n",
       "       'sintonia', 'wef', 'complementacion', 'incrustar', 'sdg'],\n",
       "      dtype='object', length=14653)"
      ]
     },
     "execution_count": 81,
     "metadata": {},
     "output_type": "execute_result"
    }
   ],
   "source": [
    "data_prep[\"sdg\"] = y_data\n",
    "data_prep.columns"
   ]
  },
  {
   "cell_type": "code",
   "execution_count": 82,
   "id": "135f39a7-5b58-4908-b7c8-d1d16021eb6c",
   "metadata": {},
   "outputs": [
    {
     "data": {
      "text/plain": [
       "(4036, 14653)"
      ]
     },
     "execution_count": 82,
     "metadata": {},
     "output_type": "execute_result"
    }
   ],
   "source": [
    "data_prep.shape"
   ]
  },
  {
   "cell_type": "code",
   "execution_count": 83,
   "id": "2200def5-30fc-4052-a5b0-6f98139ce9ef",
   "metadata": {},
   "outputs": [
    {
     "data": {
      "text/plain": [
       "0"
      ]
     },
     "execution_count": 83,
     "metadata": {},
     "output_type": "execute_result"
    }
   ],
   "source": [
    "data_prep.duplicated().sum()"
   ]
  },
  {
   "cell_type": "code",
   "execution_count": 84,
   "id": "e824c1f1-dcaf-4bdb-9487-c64aa1cc662d",
   "metadata": {},
   "outputs": [],
   "source": [
    " data_prep = data_prep.drop_duplicates()"
   ]
  },
  {
   "cell_type": "markdown",
   "id": "336ea8fc-55d2-4cc1-9cc7-1972cc94c72a",
   "metadata": {},
   "source": [
    "Con esto termina la preparación de los datos, habiendo eliminado las filas duplicadas y creado la matriz TF-IDF con los valores resultado para cada palabra y documento."
   ]
  },
  {
   "cell_type": "markdown",
   "id": "1c826444-454a-4f6e-be96-2c75a1d32019",
   "metadata": {},
   "source": [
    "### 2.5.3 Análisis de la distribución TF-IDF\n",
    "Se genera un histograma para analizar la distribución de los valores TF-IDF a través de diferentes documentos"
   ]
  },
  {
   "cell_type": "code",
   "execution_count": 87,
   "id": "457cf9a8-ed03-465f-b166-c19dbd98e1a4",
   "metadata": {},
   "outputs": [
    {
     "data": {
      "image/png": "[encoded data removed]",
      "text/plain": [
       "<Figure size 1000x600 with 1 Axes>"
      ]
     },
     "metadata": {},
     "output_type": "display_data"
    }
   ],
   "source": [
    "# Creamos un histograma para ver la distribución de valores tf_idf\n",
    "tf_idf_scores = X_tf_idf.toarray()\n",
    "\n",
    "# Aplanar el array y eliminar los ceros\n",
    "tf_idf_scores_flat = tf_idf_scores.flatten()[tf_idf_scores.flatten() != 0]\n",
    "\n",
    "# Crear los bins con un rango reducido (ajusta según sea necesario)\n",
    "bin_edges = np.arange(0, 0.5, 0.01)  # Enfocado en el rango [0, 0.5]\n",
    "\n",
    "# Calcular el histograma\n",
    "hist, bins = np.histogram(tf_idf_scores_flat, bins=bin_edges)\n",
    "\n",
    "# Crear la gráfica de barras\n",
    "plt.figure(figsize=(10, 6))\n",
    "plt.bar(bins[:-1], hist, width=0.01, color='skyblue')\n",
    "\n",
    "\n",
    "plt.xlim(0, 0.5)  \n",
    "plt.ylim(1, max(hist) * 1.1)  \n",
    "\n",
    "# Añadir etiquetas y título\n",
    "plt.xlabel('Puntaje TF-IDF')\n",
    "plt.ylabel('Contador de palabras')\n",
    "plt.title('Distribución TF-IDF')\n",
    "plt.grid(True)\n",
    "\n",
    "# Mostrar la gráfica\n",
    "plt.show()"
   ]
  },
  {
   "cell_type": "markdown",
   "id": "f0819541-74fb-4b0d-bfad-6797bc30b846",
   "metadata": {},
   "source": [
    "La gráfica muestra la distribución de los valores TF-IDF (Term Frequency-Inverse Document Frequency) en el conjunto de datos, donde el eje X representa los valores de TF-IDF, que varían entre 0 y 0.5, y el eje Y indica la cantidad de palabras que corresponden a cada rango de TF-IDF. La mayoría de las palabras tienen un valor de TF-IDF cercano a 0.1, lo que sugiere que son comunes en muchos documentos y, por lo tanto, menos representativas de un documento específico. A medida que los valores de TF-IDF aumentan, la cantidad de palabras disminuye, lo que indica que solo unas pocas palabras tienen un valor más alto, lo que las hace más relevantes para algunos documentos en particular. Esta distribución asimétrica es típica en análisis de texto, donde la mayoría de las palabras son de uso generalizado, y solo unas pocas destacan como representativas de contenido específico dentro de los textos."
   ]
  },
  {
   "cell_type": "markdown",
   "id": "ec3330d2-cd10-4a4e-9867-d0de7e036855",
   "metadata": {},
   "source": [
    "#### 2.5.4 Exportación de datos\n",
    "Finalmente, se eliminan las variables utilizadas para el analisis TF-IDF y además se guarda el DataFrame preparado en un archivo CSV para su uso posterior:"
   ]
  },
  {
   "cell_type": "code",
   "execution_count": 90,
   "id": "0145a823-eb71-4977-a026-3957a7252132",
   "metadata": {},
   "outputs": [],
   "source": [
    "del tf_idf_scores_flat, bin_edges, hist, bins, X_tf_idf, tf_idf, df_t\n",
    "#data_prep.to_csv(\"datos_procesados.csv\", index=False)"
   ]
  },
  {
   "cell_type": "markdown",
   "id": "11a94812-c8f6-4153-99d1-d76b4cd5b8f4",
   "metadata": {},
   "source": [
    "# 3. Modelado"
   ]
  },
  {
   "cell_type": "markdown",
   "id": "395a4709-a7d8-41b0-91f4-360d8e837286",
   "metadata": {},
   "source": [
    "## 3.1 Algoritmo de Regresión Logística (Santiago Osorio)"
   ]
  },
  {
   "cell_type": "markdown",
   "id": "105e5a7c-bd82-4f83-8645-d7e7cdde0847",
   "metadata": {},
   "source": [
    "### 3.1.0 Descripción del Algoritmo"
   ]
  },
  {
   "cell_type": "markdown",
   "id": "698938f8-a825-4ec7-a059-0520391b95b3",
   "metadata": {},
   "source": [
    "La regresión logística es un algoritmo de aprendizaje supervisado utilizado principalmente para la tarea de clasificación. Su propósito es predecir la probabilidad de que un evento ocurra, lo cual resulta en la clasificación de una observación en una categoría específica. En este caso, el modelo predice si una observación pertenece a una clase particular o no, lo que lo hace ideal para problemas de clasificación binaria.\n",
    "\n",
    "Aunque generalmente se usa en tareas binarias, la regresión logística puede extenderse a problemas multiclase mediante la técnica One-vs-Rest (OvR), que consiste en entrenar un modelo por cada clase. Para cada clase, se evalúa si una observación pertenece a esa clase o a una \"nueva clase\" que agrupa a todas las demás. Así, aunque el problema tenga múltiples categorías, cada modelo trabaja con solo dos clases: la clase objetivo y \"el resto\".\n",
    "\n",
    "Matemáticamente, la regresión logística se basa en la función sigmoidea:"
   ]
  },
  {
   "cell_type": "markdown",
   "id": "19c60d87-68e4-4f55-b26f-b5241f5fea74",
   "metadata": {},
   "source": [
    "$$f(x) = \\frac{1}{1 + e^{-x}}$$\n",
    "Esta función transforma cualquier valor real en un rango entre 0 y 1, representando una probabilidad. En el modelo, la probabilidad de una clase positiva se calcula utilizando una expresión similar a una regresión lineal:"
   ]
  },
  {
   "cell_type": "markdown",
   "id": "68f52d17-d215-4883-b9c0-72f55481ef0a",
   "metadata": {},
   "source": [
    "$$y = \\frac{e^{(b_0 \\ + \\ b_1X)}}{1 + e^{(b_0 \\ + \\ b_1X)}}$$"
   ]
  },
  {
   "cell_type": "markdown",
   "id": "96d84f3f-b588-4665-86a8-eb69c60b685a",
   "metadata": {},
   "source": [
    "Donde $b_0$ es el sesgo (bias) y $b_1$ es el coeficiente de la variable $X$. A medida que $X$\n",
    "X aumenta, la función sigmoidea se aproxima a 1, lo que implica una mayor probabilidad de que el evento ocurra.\n",
    "\n",
    "Para clasificación multiclase con OvR, se entrena un modelo para cada clase y, durante la predicción, se elige el modelo con la mayor probabilidad de clase positiva.\n",
    "\n",
    "El entrenamiento del modelo implica encontrar los valores óptimos de los parámetros $b_0$ y $b_1$ utilizando el método de descenso de gradiente estocástico (SGD) y la función de pérdida de entropía cruzada (cross-entropy loss), que mide la diferencia entre las probabilidades predichas y las clases reales.\n",
    "\n",
    "Algunos supuestos clave para la aplicación de la regresión logística incluyen la independencia de las observaciones, la ausencia de multicolinealidad entre las variables explicativas, y una relación lineal entre las variables y el logaritmo de odds (logit). Además, es recomendable que el dataset sea linealmente separable.\n",
    "\n",
    "Para la optimización del modelo, se pueden ajustar varios hiperparámetros, como el solver (el algoritmo de optimización), la penalización (para evitar el sobreajuste), y la fortaleza de regularización $C$ (que controla la complejidad del modelo). La mejor combinación de estos hiperparámetros se determina mediante la búsqueda con validación cruzada, que evalúa distintas configuraciones en múltiples divisiones del conjunto de datos de entrenamiento, asegurando un modelo robusto y generalizable.\n",
    "\n",
    "Finalmente, las métricas de evaluación para la regresión logística incluyen precisión, recall, F1-score y la matriz de confusión, las cuales proporcionan una visión integral del rendimiento del modelo.perplano en un numero finito de iteraciones."
   ]
  },
  {
   "cell_type": "markdown",
   "id": "de7585bf-a83e-4a8c-a3b0-e7e36e63149f",
   "metadata": {},
   "source": [
    "#### Fuentes:\n",
    "* https://web.stanford.edu/~jurafsky/slp3/5.pdf\n",
    "* https://www.spiceworks.com/tech/artificial-intelligence/articles/what-is-logistic-regression/\n",
    "* https://medium.com/codex/do-i-need-to-tune-logistic-regression-hyperparameters-1cb2b81fca69\n",
    "* https://www.kaggle.com/code/satishgunjal/multiclass-logistic-regression-using-sklearn\n",
    "* https://scikit-learn.org/stable/modules/generated/sklearn.linear_model.Perceptron.html"
   ]
  },
  {
   "cell_type": "code",
   "execution_count": 99,
   "id": "3c87a026-49ea-4ca3-a61d-8c35ee9a606e",
   "metadata": {},
   "outputs": [],
   "source": [
    "data = data_prep.copy()"
   ]
  },
  {
   "cell_type": "code",
   "execution_count": 100,
   "id": "74f55335-55e2-4e01-bb2a-9b565f8475c4",
   "metadata": {},
   "outputs": [],
   "source": [
    "#Identificación de la etiqueta y de las variables explicativas\n",
    "label = 'sdg'\n",
    "features = data.columns.to_list()\n",
    "features.remove(label)"
   ]
  },
  {
   "cell_type": "code",
   "execution_count": 101,
   "id": "72229be9-1107-484a-b335-4ffe2af1d1f5",
   "metadata": {},
   "outputs": [
    {
     "data": {
      "text/plain": [
       "sdg\n",
       "5.0    1433\n",
       "4.0    1352\n",
       "3.0    1238\n",
       "Name: count, dtype: int64"
      ]
     },
     "execution_count": 101,
     "metadata": {},
     "output_type": "execute_result"
    }
   ],
   "source": [
    "data['sdg'].value_counts()"
   ]
  },
  {
   "cell_type": "code",
   "execution_count": 102,
   "id": "daa42d8b-bf04-4102-b124-39dee2be9dc7",
   "metadata": {},
   "outputs": [
    {
     "data": {
      "text/plain": [
       "sdg\n",
       "5.0    1433\n",
       "4.0    1352\n",
       "3.0    1238\n",
       "Name: count, dtype: int64"
      ]
     },
     "execution_count": 102,
     "metadata": {},
     "output_type": "execute_result"
    }
   ],
   "source": [
    "data['sdg'].value_counts()"
   ]
  },
  {
   "cell_type": "markdown",
   "id": "bcca9fd7-e2ae-45ad-afac-e3f429d912ff",
   "metadata": {},
   "source": [
    "Ahora se revisarán los valores nulos para las filas y las columnas"
   ]
  },
  {
   "cell_type": "code",
   "execution_count": 104,
   "id": "a8a1d5a9-49cc-4a91-a0ac-d66859c459d5",
   "metadata": {},
   "outputs": [
    {
     "data": {
      "text/plain": [
       "13"
      ]
     },
     "execution_count": 104,
     "metadata": {},
     "output_type": "execute_result"
    }
   ],
   "source": [
    "data.isnull().any(axis=1).sum()"
   ]
  },
  {
   "cell_type": "code",
   "execution_count": 105,
   "id": "e4a6ec78-86a9-4fae-bbc6-faecdc583fc4",
   "metadata": {},
   "outputs": [
    {
     "data": {
      "text/plain": [
       "1"
      ]
     },
     "execution_count": 105,
     "metadata": {},
     "output_type": "execute_result"
    }
   ],
   "source": [
    "data.isnull().any(axis=0).sum()"
   ]
  },
  {
   "cell_type": "markdown",
   "id": "1c281ca2-2061-4a82-9c36-5de7924b2e74",
   "metadata": {},
   "source": [
    "Existe una columna nula y 13 filas nulas, por lo que se decide que es mejor borrarlas para que no puedan llegar a afectar al modelo."
   ]
  },
  {
   "cell_type": "code",
   "execution_count": 107,
   "id": "ab40b7e3-3825-45ae-b1ca-f937a3cf69c2",
   "metadata": {},
   "outputs": [],
   "source": [
    "data = data.dropna(axis=0)\n",
    "data = data.dropna(axis=1)"
   ]
  },
  {
   "cell_type": "markdown",
   "id": "01b7728a-bd97-4baf-b7df-c940c5b61454",
   "metadata": {},
   "source": [
    "Ahora se comprueba que efectivamente se hayan eliminado los valores nulos para los datos."
   ]
  },
  {
   "cell_type": "code",
   "execution_count": 109,
   "id": "2aa904df-929c-4c3f-837b-d8c947d56e62",
   "metadata": {},
   "outputs": [
    {
     "data": {
      "text/plain": [
       "0"
      ]
     },
     "execution_count": 109,
     "metadata": {},
     "output_type": "execute_result"
    }
   ],
   "source": [
    "data.isnull().any(axis=1).sum()"
   ]
  },
  {
   "cell_type": "code",
   "execution_count": 110,
   "id": "e76e5e7a-8b5d-462a-9cef-1922fd55e3f8",
   "metadata": {},
   "outputs": [
    {
     "data": {
      "text/plain": [
       "0"
      ]
     },
     "execution_count": 110,
     "metadata": {},
     "output_type": "execute_result"
    }
   ],
   "source": [
    "data.isnull().any(axis=0).sum()"
   ]
  },
  {
   "cell_type": "markdown",
   "id": "7d1ee6e5-62af-4fa9-a3d4-60b33973ef93",
   "metadata": {},
   "source": [
    "Luego se comprueba la variación de la columna objetivo para ver como pudieron haber influido la eliminación de valores nulos."
   ]
  },
  {
   "cell_type": "markdown",
   "id": "d8c3586b-bde7-4ba8-acc5-175ec0d6f821",
   "metadata": {},
   "source": [
    "Después de haber eliminado los nulos se procede a cambiar el tipo de dato de sdg a entero."
   ]
  },
  {
   "cell_type": "code",
   "execution_count": 113,
   "id": "5ab4ca93-ecdf-4b40-9543-ae66cac6fbdc",
   "metadata": {},
   "outputs": [],
   "source": [
    "data['sdg'] = data['sdg'].astype(int)"
   ]
  },
  {
   "cell_type": "code",
   "execution_count": 114,
   "id": "1ce2a709-ff43-4561-bde9-e781730a0f31",
   "metadata": {},
   "outputs": [
    {
     "data": {
      "text/plain": [
       "sdg\n",
       "5    1433\n",
       "4    1352\n",
       "3    1238\n",
       "Name: count, dtype: int64"
      ]
     },
     "execution_count": 114,
     "metadata": {},
     "output_type": "execute_result"
    }
   ],
   "source": [
    "data['sdg'].value_counts()"
   ]
  },
  {
   "cell_type": "code",
   "execution_count": 115,
   "id": "e273eff2-3296-4551-9160-a68f329228a6",
   "metadata": {},
   "outputs": [
    {
     "data": {
      "text/plain": [
       "0       3\n",
       "1       3\n",
       "2       3\n",
       "3       3\n",
       "4       3\n",
       "       ..\n",
       "4031    5\n",
       "4032    5\n",
       "4033    5\n",
       "4034    5\n",
       "4035    5\n",
       "Name: sdg, Length: 4023, dtype: int32"
      ]
     },
     "execution_count": 115,
     "metadata": {},
     "output_type": "execute_result"
    }
   ],
   "source": [
    "data['sdg']"
   ]
  },
  {
   "cell_type": "markdown",
   "id": "feb4af04-7803-405f-8e6c-da98e2060ec9",
   "metadata": {},
   "source": [
    "Se evidencia entonces, que la columna sdg está en perfecto estado después de las modificaciones"
   ]
  },
  {
   "cell_type": "markdown",
   "id": "93f9284e-6f2f-4739-bac6-67dee3ee538d",
   "metadata": {},
   "source": [
    "Luego, se procede a revisar si existen duplicados"
   ]
  },
  {
   "cell_type": "code",
   "execution_count": 118,
   "id": "630219b3-52d6-4e54-87e3-11e4513a8dcb",
   "metadata": {},
   "outputs": [
    {
     "data": {
      "text/plain": [
       "0"
      ]
     },
     "execution_count": 118,
     "metadata": {},
     "output_type": "execute_result"
    }
   ],
   "source": [
    "data.duplicated().sum()"
   ]
  },
  {
   "cell_type": "markdown",
   "id": "eaca434a-e52c-4277-8c64-1c53fa232c39",
   "metadata": {},
   "source": [
    "Efectivamente, no hay duplicados. \n",
    "\n",
    "Ahora se revisan los duplicados para las features."
   ]
  },
  {
   "cell_type": "code",
   "execution_count": 120,
   "id": "066d3b57-a32e-4c8b-a080-ecb5a7223d74",
   "metadata": {},
   "outputs": [
    {
     "data": {
      "text/plain": [
       "0"
      ]
     },
     "execution_count": 120,
     "metadata": {},
     "output_type": "execute_result"
    }
   ],
   "source": [
    "data[features].duplicated().sum()"
   ]
  },
  {
   "cell_type": "markdown",
   "id": "0649d7a8-813c-4ae9-b592-ffd088068c57",
   "metadata": {},
   "source": [
    "No existen duplicados para features. \n",
    "\n",
    "Ahora se procede a revisar la forma que tienen los datos."
   ]
  },
  {
   "cell_type": "code",
   "execution_count": 122,
   "id": "23c15259-5854-4a4a-96f3-58731092695c",
   "metadata": {},
   "outputs": [
    {
     "data": {
      "text/plain": [
       "(4023, 14653)"
      ]
     },
     "execution_count": 122,
     "metadata": {},
     "output_type": "execute_result"
    }
   ],
   "source": [
    "data.shape"
   ]
  },
  {
   "cell_type": "markdown",
   "id": "55a5ce3f-9e66-4648-850d-6059d2ffb9d2",
   "metadata": {},
   "source": [
    "Existen entonces 4023 filas con 14563 columnas despues de haber realizado la última limpieza."
   ]
  },
  {
   "cell_type": "markdown",
   "id": "d9812665-93c9-4a50-a178-dfc65af0e9f6",
   "metadata": {},
   "source": [
    "### 3.1.1 Análisis de colinealidad entre las variables\n",
    "En este modelo, se asume que existe independencia y no multicolinealidad entre las variables explicativas. Esto se justifica porque las palabras en los textos, que representan nuestras variables explicativas, tienen baja correlación entre sí,  especialmente después del preprocesamiento que eliminó stopwords, conectores y palabras comunes.  Calcular la correlación entre más de 14,000 variables sería computacionalmente costoso, y hacerlo de manera exhaustiva podría eliminar  variables importantes para el modelo, lo cual afectaría negativamente el desempeño.  Aunque se intentó eliminar variables correlacionadas, se observó una pérdida de información importante, por lo que este proceso ha quedado descartado en esta implementación.\n",
    "\n",
    "Ejemplo del código que fue descartado:\n",
    "\n",
    "\n",
    "El siguiente código generaba un mapa de correlación y eliminaba las variables correlacionadas, pero fue descartado porque redujo la calidad del modelo al eliminar información relevante."
   ]
  },
  {
   "cell_type": "code",
   "execution_count": 125,
   "id": "ee738b7b-c21d-4dfb-8736-eb6efb0afa9b",
   "metadata": {},
   "outputs": [],
   "source": [
    "# # Configuración para encontrar variables correlacionadas\n",
    "# minimum_corr = 0.6\n",
    "# plt.figure(figsize=(12, 10))\n",
    "# columns_heatmap = features.copy()\n",
    "# correlation_map = data[columns_heatmap].corr().abs().applymap(lambda x: 0 if (x < minimum_corr) else 1)\n",
    "#\n",
    "# # Lista de tuplas con variables correlacionadas\n",
    "# correlated_cols = set()\n",
    "# for i, col in enumerate(columns_heatmap):\n",
    "#     for j, col2 in enumerate(columns_heatmap):\n",
    "#         if j < i and correlation_map.loc[col, col2] == 1:\n",
    "#             correlated_cols.add(col)\n",
    "#\n",
    "# # Eliminar las variables correlacionadas\n",
    "# for col in correlated_cols:\n",
    "#     data = data.drop(col, axis=1)\n",
    "# features = data.columns.to_list()\n",
    "# features.remove(label)"
   ]
  },
  {
   "cell_type": "code",
   "execution_count": 126,
   "id": "72592bf2-d758-48a9-b983-7d08e128ec58",
   "metadata": {},
   "outputs": [
    {
     "name": "stdout",
     "output_type": "stream",
     "text": [
      "Duplicados en las features:  0\n",
      "Duplicados totales:  0\n",
      "Dimensiones del conjunto de datos:  (4023, 14653)\n",
      "Index(['ejemplo', 'numero', 'consulta', 'externo', 'especialista', 'cada',\n",
      "       'mil', 'derechohabient', 'comparacion', 'imss',\n",
      "       ...\n",
      "       'redefinido', 'esperada', 'identificara', 'arrojarar', 'rrd',\n",
      "       'sintonia', 'wef', 'complementacion', 'incrustar', 'sdg'],\n",
      "      dtype='object', length=14653)\n"
     ]
    },
    {
     "data": {
      "text/plain": [
       "sdg\n",
       "5    1433\n",
       "4    1352\n",
       "3    1238\n",
       "Name: count, dtype: int64"
      ]
     },
     "execution_count": 126,
     "metadata": {},
     "output_type": "execute_result"
    }
   ],
   "source": [
    "# Verificación de duplicados\n",
    "print(\"Duplicados en las features: \", data[features].duplicated().sum())\n",
    "print(\"Duplicados totales: \", data.duplicated().sum())\n",
    "print(\"Dimensiones del conjunto de datos: \", data.shape)\n",
    "print(data.columns)\n",
    "data[\"sdg\"].value_counts()"
   ]
  },
  {
   "cell_type": "markdown",
   "id": "283adc65-9f3f-4457-9c61-d68bb4d9ecf2",
   "metadata": {},
   "source": [
    "### 3.1.2 Manejo de valores atípicos:\n",
    "Para cumplir con el supuesto de que los valores atípicos extremos no afecten el rendimiento del modelo, se evaluará cuánto impacto tendrían en la calidad del modelo. Si se pierde demasiada información, se preferirá mantenerlos, ya que aunque sean lejanos, podrían representar patrones válidos en los datos."
   ]
  },
  {
   "cell_type": "code",
   "execution_count": 128,
   "id": "c9976497-839a-4ed1-9453-e74645a50916",
   "metadata": {},
   "outputs": [],
   "source": [
    "# Proceso de eliminación de valores atípicos sobre una copia de los datos para evaluación.\n",
    "# dataTest = data.copy()\n",
    "#\n",
    "# for feature in features:\n",
    "#     # Definir los límites basados en el rango intercuartílico\n",
    "#     q1 = dataTest[feature].quantile(0.25)\n",
    "#     q3 = dataTest[feature].quantile(0.75)\n",
    "#     iqr = q3 - q1\n",
    "#     lower_bound = q1 - 1.5 * iqr\n",
    "#     upper_bound = q3 + 1.5 * iqr\n",
    "#\n",
    "#     # Filtrar los datos que están dentro de los límites\n",
    "#     valid = (dataTest[feature] >= lower_bound) & (dataTest[feature] <= upper_bound)\n",
    "#     dataTest = dataTest[valid]\n",
    "#\n"
   ]
  },
  {
   "cell_type": "markdown",
   "id": "307b1e41-dd9b-4e21-adf4-1877df89b0f9",
   "metadata": {},
   "source": [
    "Luego de revisar el modelo, se llega a la conclusión de que funciona mejor con los valores atípicos, por lo que se decide comentar el código y seguir con el proceso de modelado.\n",
    "\n",
    "Ya con estas preparaciones extra se puede continuar con la separación de los datos en los conjuntos de entrenamiento y prueba."
   ]
  },
  {
   "cell_type": "markdown",
   "id": "b443e041-78fb-42bf-a2f9-0837881bd31b",
   "metadata": {},
   "source": [
    "### 3.1.3 Definición del modelo y Parametrización\n",
    "Se lleva a cabo un proceso de selección y optimización de hiperparámetros para un modelo de Regresión Logística, utilizando validación cruzada. Con la herramienta GridSearchCV, se busca determinar la mejor combinación de hiperparámetros, como la intensidad de la regularización y el algoritmo de optimización, con el objetivo de maximizar la precisión del modelo. La validación cruzada, implementada mediante KFold, asegura una evaluación más sólida del modelo al dividir el conjunto de datos en varias partes para su uso iterativo en entrenamiento y validación, reduciendo así el riesgo de sobreajuste. Al finalizar el proceso, se obtienen los hiperparámetros óptimos que mejoran el rendimiento del modelo, lo cual se refleja en su capacidad para clasificar correctamente nuevas instancias basándose en los datos de entrenamiento.\n",
    "\n",
    "```\n",
    "Best params:  {'C': 800, 'penalty': 'l2', 'solver': 'newton-cg'}\n",
    "```\n"
   ]
  },
  {
   "cell_type": "code",
   "execution_count": 131,
   "id": "c3a3ac6a-1c8d-4d9e-8320-fdec92aceecb",
   "metadata": {},
   "outputs": [],
   "source": [
    "#División del conjunto de datos en entrenamiento y prueba\n",
    "x_train, x_test, y_train, y_test = train_test_split(data[features], data[label], test_size=0.2, random_state=1)\n"
   ]
  },
  {
   "cell_type": "code",
   "execution_count": 132,
   "id": "608e6e44-6214-4d8b-b502-1bc515643773",
   "metadata": {},
   "outputs": [
    {
     "name": "stdout",
     "output_type": "stream",
     "text": [
      "Best params:  {'C': 800, 'penalty': 'l2', 'solver': 'liblinear'}\n",
      "Score:  0.728009585997166\n"
     ]
    }
   ],
   "source": [
    "params_logreg = {'C': [800],\n",
    "                 'solver': ['newton-cg', 'lbfgs', 'liblinear'],\n",
    "                 'penalty': ['l2']}\n",
    "\n",
    "particiones = KFold(n_splits=10, shuffle=True, random_state=0)\n",
    "linearR = LogisticRegression()\n",
    "linearR = GridSearchCV(linearR, params_logreg, cv=particiones, n_jobs=-1, scoring='f1_weighted')\n",
    "linearR.fit(x_train, y_train)\n",
    "\n",
    "print(\"Best params: \", linearR.best_params_)\n",
    "print(\"Score: \", linearR.best_score_)"
   ]
  },
  {
   "cell_type": "markdown",
   "id": "d48a381a-f5f3-4d57-b57f-a3f9372bff46",
   "metadata": {},
   "source": [
    "### 3.1.4 Predicción de clasificaciones\n",
    "Se realizan predicciones de clasificación con el modelo de Regresión Logística previamente entrenado. Primero, se utiliza el conjunto de entrenamiento (x_train) para predecir las clasificaciones correspondientes y se almacenan en y_pred_train. Luego, se repite el proceso con el conjunto de prueba (x_test), guardando las predicciones en y_pred_test."
   ]
  },
  {
   "cell_type": "code",
   "execution_count": 134,
   "id": "91347824-56d1-485c-b6e5-16daff2c6fed",
   "metadata": {},
   "outputs": [],
   "source": [
    "y_pred_train = linearR.predict(x_train)\n",
    "y_pred_test = linearR.predict(x_test)"
   ]
  },
  {
   "cell_type": "markdown",
   "id": "f5e909d5-5d16-461d-8557-ddcd1bc68c20",
   "metadata": {},
   "source": [
    "### 3.1.5 Métricas de entrenamiento\n",
    "Se observa que el modelo ha alcanzado una precisión, recall y puntuación F1 perfectas de 1.00 para cada una de las tres clases, lo que indica que ha clasificado correctamente todas las instancias del conjunto de entrenamiento. La precisión es la proporción de identificaciones positivas verdaderas entre todas las identificaciones positivas (tanto verdaderas como falsas), mientras que el recall mide la proporción de positivos verdaderos identificados correctamente. La puntuación F1 es el promedio armónico de la precisión y el recall, ofreciendo un balance entre ambos. La precisión global del modelo también es del 100%, lo cual es excepcionalmente alto."
   ]
  },
  {
   "cell_type": "code",
   "execution_count": 136,
   "id": "ac9589c9-6a69-45a9-a1bd-74b2c1081fdb",
   "metadata": {},
   "outputs": [
    {
     "name": "stdout",
     "output_type": "stream",
     "text": [
      "              precision    recall  f1-score   support\n",
      "\n",
      "           3       1.00      1.00      1.00       982\n",
      "           4       1.00      1.00      1.00      1092\n",
      "           5       1.00      1.00      1.00      1144\n",
      "\n",
      "    accuracy                           1.00      3218\n",
      "   macro avg       1.00      1.00      1.00      3218\n",
      "weighted avg       1.00      1.00      1.00      3218\n",
      "\n"
     ]
    }
   ],
   "source": [
    "print(classification_report(y_train, y_pred_train))"
   ]
  },
  {
   "cell_type": "markdown",
   "id": "65c75643-5a9a-4d86-9658-a0ed7924566c",
   "metadata": {},
   "source": [
    "Se realiza una matriz de confusión sobre el modelo de entrenamiento, donde se puede ver que los resultados corresponden a un precisión de 100%."
   ]
  },
  {
   "cell_type": "code",
   "execution_count": 138,
   "id": "198ef376-0bad-4789-bbc6-c6fec965452d",
   "metadata": {},
   "outputs": [
    {
     "data": {
      "image/png": "[encoded data removed]",
      "text/plain": [
       "<Figure size 640x480 with 2 Axes>"
      ]
     },
     "metadata": {},
     "output_type": "display_data"
    }
   ],
   "source": [
    "cm = confusion_matrix(y_train, y_pred_train)\n",
    "disp = ConfusionMatrixDisplay(confusion_matrix=cm, display_labels=linearR.classes_)\n",
    "disp.plot(cmap=plt.cm.Blues)\n",
    "\n",
    "plt.show()"
   ]
  },
  {
   "cell_type": "markdown",
   "id": "212d5054-72f2-4d60-b80b-acc8fbb5c8d7",
   "metadata": {},
   "source": [
    "### 3.1.6 Métricas de testing"
   ]
  },
  {
   "cell_type": "code",
   "execution_count": 140,
   "id": "8f9b5ebf-3e74-4453-923a-ec6564b43c18",
   "metadata": {},
   "outputs": [
    {
     "name": "stdout",
     "output_type": "stream",
     "text": [
      "              precision    recall  f1-score   support\n",
      "\n",
      "           3       0.73      0.73      0.73       256\n",
      "           4       0.74      0.79      0.76       260\n",
      "           5       0.78      0.74      0.76       289\n",
      "\n",
      "    accuracy                           0.75       805\n",
      "   macro avg       0.75      0.75      0.75       805\n",
      "weighted avg       0.75      0.75      0.75       805\n",
      "\n"
     ]
    }
   ],
   "source": [
    "print(classification_report(y_test, y_pred_test))"
   ]
  },
  {
   "cell_type": "markdown",
   "id": "c1cb6249-dc5b-49ab-b719-f08fffc4ebb5",
   "metadata": {},
   "source": [
    "Se realiza una matriz de confusión sobre el modelo de entrenamiento, donde se puede ver como varían los resultados a través de las clases"
   ]
  },
  {
   "cell_type": "code",
   "execution_count": 142,
   "id": "260555d7-98ba-4846-9c22-c52562ec52d6",
   "metadata": {},
   "outputs": [
    {
     "data": {
      "image/png": "[encoded data removed]",
      "text/plain": [
       "<Figure size 640x480 with 2 Axes>"
      ]
     },
     "metadata": {},
     "output_type": "display_data"
    }
   ],
   "source": [
    "cm = confusion_matrix(y_test, y_pred_test)\n",
    "disp = ConfusionMatrixDisplay(confusion_matrix=cm, display_labels=linearR.classes_)\n",
    "disp.plot(cmap=plt.cm.Blues)\n",
    "\n",
    "plt.show()"
   ]
  },
  {
   "cell_type": "markdown",
   "id": "09de0ab1-305b-4edf-be8c-fe017b3044a9",
   "metadata": {},
   "source": [
    "### 3.1.7 Comparaciones finales\n",
    "Por último se realiza la comparación entre los resultados del set de entrenamiento y el de pruebas"
   ]
  },
  {
   "cell_type": "code",
   "execution_count": 144,
   "id": "3093589c-49e2-4eec-a650-f65a428bf48c",
   "metadata": {},
   "outputs": [
    {
     "name": "stdout",
     "output_type": "stream",
     "text": [
      "Resultados set de entrenamiento\n",
      "\n",
      "              precision    recall  f1-score   support\n",
      "\n",
      "           3       1.00      1.00      1.00       982\n",
      "           4       1.00      1.00      1.00      1092\n",
      "           5       1.00      1.00      1.00      1144\n",
      "\n",
      "    accuracy                           1.00      3218\n",
      "   macro avg       1.00      1.00      1.00      3218\n",
      "weighted avg       1.00      1.00      1.00      3218\n",
      "\n",
      "------------------------------------------------------------------\n",
      "\n",
      "Resultados set de prueba\n",
      "\n",
      "              precision    recall  f1-score   support\n",
      "\n",
      "           3       0.73      0.73      0.73       256\n",
      "           4       0.74      0.79      0.76       260\n",
      "           5       0.78      0.74      0.76       289\n",
      "\n",
      "    accuracy                           0.75       805\n",
      "   macro avg       0.75      0.75      0.75       805\n",
      "weighted avg       0.75      0.75      0.75       805\n",
      "\n"
     ]
    }
   ],
   "source": [
    "print(\"Resultados set de entrenamiento\\n\")\n",
    "print(classification_report(y_train, y_pred_train))\n",
    "print(\"------------------------------------------------------------------\\n\")\n",
    "print(\"Resultados set de prueba\\n\")\n",
    "print(classification_report(y_test, y_pred_test))"
   ]
  },
  {
   "cell_type": "markdown",
   "id": "98ad3c02-4d39-484b-be18-5e6976bbe715",
   "metadata": {},
   "source": [
    "Basándonos en los resultados de la Regresión Logística, podemos observar una notable diferencia entre el rendimiento en el conjunto de entrenamiento y el de prueba.\n",
    "\n",
    "En el conjunto de entrenamiento, el modelo tiene un desempeño perfecto, alcanzando un 100% de precisión, recall y f1-score en todas las clases (3, 4 y 5). Esto indica que el modelo ajustó extremadamente bien los datos de entrenamiento, clasificando correctamente todas las instancias. Sin embargo, esta alta precisión en el entrenamiento podría ser una señal de sobreajuste, ya que el modelo parece haber memorizado los datos sin generalizar bien.\n",
    "\n",
    "Al pasar al conjunto de prueba, el rendimiento del modelo disminuye considerablemente:\n",
    "\n",
    "Para la clase 3, la precisión, recall y f1-score bajan a 0.73.\n",
    "Para la clase 4, el modelo alcanza mejores resultados, con un 0.76 en f1-score, debido a un recall más alto de 0.79.\n",
    "La clase 5 tiene un desempeño intermedio, con un f1-score de 0.76, ligeramente por debajo de la clase 4.\n",
    "En términos generales, el accuracy en el conjunto de prueba es del 75%, lo que indica que el modelo tiene un desempeño aceptable, aunque lejos de ser perfecto. Esto sugiere que el modelo tiene dificultades para clasificar correctamente nuevas instancias, especialmente en comparación con el rendimiento en el conjunto de entrenamiento.\n",
    "\n",
    "Además, las métricas promedio ponderadas y macro muestran valores similares, lo que refleja una distribución equilibrada de las clases en términos de rendimiento. Sin embargo, la disminución en todas las métricas en el conjunto de prueba, en comparación con el entrenamiento, indica que el modelo no generaliza perfectamente y que existe margen para mejorar, ya sea afinando hiperparámetros o explorando otras técnicas de regularización o modelos."
   ]
  },
  {
   "cell_type": "code",
   "execution_count": 146,
   "id": "b50d87d4-8d54-4b8f-aac7-51915ade9a49",
   "metadata": {},
   "outputs": [],
   "source": [
    "del data, y_pred_test, y_test, y_train, y_pred_train"
   ]
  },
  {
   "cell_type": "markdown",
   "id": "d7722764-b534-46ad-9452-7828aebb82f1",
   "metadata": {},
   "source": [
    "## 3.2 Modelo Naive Bayes (Juan Andres Eslava)"
   ]
  },
  {
   "cell_type": "markdown",
   "id": "9b8cd661-3f02-4fc8-bf57-9d4142b1f7c5",
   "metadata": {},
   "source": [
    "### 3.2.0 Descripción del Algoritmo\n",
    "\n",
    "El algoritmo **Naive Bayes** es un clasificador probabilístico basado en el teorema de Bayes, el cual utiliza una fuerte suposición de independencia entre las características. A pesar de esta simplificación, Naive Bayes ha demostrado ser sorprendentemente eficaz para una amplia gama de problemas de clasificación, especialmente en áreas como el procesamiento de lenguaje natural y la detección de spam.\n",
    "\n",
    "### Fórmula del Teorema de Bayes\n",
    "\n",
    "El teorema de Bayes describe la probabilidad de que ocurra un evento, dado que otro evento ya ha ocurrido. Se expresa de la siguiente manera:\n",
    "\n",
    "$$\n",
    "P(A|B) = \\frac{P(B|A) \\cdot P(A)}{P(B)}\n",
    "$$\n",
    "\n",
    "Donde:\n",
    "- \\( P(A|B) \\) es la probabilidad de que ocurra \\( A \\) dado que ocurrió \\( B \\) (probabilidad posterior).\n",
    "- \\( P(B|A) \\) es la probabilidad de que ocurra \\( B \\) dado que ocurrió \\( A \\) (probabilidad verosímil).\n",
    "- \\( P(A) \\) es la probabilidad previa de \\( A \\) (probabilidad a priori).\n",
    "- \\( P(B) \\) es la probabilidad de que ocurra \\( B \\).\n",
    "\n",
    "### Clasificación con Naive Bayes\n",
    "\n",
    "El algoritmo de Naive Bayes utiliza el teorema de Bayes para calcular la probabilidad de que una instancia pertenezca a una determinada clase, dado su conjunto de características. La clasificación se realiza determinando la clase con la mayor probabilidad posterior.\n",
    "\n",
    "En el contexto de clasificación, el teorema de Bayes se reformula para encontrar la probabilidad de que una observación con características \\(x_1, x_2, ..., x_n\\) pertenezca a una clase \\(C_k\\), así:\n",
    "\n",
    "$$\n",
    "P(C_k | x_1, x_2, ..., x_n) = \\frac{P(x_1, x_2, ..., x_n | C_k) \\cdot P(C_k)}{P(x_1, x_2, ..., x_n)}\n",
    "$$\n",
    "\n",
    "Dado que \\( P(x_1, x_2, ..., x_n) \\) es constante para todas las clases, el modelo predice la clase \\( C_k \\) que maximiza la siguiente expresión:\n",
    "\n",
    "$$\n",
    "P(C_k | x_1, x_2, ..., x_n) \\propto P(C_k) \\prod_{i=1}^{n} P(x_i | C_k)\n",
    "$$\n",
    "\n",
    "Aquí es donde entra la suposición de independencia: se asume que todas las características \\(x_i\\) son independientes entre sí, dada la clase \\(C_k\\). Aunque esta suposición rara vez es cierta en la práctica, el clasificador Naive Bayes tiende a funcionar bien incluso cuando las características están correlacionadas.\n",
    "\n",
    "### Tipos de Naive Bayes\n",
    "\n",
    "Existen varias implementaciones de Naive Bayes, que varían según la naturaleza de los datos:\n",
    "\n",
    "1. **Gaussian Naive Bayes**:\n",
    "   - Se asume que las características siguen una distribución normal (gaussiana).\n",
    "   - Adecuado para características continuas.\n",
    "   \n",
    "   Fórmula de la distribución gaussiana:\n",
    "\n",
    "   $$\n",
    "   P(x_i | C_k) = \\frac{1}{\\sqrt{2\\pi\\sigma^2}} \\exp\\left(-\\frac{(x_i - \\mu)^2}{2\\sigma^2}\\right)\n",
    "   $$\n",
    "\n",
    "2. **Multinomial Naive Bayes**:\n",
    "   - Adecuado para datos discretos, como la frecuencia de palabras en un documento.\n",
    "   - Es común en problemas de clasificación de texto, como la detección de spam.\n",
    "\n",
    "3. **Bernoulli Naive Bayes**:\n",
    "   - Similar al multinomial, pero en lugar de contar las ocurrencias de las características, solo considera si una característica está presente o no.\n",
    "   - Se usa frecuentemente en problemas binarios (presencia o ausencia de características).\n",
    "\n",
    "### Ventajas del Naive Bayes\n",
    "\n",
    "1. **Simplicidad**: El algoritmo es fácil de implementar y computacionalmente eficiente.\n",
    "2. **Escalabilidad**: Naive Bayes se adapta bien a conjuntos de datos grandes y de alta dimensión.\n",
    "3. **Rendimiento sorprendente**: A pesar de la suposición de independencia entre características, Naive Bayes puede funcionar sorprendentemente bien, incluso en problemas complejos.\n",
    "\n",
    "### Limitaciones\n",
    "\n",
    "1. **Suposición de independencia**: La principal debilidad del algoritmo radica en la suposición de que las características son independientes entre sí, lo cual rara vez ocurre en el mundo real.\n",
    "2. **Poca flexibilidad**: El clasificador Naive Bayes es menos flexible en comparación con otros algoritmos como árboles de decisión o modelos basados en distancia, ya que solo considera la relación probabilística entre las características y las clases.\n",
    "3. **Datos pequeños**: Cuando se tiene un conjunto de datos muy pequeño o con datos insuficientes para una clase específica, Naive Bayes puede dar predicciones poco confiables debido a probabilidades de cero.\n",
    "\n",
    "### Aplicaciones\n",
    "\n",
    "1. **Detección de spam**: Clasificación de correos electrónicos como spam o no spam, basándose en las palabras que contiene el correo.\n",
    "2. **Clasificación de texto**: Organizar documentos en diferentes categorías, como noticias, reseñas o temas específicos.\n",
    "3. **Análisis de sentimiento**: Determinar si una opinión expresada en un texto es positiva o negativa.\n",
    "\n",
    "\n",
    "\n",
    "### Fuentes\n",
    "1. Naive Bayes Classifier - Wikipedia: https://en.wikipedia.org/wiki/Naive_Bayes_classifier\n",
    "2. Gaussian Naive Bayes in Scikit-Learn: https://scikit-learn.org/stable/modules/naive_bayes.html\n",
    "3. An Introduction to Naive Bayes Classifier - Towards Data Science: https://towardsdatascience.com/naive-bayes-classifier-81d512f50a7c"
   ]
  },
  {
   "cell_type": "markdown",
   "id": "8aec0756-48e3-410d-8bcd-6072c94bef89",
   "metadata": {},
   "source": [
    "### 3.2.1 Definición del modelo y Parametrización"
   ]
  },
  {
   "cell_type": "markdown",
   "id": "6735f9df-5b30-4e1e-9859-59a02ceaf3f5",
   "metadata": {},
   "source": [
    "Se realiza una copia del conjunto de datos previamente preparado para evitar cambios en el conjunto original. Esto asegura que las operaciones posteriores no afecten la integridad de los datos"
   ]
  },
  {
   "cell_type": "code",
   "execution_count": 151,
   "id": "644aed7a-14b2-44ba-83ed-12b62be3e55d",
   "metadata": {},
   "outputs": [],
   "source": [
    "data = data_prep.copy()"
   ]
  },
  {
   "cell_type": "markdown",
   "id": "9c1a7053-8434-4462-b1f2-c80e411dc557",
   "metadata": {},
   "source": [
    "En este paso, se define la variable objetivo (label), que en este caso es sdg, y las características independientes (features). Se eliminan las columnas irrelevantes para el modelo."
   ]
  },
  {
   "cell_type": "code",
   "execution_count": 153,
   "id": "1578db61-d0c0-432f-9299-76fea7dc530c",
   "metadata": {},
   "outputs": [],
   "source": [
    "label = 'sdg'\n",
    "features = data.columns.to_list()\n",
    "features.remove(label)"
   ]
  },
  {
   "cell_type": "markdown",
   "id": "422885b4-156d-432b-b378-0ad3c363c8e0",
   "metadata": {},
   "source": [
    "El conjunto de datos se divide en dos partes: un 80% se utiliza para entrenamiento y el 20% restante para prueba. Esto permite evaluar el rendimiento del modelo en datos que no ha visto previamente. Además, se imprimen las dimensiones (número de filas y columnas) de los conjuntos de entrenamiento y prueba para asegurarse de que la división se haya realizado correctamente. Esto te da una idea clara de cuántos datos tienes en cada conjunto."
   ]
  },
  {
   "cell_type": "code",
   "execution_count": 155,
   "id": "5ef9c825-5284-4518-b431-e74eb04dffff",
   "metadata": {},
   "outputs": [],
   "source": [
    "#División del conjunto de datos en entrenamiento y prueba\n",
    "\n",
    "x_train, x_test, y_train, y_test = train_test_split(data[features], data[label], test_size=0.2, random_state=1)"
   ]
  },
  {
   "cell_type": "code",
   "execution_count": 156,
   "id": "3bd91b8e-7d6e-426b-ba3f-e3137bfaa972",
   "metadata": {},
   "outputs": [
    {
     "name": "stdout",
     "output_type": "stream",
     "text": [
      "X_train shape: (3228, 14652)\n",
      "X_test shape: (808, 14652)\n",
      "y_train shape: (3228,)\n",
      "y_test shape: (808,)\n"
     ]
    }
   ],
   "source": [
    "X = data.drop(columns=['sdg']) \n",
    "y = data['sdg']\n",
    "\n",
    "# Dividir el conjunto de datos en entrenamiento y prueba (80% entrenamiento, 20% prueba)\n",
    "X_train, X_test, y_train, y_test = train_test_split(X, y, test_size=0.2, random_state=42)\n",
    "\n",
    "# Imprimir las formas de los conjuntos divididos\n",
    "print(\"X_train shape:\", X_train.shape)\n",
    "print(\"X_test shape:\", X_test.shape)\n",
    "print(\"y_train shape:\", y_train.shape)\n",
    "print(\"y_test shape:\", y_test.shape)"
   ]
  },
  {
   "cell_type": "markdown",
   "id": "07d473b6-82f8-4fed-b4ea-910abeb396f3",
   "metadata": {},
   "source": [
    "Inicializamos el clasificador GaussianNB, que es una variante de Naive Bayes que asume una distribución normal para las características continuas."
   ]
  },
  {
   "cell_type": "code",
   "execution_count": 158,
   "id": "d8cef635-d730-4198-9b18-ee5965830817",
   "metadata": {},
   "outputs": [],
   "source": [
    "# Inicializar el clasificador Naive Bayes\n",
    "naive_bayes_classifier = GaussianNB()"
   ]
  },
  {
   "cell_type": "markdown",
   "id": "8f3a2acb-42aa-4267-a803-f68b01578087",
   "metadata": {},
   "source": [
    "Se define una lista de valores para el hiperparámetro var_smoothing, que controla la suavización de la probabilidad. Esta suavización es útil para evitar problemas con características que tienen muy pocos datos o valores de probabilidad cercanos a cero."
   ]
  },
  {
   "cell_type": "code",
   "execution_count": 160,
   "id": "6ba39fd4-1fea-4028-a79f-1eb8336bf25c",
   "metadata": {},
   "outputs": [],
   "source": [
    "parameters = {'var_smoothing': [1e-9, 1e-8, 1e-7, 1e-6, 1e-5]}"
   ]
  },
  {
   "cell_type": "markdown",
   "id": "ab264ec4-5808-4b33-9aab-fe116f184497",
   "metadata": {},
   "source": [
    "Se identificaron valores nulos en las etiquetas (y_train), por lo que decidimos eliminarlos para evitar errores durante el entrenamiento del modelo:"
   ]
  },
  {
   "cell_type": "code",
   "execution_count": 162,
   "id": "88581472-b2fb-4594-ae66-517d0864aa7b",
   "metadata": {},
   "outputs": [
    {
     "name": "stdout",
     "output_type": "stream",
     "text": [
      "ejemplo            0\n",
      "numero             0\n",
      "consulta           0\n",
      "externo            0\n",
      "especialista       0\n",
      "                  ..\n",
      "rrd                0\n",
      "sintonia           0\n",
      "wef                0\n",
      "complementacion    0\n",
      "incrustar          0\n",
      "Length: 14652, dtype: int64\n",
      "11\n"
     ]
    }
   ],
   "source": [
    "print(X_train.isnull().sum())  # Verificar si hay NaN en las características\n",
    "print(y_train.isnull().sum())  # Verificar si hay NaN en las etiquetas"
   ]
  },
  {
   "cell_type": "markdown",
   "id": "32863856-6330-429a-8e56-733ac52afb3b",
   "metadata": {},
   "source": [
    "Eliminamos las filas correspondientes a etiquetas nulas para asegurar que los datos sean adecuados para el entrenamiento del modelo."
   ]
  },
  {
   "cell_type": "code",
   "execution_count": 164,
   "id": "91eeb63b-1c99-4e2a-9c5a-fca6a8c7eef3",
   "metadata": {},
   "outputs": [
    {
     "name": "stdout",
     "output_type": "stream",
     "text": [
      "0\n"
     ]
    }
   ],
   "source": [
    "# Eliminar filas donde y_train tiene valores NaN\n",
    "X_train = X_train[~y_train.isnull()]\n",
    "y_train = y_train.dropna()\n",
    "\n",
    "# Verificar si todavía hay NaN en y_train después de la limpieza\n",
    "print(y_train.isnull().sum())"
   ]
  },
  {
   "cell_type": "markdown",
   "id": "dbb08f3f-b31e-44e9-8ecf-626207343555",
   "metadata": {},
   "source": [
    "Se utiliza GridSearchCV para ajustar el hiperparámetro var_smoothing, que suaviza las probabilidades en Naive Bayes, ayudando a prevenir problemas con probabilidades de cero. El mejor valor encontrado fue 1e-05."
   ]
  },
  {
   "cell_type": "code",
   "execution_count": 166,
   "id": "61897e18-e3f9-4c9b-81d3-520728b6cf60",
   "metadata": {},
   "outputs": [
    {
     "data": {
      "text/html": [
       "<style>#sk-container-id-1 {\n",
       "  /* Definition of color scheme common for light and dark mode */\n",
       "  --sklearn-color-text: black;\n",
       "  --sklearn-color-line: gray;\n",
       "  /* Definition of color scheme for unfitted estimators */\n",
       "  --sklearn-color-unfitted-level-0: #fff5e6;\n",
       "  --sklearn-color-unfitted-level-1: #f6e4d2;\n",
       "  --sklearn-color-unfitted-level-2: #ffe0b3;\n",
       "  --sklearn-color-unfitted-level-3: chocolate;\n",
       "  /* Definition of color scheme for fitted estimators */\n",
       "  --sklearn-color-fitted-level-0: #f0f8ff;\n",
       "  --sklearn-color-fitted-level-1: #d4ebff;\n",
       "  --sklearn-color-fitted-level-2: #b3dbfd;\n",
       "  --sklearn-color-fitted-level-3: cornflowerblue;\n",
       "\n",
       "  /* Specific color for light theme */\n",
       "  --sklearn-color-text-on-default-background: var(--sg-text-color, var(--theme-code-foreground, var(--jp-content-font-color1, black)));\n",
       "  --sklearn-color-background: var(--sg-background-color, var(--theme-background, var(--jp-layout-color0, white)));\n",
       "  --sklearn-color-border-box: var(--sg-text-color, var(--theme-code-foreground, var(--jp-content-font-color1, black)));\n",
       "  --sklearn-color-icon: #696969;\n",
       "\n",
       "  @media (prefers-color-scheme: dark) {\n",
       "    /* Redefinition of color scheme for dark theme */\n",
       "    --sklearn-color-text-on-default-background: var(--sg-text-color, var(--theme-code-foreground, var(--jp-content-font-color1, white)));\n",
       "    --sklearn-color-background: var(--sg-background-color, var(--theme-background, var(--jp-layout-color0, #111)));\n",
       "    --sklearn-color-border-box: var(--sg-text-color, var(--theme-code-foreground, var(--jp-content-font-color1, white)));\n",
       "    --sklearn-color-icon: #878787;\n",
       "  }\n",
       "}\n",
       "\n",
       "#sk-container-id-1 {\n",
       "  color: var(--sklearn-color-text);\n",
       "}\n",
       "\n",
       "#sk-container-id-1 pre {\n",
       "  padding: 0;\n",
       "}\n",
       "\n",
       "#sk-container-id-1 input.sk-hidden--visually {\n",
       "  border: 0;\n",
       "  clip: rect(1px 1px 1px 1px);\n",
       "  clip: rect(1px, 1px, 1px, 1px);\n",
       "  height: 1px;\n",
       "  margin: -1px;\n",
       "  overflow: hidden;\n",
       "  padding: 0;\n",
       "  position: absolute;\n",
       "  width: 1px;\n",
       "}\n",
       "\n",
       "#sk-container-id-1 div.sk-dashed-wrapped {\n",
       "  border: 1px dashed var(--sklearn-color-line);\n",
       "  margin: 0 0.4em 0.5em 0.4em;\n",
       "  box-sizing: border-box;\n",
       "  padding-bottom: 0.4em;\n",
       "  background-color: var(--sklearn-color-background);\n",
       "}\n",
       "\n",
       "#sk-container-id-1 div.sk-container {\n",
       "  /* jupyter's `normalize.less` sets `[hidden] { display: none; }`\n",
       "     but bootstrap.min.css set `[hidden] { display: none !important; }`\n",
       "     so we also need the `!important` here to be able to override the\n",
       "     default hidden behavior on the sphinx rendered scikit-learn.org.\n",
       "     See: https://github.com/scikit-learn/scikit-learn/issues/21755 */\n",
       "  display: inline-block !important;\n",
       "  position: relative;\n",
       "}\n",
       "\n",
       "#sk-container-id-1 div.sk-text-repr-fallback {\n",
       "  display: none;\n",
       "}\n",
       "\n",
       "div.sk-parallel-item,\n",
       "div.sk-serial,\n",
       "div.sk-item {\n",
       "  /* draw centered vertical line to link estimators */\n",
       "  background-image: linear-gradient(var(--sklearn-color-text-on-default-background), var(--sklearn-color-text-on-default-background));\n",
       "  background-size: 2px 100%;\n",
       "  background-repeat: no-repeat;\n",
       "  background-position: center center;\n",
       "}\n",
       "\n",
       "/* Parallel-specific style estimator block */\n",
       "\n",
       "#sk-container-id-1 div.sk-parallel-item::after {\n",
       "  content: \"\";\n",
       "  width: 100%;\n",
       "  border-bottom: 2px solid var(--sklearn-color-text-on-default-background);\n",
       "  flex-grow: 1;\n",
       "}\n",
       "\n",
       "#sk-container-id-1 div.sk-parallel {\n",
       "  display: flex;\n",
       "  align-items: stretch;\n",
       "  justify-content: center;\n",
       "  background-color: var(--sklearn-color-background);\n",
       "  position: relative;\n",
       "}\n",
       "\n",
       "#sk-container-id-1 div.sk-parallel-item {\n",
       "  display: flex;\n",
       "  flex-direction: column;\n",
       "}\n",
       "\n",
       "#sk-container-id-1 div.sk-parallel-item:first-child::after {\n",
       "  align-self: flex-end;\n",
       "  width: 50%;\n",
       "}\n",
       "\n",
       "#sk-container-id-1 div.sk-parallel-item:last-child::after {\n",
       "  align-self: flex-start;\n",
       "  width: 50%;\n",
       "}\n",
       "\n",
       "#sk-container-id-1 div.sk-parallel-item:only-child::after {\n",
       "  width: 0;\n",
       "}\n",
       "\n",
       "/* Serial-specific style estimator block */\n",
       "\n",
       "#sk-container-id-1 div.sk-serial {\n",
       "  display: flex;\n",
       "  flex-direction: column;\n",
       "  align-items: center;\n",
       "  background-color: var(--sklearn-color-background);\n",
       "  padding-right: 1em;\n",
       "  padding-left: 1em;\n",
       "}\n",
       "\n",
       "\n",
       "/* Toggleable style: style used for estimator/Pipeline/ColumnTransformer box that is\n",
       "clickable and can be expanded/collapsed.\n",
       "- Pipeline and ColumnTransformer use this feature and define the default style\n",
       "- Estimators will overwrite some part of the style using the `sk-estimator` class\n",
       "*/\n",
       "\n",
       "/* Pipeline and ColumnTransformer style (default) */\n",
       "\n",
       "#sk-container-id-1 div.sk-toggleable {\n",
       "  /* Default theme specific background. It is overwritten whether we have a\n",
       "  specific estimator or a Pipeline/ColumnTransformer */\n",
       "  background-color: var(--sklearn-color-background);\n",
       "}\n",
       "\n",
       "/* Toggleable label */\n",
       "#sk-container-id-1 label.sk-toggleable__label {\n",
       "  cursor: pointer;\n",
       "  display: block;\n",
       "  width: 100%;\n",
       "  margin-bottom: 0;\n",
       "  padding: 0.5em;\n",
       "  box-sizing: border-box;\n",
       "  text-align: center;\n",
       "}\n",
       "\n",
       "#sk-container-id-1 label.sk-toggleable__label-arrow:before {\n",
       "  /* Arrow on the left of the label */\n",
       "  content: \"▸\";\n",
       "  float: left;\n",
       "  margin-right: 0.25em;\n",
       "  color: var(--sklearn-color-icon);\n",
       "}\n",
       "\n",
       "#sk-container-id-1 label.sk-toggleable__label-arrow:hover:before {\n",
       "  color: var(--sklearn-color-text);\n",
       "}\n",
       "\n",
       "/* Toggleable content - dropdown */\n",
       "\n",
       "#sk-container-id-1 div.sk-toggleable__content {\n",
       "  max-height: 0;\n",
       "  max-width: 0;\n",
       "  overflow: hidden;\n",
       "  text-align: left;\n",
       "  /* unfitted */\n",
       "  background-color: var(--sklearn-color-unfitted-level-0);\n",
       "}\n",
       "\n",
       "#sk-container-id-1 div.sk-toggleable__content.fitted {\n",
       "  /* fitted */\n",
       "  background-color: var(--sklearn-color-fitted-level-0);\n",
       "}\n",
       "\n",
       "#sk-container-id-1 div.sk-toggleable__content pre {\n",
       "  margin: 0.2em;\n",
       "  border-radius: 0.25em;\n",
       "  color: var(--sklearn-color-text);\n",
       "  /* unfitted */\n",
       "  background-color: var(--sklearn-color-unfitted-level-0);\n",
       "}\n",
       "\n",
       "#sk-container-id-1 div.sk-toggleable__content.fitted pre {\n",
       "  /* unfitted */\n",
       "  background-color: var(--sklearn-color-fitted-level-0);\n",
       "}\n",
       "\n",
       "#sk-container-id-1 input.sk-toggleable__control:checked~div.sk-toggleable__content {\n",
       "  /* Expand drop-down */\n",
       "  max-height: 200px;\n",
       "  max-width: 100%;\n",
       "  overflow: auto;\n",
       "}\n",
       "\n",
       "#sk-container-id-1 input.sk-toggleable__control:checked~label.sk-toggleable__label-arrow:before {\n",
       "  content: \"▾\";\n",
       "}\n",
       "\n",
       "/* Pipeline/ColumnTransformer-specific style */\n",
       "\n",
       "#sk-container-id-1 div.sk-label input.sk-toggleable__control:checked~label.sk-toggleable__label {\n",
       "  color: var(--sklearn-color-text);\n",
       "  background-color: var(--sklearn-color-unfitted-level-2);\n",
       "}\n",
       "\n",
       "#sk-container-id-1 div.sk-label.fitted input.sk-toggleable__control:checked~label.sk-toggleable__label {\n",
       "  background-color: var(--sklearn-color-fitted-level-2);\n",
       "}\n",
       "\n",
       "/* Estimator-specific style */\n",
       "\n",
       "/* Colorize estimator box */\n",
       "#sk-container-id-1 div.sk-estimator input.sk-toggleable__control:checked~label.sk-toggleable__label {\n",
       "  /* unfitted */\n",
       "  background-color: var(--sklearn-color-unfitted-level-2);\n",
       "}\n",
       "\n",
       "#sk-container-id-1 div.sk-estimator.fitted input.sk-toggleable__control:checked~label.sk-toggleable__label {\n",
       "  /* fitted */\n",
       "  background-color: var(--sklearn-color-fitted-level-2);\n",
       "}\n",
       "\n",
       "#sk-container-id-1 div.sk-label label.sk-toggleable__label,\n",
       "#sk-container-id-1 div.sk-label label {\n",
       "  /* The background is the default theme color */\n",
       "  color: var(--sklearn-color-text-on-default-background);\n",
       "}\n",
       "\n",
       "/* On hover, darken the color of the background */\n",
       "#sk-container-id-1 div.sk-label:hover label.sk-toggleable__label {\n",
       "  color: var(--sklearn-color-text);\n",
       "  background-color: var(--sklearn-color-unfitted-level-2);\n",
       "}\n",
       "\n",
       "/* Label box, darken color on hover, fitted */\n",
       "#sk-container-id-1 div.sk-label.fitted:hover label.sk-toggleable__label.fitted {\n",
       "  color: var(--sklearn-color-text);\n",
       "  background-color: var(--sklearn-color-fitted-level-2);\n",
       "}\n",
       "\n",
       "/* Estimator label */\n",
       "\n",
       "#sk-container-id-1 div.sk-label label {\n",
       "  font-family: monospace;\n",
       "  font-weight: bold;\n",
       "  display: inline-block;\n",
       "  line-height: 1.2em;\n",
       "}\n",
       "\n",
       "#sk-container-id-1 div.sk-label-container {\n",
       "  text-align: center;\n",
       "}\n",
       "\n",
       "/* Estimator-specific */\n",
       "#sk-container-id-1 div.sk-estimator {\n",
       "  font-family: monospace;\n",
       "  border: 1px dotted var(--sklearn-color-border-box);\n",
       "  border-radius: 0.25em;\n",
       "  box-sizing: border-box;\n",
       "  margin-bottom: 0.5em;\n",
       "  /* unfitted */\n",
       "  background-color: var(--sklearn-color-unfitted-level-0);\n",
       "}\n",
       "\n",
       "#sk-container-id-1 div.sk-estimator.fitted {\n",
       "  /* fitted */\n",
       "  background-color: var(--sklearn-color-fitted-level-0);\n",
       "}\n",
       "\n",
       "/* on hover */\n",
       "#sk-container-id-1 div.sk-estimator:hover {\n",
       "  /* unfitted */\n",
       "  background-color: var(--sklearn-color-unfitted-level-2);\n",
       "}\n",
       "\n",
       "#sk-container-id-1 div.sk-estimator.fitted:hover {\n",
       "  /* fitted */\n",
       "  background-color: var(--sklearn-color-fitted-level-2);\n",
       "}\n",
       "\n",
       "/* Specification for estimator info (e.g. \"i\" and \"?\") */\n",
       "\n",
       "/* Common style for \"i\" and \"?\" */\n",
       "\n",
       ".sk-estimator-doc-link,\n",
       "a:link.sk-estimator-doc-link,\n",
       "a:visited.sk-estimator-doc-link {\n",
       "  float: right;\n",
       "  font-size: smaller;\n",
       "  line-height: 1em;\n",
       "  font-family: monospace;\n",
       "  background-color: var(--sklearn-color-background);\n",
       "  border-radius: 1em;\n",
       "  height: 1em;\n",
       "  width: 1em;\n",
       "  text-decoration: none !important;\n",
       "  margin-left: 1ex;\n",
       "  /* unfitted */\n",
       "  border: var(--sklearn-color-unfitted-level-1) 1pt solid;\n",
       "  color: var(--sklearn-color-unfitted-level-1);\n",
       "}\n",
       "\n",
       ".sk-estimator-doc-link.fitted,\n",
       "a:link.sk-estimator-doc-link.fitted,\n",
       "a:visited.sk-estimator-doc-link.fitted {\n",
       "  /* fitted */\n",
       "  border: var(--sklearn-color-fitted-level-1) 1pt solid;\n",
       "  color: var(--sklearn-color-fitted-level-1);\n",
       "}\n",
       "\n",
       "/* On hover */\n",
       "div.sk-estimator:hover .sk-estimator-doc-link:hover,\n",
       ".sk-estimator-doc-link:hover,\n",
       "div.sk-label-container:hover .sk-estimator-doc-link:hover,\n",
       ".sk-estimator-doc-link:hover {\n",
       "  /* unfitted */\n",
       "  background-color: var(--sklearn-color-unfitted-level-3);\n",
       "  color: var(--sklearn-color-background);\n",
       "  text-decoration: none;\n",
       "}\n",
       "\n",
       "div.sk-estimator.fitted:hover .sk-estimator-doc-link.fitted:hover,\n",
       ".sk-estimator-doc-link.fitted:hover,\n",
       "div.sk-label-container:hover .sk-estimator-doc-link.fitted:hover,\n",
       ".sk-estimator-doc-link.fitted:hover {\n",
       "  /* fitted */\n",
       "  background-color: var(--sklearn-color-fitted-level-3);\n",
       "  color: var(--sklearn-color-background);\n",
       "  text-decoration: none;\n",
       "}\n",
       "\n",
       "/* Span, style for the box shown on hovering the info icon */\n",
       ".sk-estimator-doc-link span {\n",
       "  display: none;\n",
       "  z-index: 9999;\n",
       "  position: relative;\n",
       "  font-weight: normal;\n",
       "  right: .2ex;\n",
       "  padding: .5ex;\n",
       "  margin: .5ex;\n",
       "  width: min-content;\n",
       "  min-width: 20ex;\n",
       "  max-width: 50ex;\n",
       "  color: var(--sklearn-color-text);\n",
       "  box-shadow: 2pt 2pt 4pt #999;\n",
       "  /* unfitted */\n",
       "  background: var(--sklearn-color-unfitted-level-0);\n",
       "  border: .5pt solid var(--sklearn-color-unfitted-level-3);\n",
       "}\n",
       "\n",
       ".sk-estimator-doc-link.fitted span {\n",
       "  /* fitted */\n",
       "  background: var(--sklearn-color-fitted-level-0);\n",
       "  border: var(--sklearn-color-fitted-level-3);\n",
       "}\n",
       "\n",
       ".sk-estimator-doc-link:hover span {\n",
       "  display: block;\n",
       "}\n",
       "\n",
       "/* \"?\"-specific style due to the `<a>` HTML tag */\n",
       "\n",
       "#sk-container-id-1 a.estimator_doc_link {\n",
       "  float: right;\n",
       "  font-size: 1rem;\n",
       "  line-height: 1em;\n",
       "  font-family: monospace;\n",
       "  background-color: var(--sklearn-color-background);\n",
       "  border-radius: 1rem;\n",
       "  height: 1rem;\n",
       "  width: 1rem;\n",
       "  text-decoration: none;\n",
       "  /* unfitted */\n",
       "  color: var(--sklearn-color-unfitted-level-1);\n",
       "  border: var(--sklearn-color-unfitted-level-1) 1pt solid;\n",
       "}\n",
       "\n",
       "#sk-container-id-1 a.estimator_doc_link.fitted {\n",
       "  /* fitted */\n",
       "  border: var(--sklearn-color-fitted-level-1) 1pt solid;\n",
       "  color: var(--sklearn-color-fitted-level-1);\n",
       "}\n",
       "\n",
       "/* On hover */\n",
       "#sk-container-id-1 a.estimator_doc_link:hover {\n",
       "  /* unfitted */\n",
       "  background-color: var(--sklearn-color-unfitted-level-3);\n",
       "  color: var(--sklearn-color-background);\n",
       "  text-decoration: none;\n",
       "}\n",
       "\n",
       "#sk-container-id-1 a.estimator_doc_link.fitted:hover {\n",
       "  /* fitted */\n",
       "  background-color: var(--sklearn-color-fitted-level-3);\n",
       "}\n",
       "</style><div id=\"sk-container-id-1\" class=\"sk-top-container\"><div class=\"sk-text-repr-fallback\"><pre>GridSearchCV(cv=5, estimator=GaussianNB(),\n",
       "             param_grid={&#x27;var_smoothing&#x27;: [1e-09, 1e-08, 1e-07, 1e-06, 1e-05]})</pre><b>In a Jupyter environment, please rerun this cell to show the HTML representation or trust the notebook. <br />On GitHub, the HTML representation is unable to render, please try loading this page with nbviewer.org.</b></div><div class=\"sk-container\" hidden><div class=\"sk-item sk-dashed-wrapped\"><div class=\"sk-label-container\"><div class=\"sk-label fitted sk-toggleable\"><input class=\"sk-toggleable__control sk-hidden--visually\" id=\"sk-estimator-id-1\" type=\"checkbox\" ><label for=\"sk-estimator-id-1\" class=\"sk-toggleable__label fitted sk-toggleable__label-arrow fitted\">&nbsp;&nbsp;GridSearchCV<a class=\"sk-estimator-doc-link fitted\" rel=\"noreferrer\" target=\"_blank\" href=\"https://scikit-learn.org/1.4/modules/generated/sklearn.model_selection.GridSearchCV.html\">?<span>Documentation for GridSearchCV</span></a><span class=\"sk-estimator-doc-link fitted\">i<span>Fitted</span></span></label><div class=\"sk-toggleable__content fitted\"><pre>GridSearchCV(cv=5, estimator=GaussianNB(),\n",
       "             param_grid={&#x27;var_smoothing&#x27;: [1e-09, 1e-08, 1e-07, 1e-06, 1e-05]})</pre></div> </div></div><div class=\"sk-parallel\"><div class=\"sk-parallel-item\"><div class=\"sk-item\"><div class=\"sk-label-container\"><div class=\"sk-label fitted sk-toggleable\"><input class=\"sk-toggleable__control sk-hidden--visually\" id=\"sk-estimator-id-2\" type=\"checkbox\" ><label for=\"sk-estimator-id-2\" class=\"sk-toggleable__label fitted sk-toggleable__label-arrow fitted\">estimator: GaussianNB</label><div class=\"sk-toggleable__content fitted\"><pre>GaussianNB()</pre></div> </div></div><div class=\"sk-serial\"><div class=\"sk-item\"><div class=\"sk-estimator fitted sk-toggleable\"><input class=\"sk-toggleable__control sk-hidden--visually\" id=\"sk-estimator-id-3\" type=\"checkbox\" ><label for=\"sk-estimator-id-3\" class=\"sk-toggleable__label fitted sk-toggleable__label-arrow fitted\">&nbsp;GaussianNB<a class=\"sk-estimator-doc-link fitted\" rel=\"noreferrer\" target=\"_blank\" href=\"https://scikit-learn.org/1.4/modules/generated/sklearn.naive_bayes.GaussianNB.html\">?<span>Documentation for GaussianNB</span></a></label><div class=\"sk-toggleable__content fitted\"><pre>GaussianNB()</pre></div> </div></div></div></div></div></div></div></div></div>"
      ],
      "text/plain": [
       "GridSearchCV(cv=5, estimator=GaussianNB(),\n",
       "             param_grid={'var_smoothing': [1e-09, 1e-08, 1e-07, 1e-06, 1e-05]})"
      ]
     },
     "execution_count": 166,
     "metadata": {},
     "output_type": "execute_result"
    }
   ],
   "source": [
    "grid_search = GridSearchCV(naive_bayes_classifier, parameters, cv=5)\n",
    "grid_search.fit(X_train, y_train)"
   ]
  },
  {
   "cell_type": "code",
   "execution_count": 167,
   "id": "0953dfee-2893-4459-b0fa-d526b7db2778",
   "metadata": {},
   "outputs": [
    {
     "name": "stdout",
     "output_type": "stream",
     "text": [
      "Mejores parámetros: {'var_smoothing': 1e-05}\n"
     ]
    }
   ],
   "source": [
    "print(\"Mejores parámetros:\", grid_search.best_params_)"
   ]
  },
  {
   "cell_type": "markdown",
   "id": "5080de8a-9cf2-4930-9e42-ddbebd8ed2e3",
   "metadata": {},
   "source": [
    "Después de entrenar el modelo, realizamos predicciones tanto en el conjunto de entrenamiento como en el de prueba. Esto permite evaluar la precisión del modelo en ambos conjuntos."
   ]
  },
  {
   "cell_type": "code",
   "execution_count": 169,
   "id": "ad1706c0-6916-4ead-bbb8-dd3cfc4aba45",
   "metadata": {},
   "outputs": [],
   "source": [
    "y_pred_train = grid_search.predict(X_train)\n",
    "y_pred_test = grid_search.predict(X_test)"
   ]
  },
  {
   "cell_type": "markdown",
   "id": "8013e69f-1a3c-4e31-bdd3-8a35554c9229",
   "metadata": {},
   "source": [
    "Evaluamos el rendimiento del modelo en el conjunto de entrenamiento utilizando un reporte de clasificación que incluye precisión, recall y F1-score."
   ]
  },
  {
   "cell_type": "code",
   "execution_count": 171,
   "id": "4354e13a-c0b9-4727-bbf1-60560db53896",
   "metadata": {},
   "outputs": [
    {
     "name": "stdout",
     "output_type": "stream",
     "text": [
      "Métricas para el conjunto de entrenamiento:\n",
      "              precision    recall  f1-score   support\n",
      "\n",
      "         3.0       0.97      0.98      0.98       974\n",
      "         4.0       0.94      1.00      0.97      1097\n",
      "         5.0       1.00      0.94      0.97      1146\n",
      "\n",
      "    accuracy                           0.97      3217\n",
      "   macro avg       0.97      0.97      0.97      3217\n",
      "weighted avg       0.97      0.97      0.97      3217\n",
      "\n"
     ]
    }
   ],
   "source": [
    "# Para el conjunto de entrenamiento\n",
    "print(\"Métricas para el conjunto de entrenamiento:\")\n",
    "print(classification_report(y_train, y_pred_train))"
   ]
  },
  {
   "cell_type": "markdown",
   "id": "8ed4e43b-ac02-4c93-82e5-36d80834949e",
   "metadata": {},
   "source": [
    "Evaluamos el rendimiento del modelo en el conjunto de entrenamiento utilizando un reporte de clasificación que incluye precisión, recall y F1-score."
   ]
  },
  {
   "cell_type": "code",
   "execution_count": 173,
   "id": "b46cafe9-ff33-45d4-85bb-c3daf11de2ab",
   "metadata": {},
   "outputs": [
    {
     "name": "stdout",
     "output_type": "stream",
     "text": [
      "Valores NaN en y_test:\n",
      "1764   NaN\n",
      "324    NaN\n",
      "Name: sdg, dtype: float64\n",
      "Valores NaN en y_pred_test:\n",
      "Series([], dtype: float64)\n"
     ]
    }
   ],
   "source": [
    "# Convertir y_pred_test a un objeto de pandas para poder usar isnull()\n",
    "y_pred_test_series = pd.Series(y_pred_test)\n",
    "\n",
    "# Verificar en qué posiciones están los NaN en y_test\n",
    "print(\"Valores NaN en y_test:\")\n",
    "print(y_test[y_test.isnull()])\n",
    "\n",
    "# Verificar si hay NaN en y_pred_test\n",
    "print(\"Valores NaN en y_pred_test:\")\n",
    "print(y_pred_test_series[y_pred_test_series.isnull()])"
   ]
  },
  {
   "cell_type": "markdown",
   "id": "44cc27d1-cb36-42fa-a03b-b3ec32a29553",
   "metadata": {},
   "source": [
    "Se crean índices válidos para y_test, es decir, aquellos donde no existen valores nulos (NaN). Estos índices se utilizarán para filtrar tanto y_test como y_pred_test. Se reinician los índices de ambas series para que coincidan y así poder realizar comparaciones y operaciones de filtrado de manera correcta. Descripción: Se utilizan los índices válidos para eliminar los valores NaN de ambas series. El resultado son dos series limpias (y_test_clean y y_pred_test_clean) que se pueden utilizar para el cálculo de las métricas.\n",
    "\n"
   ]
  },
  {
   "cell_type": "code",
   "execution_count": 175,
   "id": "fc39f7b0-5adb-4de9-83bf-80dfdc130c18",
   "metadata": {},
   "outputs": [
    {
     "name": "stdout",
     "output_type": "stream",
     "text": [
      "y_test_clean shape: (806,)\n",
      "y_pred_test_clean shape: (806,)\n"
     ]
    }
   ],
   "source": [
    "# Filtrar índices válidos solo en y_test, ya que y_pred_test no tiene NaN\n",
    "valid_indices = ~y_test.isnull()\n",
    "\n",
    "# Restablecer los índices para que coincidan\n",
    "y_test_reset = y_test.reset_index(drop=True)\n",
    "y_pred_test_reset = y_pred_test_series.reset_index(drop=True)\n",
    "\n",
    "# Filtrar ambos vectores para eliminar valores NaN de y_test y ajustar y_pred_test\n",
    "y_test_clean = y_test_reset[valid_indices.reset_index(drop=True)]\n",
    "y_pred_test_clean = y_pred_test_reset[valid_indices.reset_index(drop=True)]\n",
    "\n",
    "# Verificar la forma de los nuevos vectores limpios\n",
    "print(\"y_test_clean shape:\", y_test_clean.shape)\n",
    "print(\"y_pred_test_clean shape:\", y_pred_test_clean.shape)"
   ]
  },
  {
   "cell_type": "markdown",
   "id": "e9dae593-cba5-47cf-b067-283c73391c25",
   "metadata": {},
   "source": [
    "### 3.1.2 Predicción de clasificaciones"
   ]
  },
  {
   "cell_type": "code",
   "execution_count": 177,
   "id": "333393bd-ae69-4530-87bb-e7b5770bb4a3",
   "metadata": {},
   "outputs": [
    {
     "name": "stdout",
     "output_type": "stream",
     "text": [
      "Métricas para el conjunto de prueba limpio:\n",
      "              precision    recall  f1-score   support\n",
      "\n",
      "         3.0       0.58      0.53      0.56       264\n",
      "         4.0       0.57      0.61      0.59       255\n",
      "         5.0       0.58      0.57      0.58       287\n",
      "\n",
      "    accuracy                           0.57       806\n",
      "   macro avg       0.57      0.57      0.57       806\n",
      "weighted avg       0.57      0.57      0.57       806\n",
      "\n"
     ]
    }
   ],
   "source": [
    "# Para el conjunto de prueba\n",
    "# Para el conjunto de prueba limpio\n",
    "print(\"Métricas para el conjunto de prueba limpio:\")\n",
    "print(classification_report(y_test_clean, y_pred_test_clean))"
   ]
  },
  {
   "cell_type": "markdown",
   "id": "42dc4452-a1b7-472a-84a5-ec5debbf2219",
   "metadata": {},
   "source": [
    "### 3.1.3 Comparaciones finales"
   ]
  },
  {
   "cell_type": "markdown",
   "id": "6e4f31fe-f266-4ab7-bea8-857d8fb35ded",
   "metadata": {},
   "source": [
    "Se genera la matriz de confusión utilizando los valores predichos (y_pred_test_clean) y los valores verdaderos (y_test_clean). Luego, se visualiza la matriz utilizando un gráfico con el color Blues para representar las intensidades de las casillas en la matriz."
   ]
  },
  {
   "cell_type": "code",
   "execution_count": 180,
   "id": "17bf311b-c7e8-4c9e-9725-b8605664f8af",
   "metadata": {},
   "outputs": [
    {
     "data": {
      "image/png": "[encoded data removed]",
      "text/plain": [
       "<Figure size 640x480 with 2 Axes>"
      ]
     },
     "metadata": {},
     "output_type": "display_data"
    }
   ],
   "source": [
    "# Crear la matriz de confusión para el conjunto de prueba limpio\n",
    "cm = confusion_matrix(y_test_clean, y_pred_test_clean)\n",
    "\n",
    "# Mostrar la matriz de confusión\n",
    "disp = ConfusionMatrixDisplay(confusion_matrix=cm, display_labels=grid_search.classes_)\n",
    "disp.plot(cmap=plt.cm.Blues)\n",
    "plt.title('Matriz de Confusión (Conjunto de Prueba)')\n",
    "plt.xlabel('Predicciones')\n",
    "plt.ylabel('Valores verdaderos')\n",
    "plt.show()\n"
   ]
  },
  {
   "cell_type": "markdown",
   "id": "01dc393a-8c44-4568-b4bf-8136ddf687f2",
   "metadata": {},
   "source": [
    "El modelo muestra un rendimiento bastante bueno en el conjunto de entrenamiento con un accuracy del 97%, lo que sugiere un ajuste excesivo. Sin embargo, en el conjunto de prueba, el rendimiento disminuye significativamente, con un accuracy del 57%, que es un rendimiento medio y f1-scores en el rango de 0.56-0.58. La matriz de confusión revela que el modelo confunde frecuentemente clases adyacentes, indicando problemas para distinguir entre ellas, sin embargo, la mayoría de las evaluadas, las logra desarrollar con exito. En resumen, el modelo presenta sobreajuste y problemas de generalización, que no están mal, pero sería necesario o una buena práctica explorar ajustes adicionales o probar otros algoritmos para mejorar su rendimiento en los datos de prueba."
   ]
  },
  {
   "cell_type": "code",
   "execution_count": 182,
   "id": "ffcbd933-3aa4-482e-8747-6b4ca0bc26ed",
   "metadata": {},
   "outputs": [],
   "source": [
    "del data, features, naive_bayes_classifier, y_pred_train, y_pred_test"
   ]
  },
  {
   "cell_type": "markdown",
   "id": "b3f6f45d-14ed-4843-822e-f2fa48822dd2",
   "metadata": {},
   "source": [
    "## 3.3 Algoritmo de árbol de decisión (Alejandro Segura)"
   ]
  },
  {
   "cell_type": "markdown",
   "id": "e200c1c0-bc84-4ee8-a8cf-ac5369c5bc7c",
   "metadata": {},
   "source": [
    "### 3.3.0 Descripción del Algoritmo\n",
    "El algoritmo de árbol de decisión fue el único de los algoritmos de clasificación que aplicamos en este proyecto de los que estudiamos en clase. Los otros dos métodos utilizados son populares en la clasificación de textos, como se ve en este trabajo. Aun así, decidimos incluir el árbol de decisión como una referencia inicial y para comparar los resultados, además de familiarizarnos con su aplicación en la clasificación de textos.\n",
    "\n",
    "El funcionamiento de este algoritmo se basa en la división del conjunto de datos según las características específicas de las variables. Los principales hiperparámetros a ajustar son la profundidad del árbol, que determina cuántas subdivisiones se realizarán, y las características o columnas de decisión. Para decidir dónde hacer las divisiones, se calcula el coeficiente de Gini o la entropía (dependiendo del criterio seleccionado) para cada una de las características, eligiendo aquella que presente el valor más relevante. Este proceso se repite tantas veces como lo permitan los datos y la profundidad configurada del árbol, hasta formar subconjuntos bien definidos para cada clase en la tarea de clasificación."
   ]
  },
  {
   "cell_type": "code",
   "execution_count": 185,
   "id": "73632cd3-1c29-418d-8f57-91498c0ac45a",
   "metadata": {},
   "outputs": [],
   "source": [
    "data = data_prep.copy()\n",
    "label = 'sdg'\n",
    "features = data.columns.to_list()\n",
    "features.remove(label)"
   ]
  },
  {
   "cell_type": "code",
   "execution_count": 186,
   "id": "1d4fe985-eadd-4906-8691-175e16839baf",
   "metadata": {},
   "outputs": [],
   "source": [
    "data = data.dropna(axis=0)\n",
    "data = data.dropna(axis=1)"
   ]
  },
  {
   "cell_type": "markdown",
   "id": "a4d392bc-361c-494b-bed2-e904b5c34501",
   "metadata": {},
   "source": [
    "### 3.3.1 Definición del modelo y Parametrización"
   ]
  },
  {
   "cell_type": "code",
   "execution_count": 188,
   "id": "35bef842-09f9-4105-89ac-115df1fe299b",
   "metadata": {},
   "outputs": [],
   "source": [
    "#División del conjunto de datos en entrenamiento y prueba\n",
    "\n",
    "x_train, x_test, y_train, y_test = train_test_split(data[features], data[label], test_size=0.2, random_state=1)"
   ]
  },
  {
   "cell_type": "code",
   "execution_count": 189,
   "id": "785a0518-3adf-4b29-833a-ffd931a0a1bf",
   "metadata": {},
   "outputs": [
    {
     "name": "stdout",
     "output_type": "stream",
     "text": [
      "Fitting 5 folds for each of 3 candidates, totalling 15 fits\n",
      "Mejor profundidad encontrada: 2000\n",
      "F1 score del mejor modelo encontrado: 0.6719856817111612\n"
     ]
    }
   ],
   "source": [
    "# Definimos los parámetros sobre los que queremos realizar la búsqueda de grilla\n",
    "param_grid = {\n",
    "    'max_depth': [2000, 2061, 2250]  # Lista de valores de profundidad que queremos probar\n",
    "}\n",
    "\n",
    "# Creamos el objeto de árbol de decisión\n",
    "arbol = DecisionTreeClassifier(criterion='entropy', random_state=0)\n",
    "\n",
    "# Creamos el objeto GridSearchCV\n",
    "grid_search = GridSearchCV(estimator=arbol, param_grid=param_grid, cv=5, scoring='f1_weighted', verbose=1)\n",
    "\n",
    "# Ejecutamos la búsqueda de grilla en los datos de entrenamiento\n",
    "grid_search.fit(x_train, y_train)\n",
    "\n",
    "# Obtenemos los resultados de la búsqueda\n",
    "print(\"Mejor profundidad encontrada:\", grid_search.best_params_['max_depth'])\n",
    "print(\"F1 score del mejor modelo encontrado:\", grid_search.best_score_)"
   ]
  },
  {
   "cell_type": "code",
   "execution_count": 190,
   "id": "3e855d24-69ac-41c0-9bb3-912df6d9b632",
   "metadata": {},
   "outputs": [
    {
     "name": "stdout",
     "output_type": "stream",
     "text": [
      "F1 score del modelo final sobre el conjunto test: 0.6853748066479135\n"
     ]
    }
   ],
   "source": [
    "# Entrenamos el modelo final con la mejor profundidad encontrada\n",
    "best_depth = grid_search.best_params_['max_depth']\n",
    "arbol_final = DecisionTreeClassifier(criterion='entropy', max_depth=best_depth, random_state=0)\n",
    "arbol_final.fit(x_train, y_train)\n",
    "\n",
    "# Determinamos las predicciones del modelo final sobre el conjunto test.\n",
    "y_pred_final = arbol_final.predict(x_test)\n",
    "\n",
    "# Calculamos el F1 score del modelo final sobre el conjunto test\n",
    "f1_final = f1_score(y_test, y_pred_final, average='weighted')\n",
    "print(\"F1 score del modelo final sobre el conjunto test:\", f1_final)"
   ]
  },
  {
   "cell_type": "code",
   "execution_count": 191,
   "id": "794c9b2c-24ea-4706-a3e4-0f53233d374b",
   "metadata": {},
   "outputs": [
    {
     "data": {
      "image/png": "[encoded data removed]",
      "text/plain": [
       "<Figure size 640x480 with 2 Axes>"
      ]
     },
     "metadata": {},
     "output_type": "display_data"
    }
   ],
   "source": [
    "# Se genera la matriz de confusión\n",
    "cm = confusion_matrix(y_test, y_pred_final)\n",
    "# Se puede visualizar la matriz de confusión\n",
    "disp = ConfusionMatrixDisplay(confusion_matrix=cm, display_labels=arbol_final.classes_)\n",
    "disp.plot(cmap=plt.cm.Blues)\n",
    "\n",
    "plt.show()"
   ]
  },
  {
   "cell_type": "code",
   "execution_count": 192,
   "id": "242f5a3f-7728-4b33-8483-28a513159b5b",
   "metadata": {},
   "outputs": [
    {
     "name": "stdout",
     "output_type": "stream",
     "text": [
      "              precision    recall  f1-score   support\n",
      "\n",
      "         3.0       0.69      0.66      0.68       256\n",
      "         4.0       0.67      0.73      0.70       260\n",
      "         5.0       0.70      0.66      0.68       289\n",
      "\n",
      "    accuracy                           0.69       805\n",
      "   macro avg       0.69      0.69      0.69       805\n",
      "weighted avg       0.69      0.69      0.69       805\n",
      "\n"
     ]
    }
   ],
   "source": [
    "# Mostrar reporte de clasificación\n",
    "print(classification_report(y_test, y_pred_final))"
   ]
  },
  {
   "cell_type": "code",
   "execution_count": 193,
   "id": "7d649739-7118-43e9-97e1-8f87bc0fde2d",
   "metadata": {},
   "outputs": [],
   "source": [
    "del  param_grid, arbol, grid_search, best_depth, arbol_final, y_pred_final, data, x_train, x_test, y_train, y_test"
   ]
  },
  {
   "cell_type": "markdown",
   "id": "03a7b852-187e-4a19-bb96-20b96293022a",
   "metadata": {},
   "source": [
    "# 4. Resultados"
   ]
  },
  {
   "cell_type": "markdown",
   "id": "1f922683-c0f0-4abe-a035-1a8c83b45585",
   "metadata": {},
   "source": [
    "Teniendo en cuenta las métricas de Testing de los tres modelos, decidimos que regresión logística era el modelo más adecuado para la tarea. Como evidenciamos en el analisis de este, el modelo está clasificando correctamente una gran cantidad de registros para cada clase. Además es el modelo con métricas más altas, por lo que interpretamos que regresión logística es el más capaz de ofrecer un rendimiento sólido y equilibrado en términos de precisión y capacidad de clasificación para esta tarea específica."
   ]
  },
  {
   "cell_type": "markdown",
   "id": "19cd624f-27e5-4804-82c1-d14a262feb32",
   "metadata": {},
   "source": [
    "Ahora se revisarán las palabras más significativas para cada ODS, esto nos ayudará a entender mejor como el modelo realizo su clasificación"
   ]
  },
  {
   "cell_type": "code",
   "execution_count": 197,
   "id": "1275cdc7-a010-487b-b834-53ae8ffceb4c",
   "metadata": {},
   "outputs": [
    {
     "name": "stdout",
     "output_type": "stream",
     "text": [
      "#################### Clase ODS 3.0 ####################\n",
      "          palabra  coeficiente  signo\n",
      "0        maternal    10.079869    1.0\n",
      "1       consultir    10.088350    1.0\n",
      "2         inmuebl    10.151057    1.0\n",
      "3   sensibilizado    10.184133    1.0\n",
      "4          parado    10.493385    1.0\n",
      "5       limitadas    10.675433    1.0\n",
      "6           patto    10.834028    1.0\n",
      "7          sostar    10.964242   -1.0\n",
      "8          lentar    11.198060    1.0\n",
      "9        ciclista    11.280876   -1.0\n",
      "10      asesorado    11.331344    1.0\n",
      "11           wood    11.368443   -1.0\n",
      "12      divergent    11.674851   -1.0\n",
      "13      talentoso    11.842651   -1.0\n",
      "14       dignidad    11.971143    1.0\n",
      "15          piano    12.970105   -1.0\n",
      "16        traerir    13.768040    1.0\n",
      "17      catastrof    15.399554    1.0\n",
      "18        cuadrar    15.877566    1.0\n",
      "19      bernhardt    16.124016   -1.0\n",
      "\n",
      "#################### Clase ODS 4.0 ####################\n",
      "         palabra  coeficiente  signo\n",
      "0     importante    10.465263    1.0\n",
      "1         origen    10.474246   -1.0\n",
      "2      adquirido    10.475489    1.0\n",
      "3       inducida    10.504500    1.0\n",
      "4     oncologica    10.546670   -1.0\n",
      "5         klieme    10.685747   -1.0\n",
      "6       calorico    11.016605    1.0\n",
      "7        soltera    11.117306    1.0\n",
      "8       adelante    11.361182   -1.0\n",
      "9        cuadrar    11.379772   -1.0\n",
      "10     sectorial    11.393150   -1.0\n",
      "11      tolerada    11.506986    1.0\n",
      "12      ciclista    11.586261    1.0\n",
      "13         temas    11.605798   -1.0\n",
      "14          wood    11.857207   -1.0\n",
      "15   sacrificiir    11.977001   -1.0\n",
      "16    sobrecargo    12.445148    1.0\n",
      "17       inmuebl    12.871206   -1.0\n",
      "18  consiguiente    12.990871    1.0\n",
      "19           ddd    13.237338    1.0\n",
      "\n",
      "#################### Clase ODS 5.0 ####################\n",
      "           palabra  coeficiente  signo\n",
      "0        difundido    10.630865    1.0\n",
      "1           vyzovy    10.699009    1.0\n",
      "2          cuantas    10.713341    1.0\n",
      "3   antibacteriano    10.740687    1.0\n",
      "4        letalidad    10.816371    1.0\n",
      "5        limitadas    10.834232   -1.0\n",
      "6              tmm    11.276311    1.0\n",
      "7          afectar    11.352333   -1.0\n",
      "8        recibirar    11.430248   -1.0\n",
      "9          contado    11.872000   -1.0\n",
      "10        escalafn    12.007651   -1.0\n",
      "11       talentoso    12.023016    1.0\n",
      "12  escrupulosidad    12.500453   -1.0\n",
      "13     estructurir    12.710865    1.0\n",
      "14     sacrificiir    12.936706    1.0\n",
      "15            obra    13.222613    1.0\n",
      "16         traerir    13.770140   -1.0\n",
      "17            gran    14.504823    1.0\n",
      "18           piano    17.723337    1.0\n",
      "19            wood    19.090018    1.0\n",
      "\n"
     ]
    },
    {
     "name": "stderr",
     "output_type": "stream",
     "text": [
      "C:\\Users\\Santiago\\AppData\\Local\\Temp\\ipykernel_23572\\2452123632.py:30: RuntimeWarning: invalid value encountered in divide\n",
      "  coefs_sign = coefs / abs(coefs)\n",
      "C:\\Users\\Santiago\\AppData\\Local\\Temp\\ipykernel_23572\\2452123632.py:30: RuntimeWarning: invalid value encountered in divide\n",
      "  coefs_sign = coefs / abs(coefs)\n",
      "C:\\Users\\Santiago\\AppData\\Local\\Temp\\ipykernel_23572\\2452123632.py:30: RuntimeWarning: invalid value encountered in divide\n",
      "  coefs_sign = coefs / abs(coefs)\n"
     ]
    }
   ],
   "source": [
    "data = data_prep.copy()\n",
    "label = 'sdg'\n",
    "features = data.columns.to_list()\n",
    "features.remove(label)\n",
    "data = data.dropna(axis=0)\n",
    "data = data.dropna(axis=1)\n",
    "#División del conjunto de datos en entrenamiento y prueba\n",
    "x_train, x_test, y_train, y_test = train_test_split(data[features], data[label], test_size=0.2, random_state=1)\n",
    "params_logreg = {'C': [800],\n",
    "                 'solver': ['newton-cg', 'lbfgs', 'liblinear'],\n",
    "                 'penalty': ['l2']}\n",
    "\n",
    "particiones = KFold(n_splits=10, shuffle=True, random_state=0)\n",
    "linearR = LogisticRegression()\n",
    "linearR = GridSearchCV(linearR, params_logreg, cv=particiones, n_jobs=-1, scoring='f1_weighted')\n",
    "linearR.fit(x_train, y_train)\n",
    "y_pred_train = linearR.predict(x_train)\n",
    "y_pred_test = linearR.predict(x_test)\n",
    "# Obtener el mejor modelo encontrado por GridSearchCV\n",
    "best_model = linearR.best_estimator_\n",
    "\n",
    "# Iterar sobre cada clase de ODS\n",
    "for i, ods_class in enumerate(best_model.classes_):\n",
    "    print(f\"#################### Clase ODS {ods_class} ####################\")\n",
    "    \n",
    "    # Obtener los coeficientes para la clase actual\n",
    "    coefs = best_model.coef_[i].flatten()  # Coeficientes de la clase i\n",
    "    \n",
    "    # Obtener el signo de los coeficientes\n",
    "    coefs_sign = coefs / abs(coefs)\n",
    "    \n",
    "    # Tomar el valor absoluto de los coeficientes\n",
    "    coefs_abs = abs(coefs)\n",
    "    \n",
    "    # Ordenar los coeficientes para encontrar los más significativos\n",
    "    top_indices = coefs_abs.argsort()[-20:]  # Selecciona los 20 más altos\n",
    "    \n",
    "    # Obtener las características (palabras) más importantes para esta clase\n",
    "    top_features = x_train.columns[top_indices] \n",
    "    \n",
    "    # Crear un DataFrame con la información de las palabras y sus coeficientes\n",
    "    class_data = pd.DataFrame({'palabra': top_features, \n",
    "                               'coeficiente': coefs_abs[top_indices], \n",
    "                               'signo': coefs_sign[top_indices]})\n",
    "    \n",
    "    # Mostrar la tabla de características más importantes para la clase actual\n",
    "    print(class_data)\n",
    "    print()\n"
   ]
  },
  {
   "cell_type": "markdown",
   "id": "e3ff78d3-a291-43da-b993-8c5996da4afc",
   "metadata": {},
   "source": [
    "Teniendo los resultados de las palabras más importantes para cada ODS, se realizará una descripción general de los resultados.\n",
    "\n",
    "### Análisis completos de los resultados\n",
    "El modelo de regresión logística ha mostrado un rendimiento sólido en la clasificación de opiniones ciudadanas. Los resultados en el conjunto de prueba son los siguientes:\n",
    "\n",
    "Precisión, Recall y F1-Score:\n",
    "* ODS 3 (Salud y bienestar):\n",
    "    - Precisión: 0.73\n",
    "    - Recall: 0.73\n",
    "    - F1-Score: 0.73\n",
    "* ODS 4 (Educación de calidad):\n",
    "    - Precisión: 0.74\n",
    "    - Recall: 0.79\n",
    "    - F1-Score: 0.76\n",
    "* ODS 5 (Igualdad de género):\n",
    "    - Precisión: 0.78\n",
    "    - Recall: 0.74\n",
    "    - F1-Score: 0.76\n",
    "* Promedio General:\n",
    "    - Precisión Macro: 0.75\n",
    "    - Recall Macro: 0.75\n",
    "    - F1-Score Macro: 0.75\n",
    "    - Precisión Ponderada: 0.75\n",
    "    - Recall Ponderado: 0.75\n",
    "    - F1-Score Ponderado: 0.75\n",
    "\n",
    "#### Análisis de Palabras Clave por Clase\n",
    "Las palabras más frecuentes y sus coeficientes para cada ODS ofrecen una visión sobre qué términos son más influyentes en la clasificación:\n",
    "\n",
    "* ODS 3 (Salud y bienestar):\n",
    "    - Palabras como \"maternal,\" \"sensibilizado,\" y \"dignidad\" tienen coeficientes positivos, sugiriendo su asociación con este ODS.\n",
    "    - Palabras como \"ciclista\" y \"divergent\" tienen coeficientes negativos, indicando menor relevancia para salud y bienestar.\n",
    "\n",
    "\n",
    "* ODS 4 (Educación de calidad):\n",
    "\n",
    "    - Términos como \"importante,\" \"adquirido,\" y \"tolerada\" son altamente relevantes y positivos para la educación.\n",
    "    - Palabras como \"oncológica\" y \"sacrificiir\" tienen coeficientes negativos, reflejando menor relevancia para el contexto educativo.\n",
    "\n",
    "\n",
    "* ODS 5 (Igualdad de género):\n",
    "    - Palabras como \"difundido,\" \"antibacteriano,\" y \"letalidad\" son significativas y tienen coeficientes positivos en la clasificación para igualdad de género.\n",
    "    - Palabras como \"afectar\" y \"recibirar\" muestran coeficientes negativos, sugiriendo asociación con contextos menos pertinentes para la igualdad de género.\n",
    "\n",
    "#### Contribución a los Objetivos del Negocio\n",
    "1. Mejora en la Precisión Predictiva: El modelo de regresión logística ha mostrado una precisión general del 75% en la clasificación de opiniones. Este desempeño permite una mejor predicción de avances y áreas de mejora en los ODS 3, 4 y 5, ayudando a identificar con mayor precisión los problemas relevantes.\n",
    "\n",
    "2. Identificación de Áreas Críticas: La capacidad del modelo para identificar términos clave asociados con cada ODS proporciona una herramienta útil para las entidades gubernamentales y ONGs para focalizar sus esfuerzos en áreas críticas. Los coeficientes positivos y negativos de las palabras ofrecen una guía sobre qué aspectos se deben priorizar para abordar las problemáticas específicas de cada ODS.\n",
    "\n",
    "3. Capacidad de Toma de Decisiones: La información detallada sobre las palabras más influyentes y el rendimiento del modelo permite a los responsables de políticas y organizaciones tomar decisiones informadas. Al saber qué términos están relacionados con cada ODS, pueden ajustar sus estrategias y asignar recursos de manera más efectiva.\n",
    "\n",
    "4. Reducción de la Dispersión de Datos: El modelo ayuda a estandarizar y consolidar la información dispersa de diversas fuentes, facilitando el análisis y la toma de decisiones. Esto contribuye a unificar la información de los ODS y mejorar la coordinación entre diferentes entidades.\n",
    "\n",
    "#### Conclusión\n",
    "El modelo de regresión logística no solo proporciona una evaluación precisa de las opiniones ciudadanas en relación con los ODS, sino que también ofrece insights valiosos que pueden ser utilizados para mejorar políticas y estrategias en áreas clave. Esta capacidad predictiva y analítica fortalece el enfoque hacia el cumplimiento de los ODS en Colombia y puede servir como un modelo para otros países enfrentando desafíos similares.\n"
   ]
  },
  {
   "cell_type": "markdown",
   "id": "1087d1bc-69c2-4153-a3b0-c2bd88d0d297",
   "metadata": {},
   "source": [
    "## 4.1 Etiqueta de datos"
   ]
  },
  {
   "cell_type": "code",
   "execution_count": 200,
   "id": "f8f4e745-1653-4cdf-b057-7d299a1b94b8",
   "metadata": {},
   "outputs": [],
   "source": [
    "# Leer el archivo Excel\n",
    "df_sin_corregir2 = pd.read_excel('data/TestODScat_345.xlsx', engine='openpyxl')\n",
    "\n",
    "# Aplicar la función de reemplazo a la columna de texto\n",
    "df_sin_corregir2['Textos_espanol'] = df_sin_corregir['Textos_espanol'].apply(reemplazar_caracteres)\n",
    "\n",
    "# Guardar el DataFrame corregido como archivo CSV con codificación utf-8\n",
    "df_sin_corregir2.to_csv('data/TestODScat_345corregido.csv', index=False)\n",
    "\n",
    "# Leer el archivo CSV para verificar\n",
    "data2 = pd.read_csv('data/TestODScat_345corregido.csv') \n",
    "dataog = data2.copy()"
   ]
  },
  {
   "cell_type": "code",
   "execution_count": 201,
   "id": "4fb41510-36e7-4a7e-803b-2ba6f598fad6",
   "metadata": {},
   "outputs": [],
   "source": [
    "# Preprocesamiento\n",
    "# Funciones de limpieza y preprocesamiento\n",
    "data2['words'] = data2['Textos_espanol'].apply(preprocessing)\n",
    "data2['words'] = data2['words'].apply(word_tokenize)\n",
    "data2['words'] = data2['words'].apply(remove_stopwords)\n",
    "data2['words'] = data2['words'].apply(deleteWrongWords)\n",
    "\n",
    "nlp = spacy.load(\"es_core_news_sm\")\n",
    "def lemmatize_verbs(words):\n",
    "    doc = nlp(\" \".join(words))\n",
    "    return [token.lemma_ for token in doc]\n",
    "\n",
    "data2['words'] = data2['words'].apply(lemmatize_verbs)\n",
    "data2['words'] = data2['words'].apply(lambda x: ' '.join(map(str, x)))\n",
    "\n",
    "# Creación de matriz TF-IDF\n",
    "tf_idf = TfidfVectorizer()\n",
    "X_tf_idf = tf_idf.fit_transform(data2['words'])\n",
    "\n",
    "# Integración de las etiquetas\n",
    "data_new = pd.DataFrame(X_tf_idf.toarray(), columns=tf_idf.get_feature_names_out())"
   ]
  },
  {
   "cell_type": "code",
   "execution_count": 202,
   "id": "206c48ff-7046-46df-b230-c5f24e8f9625",
   "metadata": {},
   "outputs": [],
   "source": [
    "del data2"
   ]
  },
  {
   "cell_type": "code",
   "execution_count": 203,
   "id": "678f91ad-86cf-40d7-938b-d9fbe2585582",
   "metadata": {},
   "outputs": [],
   "source": [
    "# ordena correctamente los features\n",
    "data_new = data_new.reindex(columns=linearR.feature_names_in_)"
   ]
  },
  {
   "cell_type": "code",
   "execution_count": 204,
   "id": "421ad448-e6f7-4ac7-a2fc-393a31759f24",
   "metadata": {},
   "outputs": [],
   "source": [
    "# Replaces Nan values from refit  with 0\n",
    "\n",
    "data_new.fillna(0, inplace=True)"
   ]
  },
  {
   "cell_type": "code",
   "execution_count": 205,
   "id": "f2dfc424-64ee-4ba7-9687-7ed8a3ec36e7",
   "metadata": {},
   "outputs": [],
   "source": [
    "# Get the features present in the training data but not in the test data\n",
    "missing_features = set(data_prep.columns) - set(data_new.columns)\n",
    "\n",
    "# Get the features present in the test data but not in the training data\n",
    "extra_features = set(data_new.columns) - set(data_prep.columns)"
   ]
  },
  {
   "cell_type": "code",
   "execution_count": 206,
   "id": "249dbed4-d192-448d-b682-3b51b2633cbe",
   "metadata": {},
   "outputs": [],
   "source": [
    "# Add the missing features to the test data with a default value (e.g., 0)\n",
    "for feature in missing_features:\n",
    "    data_new[feature] = 0"
   ]
  },
  {
   "cell_type": "code",
   "execution_count": 207,
   "id": "39f4c4b1-e62f-4b6d-a7d4-beb36e33ff00",
   "metadata": {},
   "outputs": [],
   "source": [
    "# Drop the extra features from the test data\n",
    "data_new.drop(columns=extra_features, inplace=True)"
   ]
  },
  {
   "cell_type": "code",
   "execution_count": 208,
   "id": "f3324109-9a89-4c39-97e5-57db87d23148",
   "metadata": {},
   "outputs": [],
   "source": [
    "# Ensure that the data types of the features in the test data match those in the training data\n",
    "for feature in data_prep.columns:\n",
    "    data_new[feature] = data_new[feature].astype(data_prep[feature].dtype)"
   ]
  },
  {
   "cell_type": "code",
   "execution_count": 209,
   "id": "5842f6c4-f306-402c-a0b6-7ccb23ab37c7",
   "metadata": {},
   "outputs": [],
   "source": [
    "# remove the class column from data_new\n",
    "\n",
    "data_new = data_new.drop('sdg', axis=1)"
   ]
  },
  {
   "cell_type": "code",
   "execution_count": 210,
   "id": "c2e4f929-29f6-45cc-ae15-233f033d02d1",
   "metadata": {},
   "outputs": [],
   "source": [
    "# normalize all rows in the dataframe agian\n",
    "\n",
    "data_new = data_new.apply(lambda x: (x - x.min()) / (x.max() - x.min()), axis=1)"
   ]
  },
  {
   "cell_type": "code",
   "execution_count": 211,
   "id": "74342e83-f077-40cb-a8a0-11f81850d40d",
   "metadata": {},
   "outputs": [],
   "source": [
    "# Etiquetar los datos usando el mejor modelo entrenado\n",
    "dataog['sdg'] = linearR.predict(data_new)\n",
    "dataog['sdg'] = dataog['sdg'].astype(int)\n",
    "# Exportar el archivo con datos etiquetados\n",
    "dataog.to_csv(\"TestODScat_345etiquetado.csv\", index=False)"
   ]
  },
  {
   "cell_type": "code",
   "execution_count": 212,
   "id": "e82aa1e1-8fb6-47c1-9a5d-448238d16201",
   "metadata": {},
   "outputs": [
    {
     "data": {
      "text/html": [
       "<div>\n",
       "<style scoped>\n",
       "    .dataframe tbody tr th:only-of-type {\n",
       "        vertical-align: middle;\n",
       "    }\n",
       "\n",
       "    .dataframe tbody tr th {\n",
       "        vertical-align: top;\n",
       "    }\n",
       "\n",
       "    .dataframe thead th {\n",
       "        text-align: right;\n",
       "    }\n",
       "</style>\n",
       "<table border=\"1\" class=\"dataframe\">\n",
       "  <thead>\n",
       "    <tr style=\"text-align: right;\">\n",
       "      <th></th>\n",
       "      <th>Count</th>\n",
       "      <th>count</th>\n",
       "    </tr>\n",
       "  </thead>\n",
       "  <tbody>\n",
       "    <tr>\n",
       "      <th>0</th>\n",
       "      <td>5</td>\n",
       "      <td>273</td>\n",
       "    </tr>\n",
       "    <tr>\n",
       "      <th>1</th>\n",
       "      <td>4</td>\n",
       "      <td>254</td>\n",
       "    </tr>\n",
       "    <tr>\n",
       "      <th>2</th>\n",
       "      <td>3</td>\n",
       "      <td>175</td>\n",
       "    </tr>\n",
       "  </tbody>\n",
       "</table>\n",
       "</div>"
      ],
      "text/plain": [
       "   Count  count\n",
       "0      5    273\n",
       "1      4    254\n",
       "2      3    175"
      ]
     },
     "execution_count": 212,
     "metadata": {},
     "output_type": "execute_result"
    }
   ],
   "source": [
    "# imprime la distribucion de las etiqutas class\n",
    "\n",
    "dataog['sdg'].value_counts().to_frame().reset_index().rename(columns={'index':'sdg', 'sdg':'Count'})\n"
   ]
  }
 ],
 "metadata": {
  "kernelspec": {
   "display_name": "Python 3 (ipykernel)",
   "language": "python",
   "name": "python3"
  },
  "language_info": {
   "codemirror_mode": {
    "name": "ipython",
    "version": 3
   },
   "file_extension": ".py",
   "mimetype": "text/x-python",
   "name": "python",
   "nbconvert_exporter": "python",
   "pygments_lexer": "ipython3",
   "version": "3.12.3"
  }
 },
 "nbformat": 4,
 "nbformat_minor": 5
}
